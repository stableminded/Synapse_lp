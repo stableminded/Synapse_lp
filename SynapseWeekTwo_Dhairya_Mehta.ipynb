{
  "nbformat": 4,
  "nbformat_minor": 0,
  "metadata": {
    "colab": {
      "provenance": [],
      "toc_visible": true,
      "include_colab_link": true
    },
    "kernelspec": {
      "name": "python3",
      "display_name": "Python 3"
    },
    "language_info": {
      "name": "python"
    }
  },
  "cells": [
    {
      "cell_type": "markdown",
      "metadata": {
        "id": "view-in-github",
        "colab_type": "text"
      },
      "source": [
        "<a href=\"https://colab.research.google.com/github/stableminded/Synapse_lp/blob/Week_2/SynapseWeekTwo_Dhairya_Mehta.ipynb\" target=\"_parent\"><img src=\"https://colab.research.google.com/assets/colab-badge.svg\" alt=\"Open In Colab\"/></a>"
      ]
    },
    {
      "cell_type": "markdown",
      "source": [
        "#**Synapse Week Two**\n",
        "\n",
        "![image.png](data:image/png;base64,iVBORw0KGgoAAAANSUhEUgAAAGsAAAB0CAYAAACCP8xCAAAAAXNSR0IArs4c6QAAAARnQU1BAACxjwv8YQUAAAAJcEhZcwAADsMAAA7DAcdvqGQAAEbeSURBVHhe7b1psCTXeSV2KpfKrP3V27fe90aju7GvBCluIkFxhpImNEMtI8d4bI9DY8dEOOxwhP/YP+wI2/PDjrB/TITtibE1CmmGlihSIkWCBAGI2JcG0I1Go/fl9duX2quycimfc/M9AqJI4kEACMDA7a5XVVmZN+/9lvOd7+bNm5m9e/cO8En5SBRr8/2T8hEonyjrI1Q+UdZHqHzMlTVARq+BBWtg850vbc4k5rcPW/mYKyuDRC8rRpIJMTCviNtjvj5R1oesUCGZ2CgotkPEVBqSLKy4SC9zN/f58JSPtbIEf07swo6loBy/e1ScRCLPEhR+uMrH27MUm+hVilsWncwa6HuA2GljYAkOP1zlY62sxHYQF8qIHNtAoZQlkoEkT4R0Nvf68JSPhbIGg8HfeCVJCnHFyh5Ud3wNlYn7CHols80iBIp2fBjLBzbcZCjyT4RiG1aWwlGEHi3dizKIM9xOqMpHEd8H6LoZuDxkQOvPxg4a/FKOLCRlB7Y3DTtrIXRciruAjp1Fzy2hGNvo+EU4NEvLzsC2GaNsxibbZ6wCyl0Xjt1G1FpEdPWH6PdrCHmeBPI0/hbniZbc0QrZBqqSeCnI/CDKB6asJCPVEHJYnEFIAQyoHAtRJotc0qBCPFAPhKcYbkzF0eYTKhG5YVjju4AoRGbuJSrAgj1yGI2hI1gbPoLAH6dgXVN3hgIfZHw4SZtnoUcZ5WfZa0IcIc+LutjZWIB949vIIsBQaT9W23Po1a/C7vSpMLbJ7pLa8xAaiJ1Q2QmhU6zxAyh2tVr9bzc//1KLUZBhXSryKv2l1XJbz8qDIuFnCph/I3pBPLIbye570Dz+u4imj6D0xo+QqYwgLk4hOvRFWM3rqCw8j3x7nuGGtNvJUTE51tozCpKiaAGwBwFfUgQNwLLhR32U6lfQ2jiFjd4S8vlZlIozyFDJQVSnsmVIWdPCNGEW8fhgoscHpqzApjDZaRchv9GC6Q2x8QbKmR4RWg4JQBbu6B70jz6M9aP/AM29X0CfnlV95Y+Qy/Sw48DtWF2aQ233r6B28FdJFqZR6iyisPQ08vVr8Aid/ZxPRfnGk1R36l06j8gEFUGIK/TWkTQukAgOELbqiAY9eJUhFEs7EYeEYCrNSaRsmlOqMf35pZcPTFk2Y5ODPq02ofCoHgrQonDlcQOCEsZ2Ijj5D7F86++hPns3wsIUt/sYvfYIcpf/GmN3349SqYhk4XWqNoe12QfRrexHe/wEouHdKLZvIHftMXit63CdLGOaj75NEmF5FLoBVQpe+Ma4JUhdOUeI65kwGvdX0O3W2K4+RkZOwMoOoxet0KnYMmKi4tYHUT4wZSlGRRScIE+C82jNMbdZ1WnggX+K5Tv/Y2yM3AGHcNYnrA2sDIZq5zD06h9hfHIE5R1HULE6WAs8bNS6wMh+9L08Yn8MveIuNGbuQX/6OEpLp+G98S1kOmtw/AIJSIF1+VQUDcJ4soN8P4S38QyimLTCCUheXFgkOEFQQ71zCcXiXowOn0QnZDwL6Y00qg+ivM/KUqdIl6kOm4og7vD7m3ivYVSb27K0+mj8CDp3/VPM3/NfYq16K72AuQ7zoMhi3GGC6gVr8C8+iWr7NUzf8inGlhxhc4J11tGfO4PO6DH0SlM0gobxnITK7Xtl1Hc/jOzMLXBbNzF8/RGMtK4g43oI6c0umSYBmMrpoNyZR9iuE5QJmYJIKzCkIhNl0elcYfxaw9DYrRjkRjAIW0gY9zLqk+mP4FGUPyVM5vtb/r5X5X1WlmWaqhjh0mopSTI+x3hSTEU45XGEO+5E69bfQv3Y11EbPUEhSzk90uUM9wsoBHaYUFldfAUjZ/8dpvYeRmV6PzJekQoN4JKKd+avkqYX0Ro9zrOJCeqsfBHmJMRObgd6O25HQO+z2msozj0Lv3GF8BhjQHqv/Yq9AMnGeYqb75agmcdTWRaDlE3lR/0mOq0N5HgerzpL+k9jIWwOIjJLngOZNpVX4HtKijQ6kjEKTI1S7++2vK/KStj1gSg6G9536GGkvIJ7e3gXGdzn0Dry97Fy6DfQGjmGPq0dIhvqeOKxo1QUtC1GLmhg+un/BdWihTJJReKVUB0bR6fbYoyLETbWEa9eRWfmPoSML27cMAYixUHxj7EnpqcGxR0Ix08iqe5jzT34q+fgrZ8jk49QZAoQrb1GYxLby7KdNDR9pvAV25QKJFRkr7dIgtmHlx+FX56kYdkkIYvM2dRWGYiITOpRWyp66993U95XZYmGZ5VQasCUQvUKB9G687exdux3sD77WXTKO2nFEio7Z4I9BUTiYdOiEzvtsM3jx0/9XyjefB5Dxx8gIy8ZS3VoBL12i5ZNyKMXLs9dBnbewQS4QuFS6fRcCZoS54tKM/UyJjFWxflhGswMOz+BEglI5vpTyBeOEI7ziIIN7krfEPNTy1hXQgOSh0vcND+ESYBADJL7DDHHyxbYD7JTN8OYGLdNv61EhqJzqxaVd6+s9zUp1qhDZGWpMI1GxCje9mW0h25BY/wANjwmtqTUJteiEKUwicMIyC7yL2MPf5u++QzKj/x3qNz+JYxNTTGi0NptxhKXJIFH05ARkF5ffvqv0J66HfO3/6dMCxzk+qvIRW1UScn7y3PIUgnZ7jrQWUXcXGB82mBizWSByXeW0Fbd8znMl/ZiqL+OfHSdZKfIZhGwKeOBRbbIsznMt1wSosil4slkB/TcgEyzHe6Vg8EOzyG49n30m8usl7khIX9ASE8Vr9j27kT9vipLlmyzwYKW3Ng0rOJuCuo6Br0I/awHv1phrKmiO3wInaGD6PqjPMilgm2yQ5vCvYLqc/8GxbiJyjEyw9BCm0ksSAhiCtrqd5Dp1tEl9e6tLhPqiojHjwEb12AHLUQmf/XQ96kQKtjyCugXR9HKVpnMleDzu0OmWWw1UQpISJTXhTV06y+gxzwtE0fkKo5RlEZDZFQaW8wQAWJ5rIRPg8yWxlGZ+ip6cR/dxR8Qlq8SFpknsu+J3aGXCT0+5MpysnkM7z+B7soVDO8+itLf+y/gMM6E9UV01hbQW1tFb30BoCWGDN7paAWjSbaCOKYQ5s4yjK0hMzKNSkKFKJxRbAnjSzc7xM8+XNdBkOP+jElDV36AePIEmpXDVEwePa+MIFsm1XYVoQiBhCa6okOhVoIuyu0V5NZfpWDn4RMGMwljGw0DUQ8h86wW2zUIN+gZVBCNR7E3sZQbUvADl9voeWSqpaG9yJUPohm1aEg9dJZPwaZuNUIiZemamciKjn835T1RlqGwwnQ1nganwVi4Bey597PYcf+XcfmJ76Bz8zJ2/fP/A3ZWnSRj0jEUmpSCdgPN1WvoLF1H0F1lgrqEjfPPImlsKOrBIwGw9t2P1iRjkjOEgUcF0TsiJrl2lkrI5agID5NP/U+wu13M7fs9qr2TemhCcsM4xUgj0IQfxBhlGlCuk0wsn0XcukF2t48KzTJe3SRDPYLu6ssoFGaZlw2j2b6GLpmjQwpv/MtlnEzokUzebRIhkf+R/Q+jvfQM41WI0sRRdJcvok9DkGIlFytWXpdC/bsp8s13XaQg0gfmLjYceoDi1KEv/SOc/Oo/wdjeY5jYeRCd2gotlsmrGi0EISzF2SJynovs8Cgqe+7AyIn7MXr4IXoF6TTjRaZcoSB9eGOz6C1eQjL/PAZOG51hEpWR4+gN7SYtn2TAr5rhoMzuB4DV11EY1Kk80egsAr4zcjKXsjHS6WJH4xzy1/4SvSuPol+7wtjEhDg/jlZ9DgFpvcb+LMJhe/U8Wo3z8Mq7MTx5F6wsYZTNzlBBDrtgsdMa4XDzVfKiAdrdBQzojVGnDq+yk2SDe6uv9MA0B3v35T1hg7p0YBiXIILWfOuv/T5u/+1/AX94Fj7jhRD7/JN/gcmj9yAemjGwovE/k28R1yMyP5+Ktknt66cew/yP/xDtXQ9hMH4XkrV5jHz2tzB+y90YzF2Cd+rbKNx8GSXW2y2NItaFQ75iGkhSmEHhwjcQ5gro+Tsp1C7PkEU57GGUSe/I6guIrxIqN85R2D0KMmOEPfCLCJs3kUSkDNSEnZ9Btz2PhFDZb1+G54+jPMJ8MFhh3GTbeaxNFIntDHKTRxHXr5BkrNAgSKTCgNsOsL5loD8wKYtid4bnercae0+UJVhTXpQnrb7lq/8YJ3/jn8Gj10h5AwoxY/m4/NSfk7ozodx9p8lYhAg2LS5Q4CfN7YctrD7zKK4/9m+YwN6NtdmvoOVPmrG98spplG/5DPx9t6Myc5jouQ6XCfLY5UeYgzVpvB6VFqKfjGGqdwOZ9fNMgG8h/GSopDXsWH8FzsJTCBaeJjGpU7EeTy9PoZFU97A1hMyGxgK7JBVMCwpT6Mc1ZKhkNyDk9ubovR2Mjd7GfLCNmGQkYhJseT6KQ/sRLF0kscwapSSx0MOCP3YM8To9l15nG0UJAt+dtt4TZVlsg1es4PAXvo7DX/mPYNHi2UU2TXScHkfSsHL2KVrbOsrHPmtSn5isbyDLJoAm/S6ar/wAcz/+UwTVw1TU30OPOxG5YPkFeOe/D390lo2dwqBUQmH3Mfi77+aPZG9LryN/5cdU6hyVznwuP4HBwjkUc0Mo0FvGFp9Ae/kJhBtMXJVCsLGJTaHy3DZJiTu0A1GL8YV5ExvK7TF8EhaPpCDot0h2qMABKXh3A+0eiUjpIPKlGRpZBC/HNpGhBjQomzAc24GByphw6I0coREwZnUYdy0DoBLVuyrvjWexHdWZgzj8+V/H0OQeJqyMEmRsGZMY0usIjY2bF3HjzLOYvvsr5nqTgrUrIsL/q2d/jPVH/y3qhUks7qCiqFxn0GNnfSQkFMXeClpLl1Dec5gMM0eR+rT+KvwdB5DfeQg5Jrc5Mkz3xuOw3BE47gQKtcvwbz6LWu0SSQxZGmHWjFFSoXYiK2eO5Zfg5sYMO80kZIFJDiHRQBBXKE+jTa/U9S95oSBvwBQhqlOx7G9+9BCR4iQ9sYFG8BrZn+YeanCYnJY79MN1lJj3hY2bhkTJcN9teU+URVhGi0lNY+EGvaTBoDxCSl00iaK5bkRtRq01XHzm+xg+9itMcYaMncX0v965H2Huu/8aS8WDWJv6AgJXQz0BY1mZembFhMqoPE7veQzFwjCyk3vJBgk5DqGGsSpXGUdu1y209gqaC6+hlJR5PuZra2Rn65eZOw1QCHOsTyPqTG757pJGa0KMU5qgYeXoGYROkwvpyjAhuh/Cre5ESGOy6HGOtGMm0KSXVhCtImIcs4f2wSEZCSMSi26DiqVnsq8yizjkuXyHxjBpkvCUDb4773oHymKwpLf4kQZYE4S0tETZPz2g+9B/jt7hr6B943UsP/UXWHv9FINzDc7wJGFsGBknNph//kffxdDsAXgzRzQwjuSNx3Hxj/8H1Iu7sLj3K6yfDI7wpPHDgSWvpLDopX0rR+LioDT/LMoH7qNH+Ai9Mkr5UeQyIdZO/wCL3/5XaKxcRWV2L3npNHqEpnbAHE4WTYansOFEPuuONfpFpeRRqVbR7zEJ7rWpRO5jkY7zR9mIcjFrag+CFbJYSwbH3wd5s09EKPXBtoLxb+lFDE8/hCxTiXXGtmxMj010joR5Vw1DQ0cY/zYQ8JXRmKMZ/9Rgr2/aZckITDx7+7JtZckyNP/AnIiNzSib5ynd4d24fN9/g3Z5FuHOO2CN7UX3+lmsvvwo1t54iQLqkngUSRYr2HjuhxgUq/SE/WiffRwXvvW/Y6VwEKsHftOMDKTDTsYdeT5Z4WYnGLDzWSbMi+fgFvMo7jpAYeeY21zAwnf/T6yeehLlo3fgc//hf4XZu34Fg1yeVJwe2WScCkgE2O6ABuOw/vTCIaGQUJwbOcyQcp2aowDlRcbyFV+AHsnFGD2nG7cxIIlRv43CDZPNk5iI8dEg2ldR3ziPYnEUo0MH0EsC9AiJKnYcUD15E9t63XVYzNU0CccMVuvFpmQ0jrl5zrcr2/csKYturmEWTWzJyjV0okNfQW3ifiNWjT5Iab19n0WP7wGD+vKZF9C4eoqQQlq+vIiQcUAJ840f/iHWvN1o730YHatI+NCFQCK7SWA3lWSK4IkxgIzSCzfgLJ5BkR1de+k7qD/1TYyOFHH0a/8Jjj/8uyjM7KUyx1Ac8dFt0SNrDcaM6xRSQnjVpAFdHabE+fLzk0BunAnwOZ11U1H6TW8ySFKjXp/E5hh6zUvmN3mXS0jM5LLwK/vQ57GsGrkwwXqX/WJsKg4fYKJO2KVXWX0aRxxx3xHCSEibWGfVWzkX/9JTU+OUkb592bayDA5TSTqRLhloAHZAAbdv/300GTcUwOUZyidCa8gkrNHUreiWp9BYX0Hz9A/RX1lCt7GM9vw5tEgE6ju/gKYzSgH0TJ3p1du00CTSTnG7XgmV5TPPGVx6HI1LZ1DOVnDkV7+OAw//Bxg+dASe6xriYCyfMS1LgTbXaeXtOnOlmwZOdQ4nZh9oZOWxu0kgrpLlrUo3LJuMTV+0Lz9nggbJyzGE8TpjcYubeSx/dsZ2URE2Oi3WawX0IMYtem4cLBNWN8iGCyiWjsCPC+gSisNsFoX8LnQ6czxe1700opGeRxc5t+tZ29uLRQ0VhBjCwPNIcSjtQr2yiwGYFJW/O2Ra7AprpaWQVbW9IurT96N+4ncQ7L0Xq0GAbrOG/s1rWB+6DV2nxOMYz3SZXU2RxStP4TfzXUXQKIhk/MqBNDrqkVIH2PHg53HwwYdRHGVcpIVqfiFJN5Wq+JTFyOwsdp68g/Hx00CFRIICHWiUQzJivMoVJxC2Lqen4EbBvGCOv5q+am5IyJjc3jiFYuXgJvRnKQMCW4ne1jhPJNHU64ixViFCrc6SaDQRzV1Dd+0MQKXmdx1B3CEcM7fzyjOEb5dtVd/kqVJUCpnbKZsSefsiENGleXVKVi/l9McPUeBlREyA3QGTSOYVLgWaI1tiFDbUfaT+Kiaf+9+Qee6bGKNSswMG6ByDM5lcOrAqmGNPMynbUpdlEOl2fjYCZMzqr8KrXYW37x4MJg7iwpN/iXVRa+5biHS5QnMO9dLwTsQcysWeY4eM11V3fYbbRfnZcnqAV2Yi21+AFTBvkHFxe1q2BCdlkQrQOPudGybOeIRMDRv5ZImDPhXUv2mIRJSUuF1XwmUFXXowPSxTQ6e9guWF78EK+5id/Ax6ToTq5HGSjREqXpql6HWRNSbr3WbZNgwqpmQTjToL/sTYGL9u+SJaoydMrIwzyolKfO+ZAdRsaxG7zv5b+K/8OQqUx/g9X0V7XSMBPGmHAZsBOSxOGUuV5xA8zXkiWr0GgiUAQ5OpBgmv3LwIp3YFa3f8cyTT9yJ+9c8Q1FcxdoQCyJfo1R5sCsumgTiWIIvW7mQxvCOHpQs9WDEhqrFEFttHderTaG28SouXN6l+FsUNwZIUt0ntE5f1kPYjS2VphlP/Bkan7yS8vs4kuguXhEHXtiy0kI2Yo5Etm0v6NFldWHEiQmWngYDQVxzdz1RmDyr5cUTRAqKwwT10Pil5sw1vU7atLHORUE0hVsS0XrtYQv3Q19At7WCHRUcJg1ED5Y2LGD3/HZTP/AmGBnVM3/lFjN7/JXQvvILa0nk4ex6g0G8g17rG+DqMTn6Gx7ODBp8kKM150JuMgttpgZVgCcPn/x06h76AtR0Pos18y8vnEZz6NlyvgLEdh2DRU5VauLR2GVJfIyQyMM+hJxWwNs+klfmOvNYfO4DOjVM8paa9SdjyYsFS2kcDOPQqsUgr06JXklCUd5GeM4ku7kZz7TnuS6PySLTsIo2iyiw5y9yyzPNVGS8rcPM58qhRZP0pkxO67FvHGwZxmUbFcFCnZ7Kvak/KfN++bFtZGnDVxTRZAgEMg7FDqO/5IvOdIVpVH/nmZVQuMo86/y0MR4uYuvVTGLrjS/D2H0ZYX8bSj/4MnekHsJqbJqQRzkZnkdx8DYPyDgZgXapnoXI0yCtMl6IEtznmcZXL3yHlymPj+O+ZqWSKKV0SmFzcQfLq91GZ3Imh8Qkip2CQ0JLWxqNpVPRYr1Ii5OXQWKOHFXwytQaatWtI7J7ZV/Zt/stmNFbpMGFmapDxyECZPzk55meFI8iVTqBLS6pIuXmer0ClFMpw/SpfZXOc7XBfl23QrGCyY011GzAud/tryOd3MKoNqKhXkbRWdEoW/v5ee5Y3ILNichpYecanAP2d96Gz80H4SRNj5/4E/qt/ipHwJiaOP4Dhe36L3ONWWISPQdDHyqtPILpxDusHf5Ow0sZo4wqmDt8LRmG4159GMHqU1JrWSSUQXKksJcQaAI1QWTuF8sKTWHvov0arsIPSFGOURUZknAeQXb2M7rXnUdp7ArmhMXqWRikUWzWcpWtYFAQTaq/q6rIZgjbjpV1hSpsgV5kx+VKedLs4fBAFvueqe+EUd8C3x8nq6EnONBwnjzA3zNhcpoJ5fio7qJ1G3Fgl+1tC1CHENpsIu3xvr5lLLb3OKhNz/t5aRtzVEJVtcrG4x23dBSSdmmmjBke251fvQFmydp8UW2xtQCvCrnvgteeRe+J/hr/yGqZO3oOpB7+O/P77mPiSdES6Qkooa6xh4YVvojFxC5arJ+FFa4TKqyjP7MMkGVvtyil2oIU+hWXuGqFgBUWKOQXmJcMXvoH28X+E9ZkH2DkpiqSAMKLcNnQqhOEJxBd+BKsxj4n9d5iZtxpYFtFwNXGUxxT7jC0VAjmTosU5tp9GkWM7Bk3G0O48AuZi/fp1dNauMZZdNTcm9JnsNvuXyBgXMKBgPdabIckpRT6dfIgMs4qw30emFjB/6jNeddhsEhsNW9GTRFA0Cq85+xpALg0fQxAsIknW2f4C611lvOauGvxVjNxG2b6yaPNZ410F5n4JvOUzyC+/gslDt2H0y3+A4swhOL7P4E4p0rpDMiZ5ytqFl9G78irWdv4mAalCIZJbrL2Oct6Gz2OsoXG0r7xE8hIhKkwgcjx6R0uOherNJ5Dx81i49R/TOzT4q/wuYLWEYQ3XiMkxn7JcUuoXvoEcY0VlzzFuJj2WmCz5leZB9EguljH/3GNoLl1gMnsadq6EtY3L9IIWldhh8tqhEhl72XaT7Mc5CrZAQdM7CW+uO4r22jl02xfg5PegtvosCmyvPBEJc6ewS8MQDDPukY0qBuumco3wa25iZXg/6iuvU+JMtplz9WgcSrxFScwNfNso7yBm2cZKFLsMzkuYM4SM/Z9CvsyY4PpUBoXEoGkxa7cofNAiN079FfOtGdQqt7LjxHCrg0JNlzBs5EbGkSkNI5cQVufPUzEltHKjVFSCYnsOlZWX0Tr66+hVd7FjRdYZsGuuAUFdHtGAr3KnmPlLEgWoPf9dTE1W4U3uhi9hGZKg2U8dzD39BF5//BtUdA7N6y9QwF2UCIFJSCMJ08s5JumVAVCESpy3EvOE+aLjlQhny+hqTojg2ZtCbfk1RMEaitWDyBbGSByy6Y16ZnyQcqLyNFidL+2mB1FxtRX0ud0fmkKwoVGRiIySOaYauY2ybWXJRtVwxRTqCe7YXvQYWNuXnkP95kVm8cyhchQUAzTIyDRVrHX9HFbPP4vViXvRKUzyqJD5TwSvSYJBDxmeJMkgOSkNk85224jmzyAe2mNm105c/yGSkZ1Y3/slQgzhz+Z5DXuiWBXTRO/5WeINmXDGVGh+9Qw2zv41jWg/CmSrGvMLe32sXXwZp//yj7CYO0C3JgIsvYxuY51W30WhwnYxmQ+ipoEu1ac4YgZZ+abxRMsnq2NuGDXnudmm8hdIPMbpYUUzC6rZopeQ+uuqs19h3LRHEMYMkMxTsmy7xz71qWgFTd1z5g9TWa2bPC/9P/LYDuV7b1+2rywKR0IRHCow2vkyGrf+NtZnH0K2Xkf4xqMIKGzdn+sOz5BJkdq/9BdY7zloTN7LRpLFUVkZemi+cQ2F/gomD5ykVbkURA7liZ0IF86jt7aMavcGHAbo9dt/F4Evap+SCv03f+TWMhm2QzcsiMYp1iVjR+GcfwLBMo1ndJIMLERr4Qpe/u4fY31lA+u3/Q5sEh6f8J0EbeZNTYaXGIXRXYQxhx5Gr9FIhqlbAJWlt7DHuRFaZ56EYc7EH5G3Lj2zoDxRzekQRllX3CGRCIkvRIjC5DS1koOTnUSGkNtqUjlhk9LzUfDGef66ieuhszlbahtl28raShqNrCQfMrnW7H1o7Pw8Agp6fcen4a5dRfTinyO8cYbUdA2rrz+DeOwk2rkZg+cD0m75pd8jjWWeNX3sflTHp+CVhpAbnUGpUMTGi99GZvk8rZkWOXYHO0yLpYc4Gk8j5CXMn2iSpi0aEkppN+vm732niGCcROXUvwdpGnMeF9fPPY25Zx9F68RvY3XyPviNGkrrLyJukzorTSBJCOM1VKbvpqH30KYR6bYeJcVilQ6TbLc4wXMOEHSW0jHGJM9XBzaJRW7siCEhGiyO2Lsk6qLbbdCJ+mSXM/Sqe0jjKwjbp3gu/u7GzLEZmyOiDxVGtsb2b42c/OKybWUpMfQYM7J8KZeRdediQsfUYTT9ccT0pNquzyCevhXxEtnUi99C1AvJ1hhMGVzNWCJjjADVoxVmGax3nbwPE/uOoDA2yySXcaEwhDnS/E6LSuiuAlefQOmNbyJ36a8wPvcMcitPYWj5eYzFy2SlJASMjTZfTtxDxJjgDwilzggqmS469DAr4+PGc88hmjqGhRO/T6hyyWDbJDgvG0jbukki0w1JtS/Dm7oLWe4T9sTsaJiWmFoWTpmMs99hfGpQgUrWCY8x4XBQI/nIk/ofIpu/SlUJdZjXxUwLejGa4Tz8kduIhswXnSHKrc5jGI8F0czH+u0N9F2NurzHnqXRgDS4q+L0ZfVqCHZ9Gt08XV7fSSo6unaz6wGUr/0VQsYjz2VaWpoyN2NnabmaB5jr1+CunsXuI8cxRijMEFLzWcInlZVjsrxx4RQG9IzK/tswefevobTjIDyfinGyyPbqsJbOIXvtSQzN/RjDS8+gPP8Mhm48S+hk3tai0Cwf7voi6udfgs14Uvvyv0SLXiePLLRrsNcvMke6KrDbZGTsD+Ewbi8xgT4AjwoI+nUql0k0FeqUpwlxq4TJrjFS7W+RKEkeUXedyDAJuzCKqL3MbWlSr/u86FYkUll0b3yPsLeB4fHj8Gi4A+8Y4x0zPcJ9TPLzPsCg/qt7xGxBIRtsM8H1GfjXdz3I7cotZHUuhmuvw738JKZueYCqoeUsnSasldHNjlE4ORMHvJXTmN29B8OH7zZjtrpPS1l/cWIPuhtrWL/2Ir2Gie3wBEbu/ioqBz+F8rF7MX3kHlSPPoDS/nuYeB8jDO1AjjBadQfwKLhC7QIKpOYxqXrQU0B3ULv9n7C9EiIZbdjDCNOOVn2eqQjzJJ5XwlV80kxcBk24pXGGqAp6QVdqZOK8j5543VybEtHSkJsGY830soGLHpNen3DoUOiaN+iwLVaBcat8L9xskecgx2TSr+MzjsYaxxgjN9CrKY4xTTFnefvyjmKWN+igZxeMUvRd04MzjZtIDnyegZKuLXUypsy++C+RK/iY/cofoLDzIDu6gujCkyapzhTJlNjg0vJLqI6MYPz4p+ETbkIqWb7r2FoeIYP1My+gN7IH9SsXCb/0x0O3o+jmEFGIIjf+ECn/2AyK0/tR3H0M5b3H4R+621xFxsYcGnOX4ZKSk6Miv+swNnK7KROHsWaAqdVzAM+vdERIoQE09UdMV3eI9Ek+/MIM8vSWsN+GV96DYP0cY5pGVQbsN/sfM6ckmcr6pOJ+hTBXRDJ8gv3eSUY4AadCaM8SUeqnWF/LUP6QcTyixzpZF82FpxAHq0Qjnp86307ZtrJEmc3YIBurulMSzUL4cPN5Um4GWtL2oY1X4b/4r7Hv7/8BqtO3wWGQdQ+eRIUxpXvqewwDdWTKpL3tVZS9BHtuuw8R4cIEdArOXI3N+dg4/TKux1Uk5VkMnv9/gOEx5Kb2mskuUqwuRThklzE91aXQNXcwYXLcuXgKq898F5kqj2NC6pO05K6eQmv/52gEPI6GVl5dR2bhSbJbnU92zbhHiUlpA/YxIvPt0EPGmIqUhj+FFomK012Anc0ziZ9gfnYY5ZljKEwdh13UQDZjeL/FvnWRZAdoL71CwTBRz1BBN86RdZJIsN9dkpLRqTvQ3ngdCT1b60WFlMv2/OqdeJYpmwr66dKeR/Pwbxi8rrz8Z9hfiVD60r9A18sz6JPJMR45e2/HOIUdnXkM3sYZlN0+g3QHux74dZQ0fGT+kU+x5fK8YPEi5i+fxsqOX2G/hxE+9w2Tn7hTOylgQtYgT4LDPIreHerKX8IE/OxrWPvj/x6rFEhIDxzurxKKH8TNhRvmNtf+qG5/9TG6eh7R6qsM7GnyqlREBEUWLu/OmivOXdQyi0gmfpV1ufCL9NrSCLIBFdldQm/lKtOCV9GmlwaNObR7S2gGNxl7h8wM31L1CFpzVEq/Aa2loalsY9V76NwB1pZfZ/1MvmmYA0u3u77HIxi/qFgRva3ExDFcRenqo9j9xX+GwdQuwmbdQI2VeGY4yR6fRo6koV3bQPPaBViNBYzd9WW4lWHaYZ/7KtklQyPTiro1LJ59Hs3CFJrDx1GIQrQvPMH4RPij0mzGjL6tKwH0DpKRJtOEm9/+X7nvLajv+hys9UtkjE2M7z3KY3xEF58xI+WBLnXUl5BbfZ70WTcOMI5QWGJ9JubKaLIe7KFJCvxOxjgKidCfQZskYRWteA5otdFn0jtIaHDyC3knw7nD3Fb5VoFG4bF9yytPM9Wg57BPfnEXKpUdWF54gbFYsZ1RVNPNDbl4r2PWLygW3SGbNOF15uk9oxi652vEc99YruixrbE2dks3LDilAkZmD1LAAdavvobu2k1i/DAVNsZOu4YFhrV19EkEahfOMua3US/vQ7fCmBOQbV1+BqVSCdbIDp6YfsD9G2efwNIjf4jl4l4s7HsYgzCDwsprGMm24M8cRqlYRK9NC198A8noEcIVqfTqiwhIxSUrjVqINEhmbonxp3oIjjeGQeMKX2dhMc8SDCY9XTRkTyoVxqoxslPCWEwlajTF5GXsJkmEX9ptINlukJrHAdnlCMpM2Gv10wAZq4w3tvvGo50kaxS3nfKeKEuXv21S20JrBdP3fg0+qXY6m9aiuxMGIw2skmw5GmujYl1aqmdh5RXGMOSx+MpzJANdZMigmp0aakuXSfsDQs0yuoSwDXqWLs0gPwl3g5B77Tnkp5lw5j10L72E69//YzSzVSzP/ioNosi61jG0+BSK5Sq8UaYVDP5OsYw+Kf+gy/P408hunEXCxFjz7CMKLmL8rIyeINQdRKdHD1q/Qs9voumQYJAd6rsvwrE6Z3I0a9BjrJ6iYg+alCIiu9MdKY6ub+VJSGpnUdBNC21CY3m37lFAt/GGmaei248UGzUd1Ewu1YDDNsp7oizhu3Lwft9BmxZs01sqWQZ/epfL+KL55TEpvk/395kwCr/7hJDas98Ejv4WWpkybj73TXSaayjlc+h2O4hJu3v9CK2LL6M/doDxb5gKd1Ef2oHMyiVkzjyCxtUruPn899Cl8ud3fwkRY5vDOOaFyyivnUZpaAzZyigtfgA/X6IXeUyWH0O2OMrEvI6QcKhbaT2yt6npz9ELYqytvIiktcwYyASb0BwyP6x6O9GpnzMj6sMjJwnjjFO6u595VabbJD3fidFZko3SBLyxuzDonUV94xr7T/q+405kyEJb66/RUALjfeYWIN2MR7WZdOiX6VlWkiM2MwnUymG1OdSvnsH1Jx/F+qk/RfvSCwhWLyMb057I3Dq6gkpDcgknC2dPIajuxo3Dv8Y8zEb/hW+hd3MJ7tAeeFGHnexjZXGe+65go8pkckDGJ2+lUOzrL6Jz7VXSaZrJxFGEuV3o6658JqFucwNDzOMqs7tRqeZoTAFJThH54Vmgfg3JynmQ6yNprKMydQvK+RksL55Gq/YGbHq0Q1jTMkEDFBh3iY3FYVjMv6LaKgZDQyjoVlcm15pvEiQr6ARX0ag1mFcdZSLM1MHOwXfGULTpcbmjZiUCi4n4gH3SPV2kuOybRvrT2GWC3jbKe6IsDfGbBT5MsCT9lbEwF4mDPjorC2hcfBVLL/0Q9dOPofvG8wjnzyGuXUdn9Sai9TlkxvdgY+ozAJPP3twL6F5kDuQRWpm/WM0mgvlLaEx/ih4qFgjkghVk1y8g21umh/JcKxdQWX+J2xfhhwmq9fOs/wpyxSFzjS1qRUxwGT8ItVHoMXpO0zgOwqpWyWQXUV98FYOgpktNJj3RqLtuMtB8jq7fY0K7G4O4jkDDWi0yy/IhwglTmW6dcVk3ELpwGauYZVMWzNPWXqYXLaIT1Ug0mFjzc6950xASQZ+53mUUJHltT1Eq7+s9xQqgGhM0FJnulNF4m7axgVlNaOF3eZo/fgTrRx5GZ2gnJjQyfeG7cJbPYXh6D7J5QtwLj6Fxx9dRK9yKQuMChi99GwN6cJ/5jatRCGpQrCrRNSS6rEbO4yjDfI1e5Y/yPGyD1ZEstSfc6Ydo7SQ0HVLu64+jF9ZoXJqvSGhisquoElsac6RHEMILIwcQkgkG9Q32ifGGUF0ZOWruhw40l0LbcgXGqDvMLF3diKDkOXKYzBDiNTEmTlT/uyvvq7KM7dDyNflFoGI20O01HVOzLZSXebTIPrFds5DiXAWhvwcYn4DfIRwuXUWmyCNXWmhUdyAZuwXZ608i00gHYXXp36cQQsulQJilMffKWLrJgNBIi7eLVUR7vox6Vms2MT5Q+BEVmSUJmJp7Ek6zzZxoCJ3lM4z+KyZJltW7GqCgsqgBDULRmA6hQ2iMlkk6BLXwUCkwsScVb62+giBso7zzblj9GI2l06Tm7JlGOkjbxYJtpiLpJNJ3J+r3BAZ/fqFiyBTNDWxUmAaDdWOazZdmzkp3Wl7OGbSI57rxjEytNY8s441do0IYJ1rchoBpQHAJztpluBpQVT6mSM3/Gu8zCxHzXFJIQkFGZJgmHpD+DxgLG5OfQYvMLXYm0dUtqEzSdZ3MXzhFa30QQ3mSlgYh1cwGptIJgbrDXiMaCev0J+9HpjLJ3G8eYb9rYDImAsSlKvIjO+HQ0/LFw2hde5w8j8RDoyDUu/ouMmEaqva+y/I+K0sjHoIoiUDDQ4RDwpZmHelGA03IVJzo6WZwKlMjGGaRj9hBQCuU58gYlQNZ6JrlEYzCVSfVIrjSGULGMs23sNHZZJwkCdxfI8SN1iJGeytoDB03F0AVUxkI4fZyhNRnsXrkcwgmboWvqWSMW9nOIvVOr5Ux2W2ywTyGJr/Io8Ywmh/FRPkYiiNMG5hLWdkpphu3Mg87idblPyNUtrmf2qS+pKMjgsOUQ3wElJVm6BQu26qRbwOJfDkm1nAbiYhunDYZPTukuzT0rvE/l/Bh4g+ZpkclmHundAyPp6/yO61W9fK7pmUr2Ae2lmtVrHQZ0xyUqbiws05fqyMqzRCVOjygQlH2UGpdQHPiLqwP7wMq04xvYygkum5FJdFZZWSFoYNwCGe95aexvvIC1pg/9en9nagJp09SQqJht+dRXztLpQj2CJxsszxbLDkd1VczP+TKko2Z6VZGUfIH2Z3GwRy+U/A2gzh7IoiUxatDmpYVUUquGTDWi/mbJm8yRzI3PlAQKvIsQaAgJ11QUvXqKrIuY2h+hsb8NLISM1ty4DInyg066JT2EC4ryEYtTNSUOtyCdpnQKCWX6Cn+OBmcZkzRoMpTqJYnsHHz5XTOBGHSDGSTFcYB2WGXiTDZYYfJrolTTDXUMnPl17iToF/b+Z1CeLfqel+VpcZJDXp/8yUFyPL4WZ6yGXvS7fIuvevXTSXzd7EpWflWTpL+uvU33ZZ+SevVWbVdFMZcoeZGrcKpdZs8GkhSYOyyixjZeAW9yizayuEyJRpFjHaxwvyojOpgAm5R19bOoV9/3cRdA8dinQbSdA7GJc3iogLNOWgU2sa9+FcUXW3TW7rvuy2q9f/3RSsGWFrYWFeur/4Ykze/Z2YSd0A4lBLpiUyG6B3au4i1Clmpw/wqWkBz/TptgAai0XnjralnfxDlfaXuH5ZiMZ+zMrrAqfu4SGwGdWT2PYSol6Cz8w5sHP51c7km162hdO0xZC/+BZNoUvl+Bn5fM3sVd6gkw+w+uPKxUJaCvW5W190bIWFRjFEx0GLCHTMhb++9jUo6i/LqBQyqeUzvYfJNOv7SD75lpqyZ+42ZfylGClzTkZpffvlYKEsJNKOLSRkcEg4l0RK8JqZqcUqvWsXowfuxe99BlI5/GuNjM1h85hE89n//j+gHWq1NQ0/pbbrpUNEHUz4WMUt3vegmASXTPdund/mMQYI1CT+D8emDuOcf/Gc49PA/xPiBvbBKeay1Vkke5FUiFNxP9/5qEPY9oQp/t/KxUJbSBJX0KT4EMuZ4knlEj9Pgx8qFU7h+6jvUao45X5YeFzGvuoJEK8Mo2aZHKqVPFfXBAdHHRFlvesNWiqBiRkFIydv9Pp76k3+FS4/8v+YGhyDoo7ayRM9Kx/gMNTd1fHBepfI+j2B8uItELyKuUYY8af31N87CK+XgeR6uPPcjdNYXjbIsDfB+CMrHWlkm/abGRB7MXf6h5oWcRbu+hrUblxB1mvz9g/Wmt5aPBRv8+WUT3gYuYiuBraUf+D3xs4g1fKTlYz5E5WMRs35RkXelCziSktOLApGOQIujaFD2w1U+5spK73J0B20qS9fesszBNPfIV1aW7vIhKh9zZWmCQUzFeCbh1V0wmo2ra1Ep9fhwlY89DH6UyifK+giVT5T1ESqfKOsjVD5R1keobFtZP3mGlC5Rb16mTi/PaxqM/rIqcxXVZvKieXJbjCqdMLKVfOoinr6auzZ4zJtz6dSUtC7N29BlfNWvuejpObV/msSm7TCVksXpMr8GaPUudsdkltt1HrVJ43/pQO7WJX+dQ+3TuybgpFu1wJd5QAy3pOfR/pHpR7pFdegcmmbAdlkxInNpWTka33QetYvfzQQZXfPiyyy9YGSh8+iVyiQt2js9/3aKWrC9slnn1inTDvATG+SQ7qoDpnOm0eySmU6tPCYVqIQvBW0pJ70fNxWNqWmr/Swxv2hf7bOlGPN5U2DpbKG0m+lkG33Wuyb8a2s6USXt3payeAJzDn3X5fmUtlvQCLxu4hvAzPVjW1VbZrD5pDkj3DQfM8sEcX+X1qRHLmmJu1Qp2o/70BhV9FUK1GwryUDzNjQtwNTH/mxN+JQhvpNpAurFtorWgTUPS7H67FjfdCpm4qgLe5GjBSEpKi2lLc/R8w9NJ9UJWaKktLl9s3OyTAlJywoYizbXioyY4OpakxGubsRjJ7mfkQfPp1U6TR3mXdPTJHxdwdURDtuj+RZ6RK0MKDZtVP2pAiUsfdINbunaiZoupsX3dazaLMPzQ5/bNclT2/RPU7I1s4mHxyW03HRtKLVd/Q11xx0NVefTdjVmYHXZ/Db7qVtpQySOHgSgSaRsV+yahSX9CObuze2WbSvLWAf/vdUzNHvIyvQwSLSukmvuvnCjdClRLXq/dUd7Kix1QHdnpBaWzmmQwNSEFJa2mpNOTyP80NqlGKkwtUZ1TJAicNMxsl4dp5YJpmUSqkNz9tReegw9LzWWtJ503/RuR80v7Lk0BLvFfXTbrM8jHXT8DUSuHnfBc2nCJ99TI/PYLilIE2x6rIov1ZrICzUtjm/6xNMZb6anOVHeyANU8mCgRVs86Nbavp1BwIjRZxu2W7Y9kCsYU2OEwZoaJrjOUBkRrcYDLdMaQexqISwKNekgCZsU+jA7psdDUHguFZgEdAg1LjSKkwAk1EQL7juaVd7n77rHlljvUmH0MC2voH+abp16E0WX8WDbIxjEyxSwbJp7GOVHSAaaWKmbquXlXbP2iB6hpNtlNeFFV4jNSLo7zP5kzGRTs4ScPNQKEA1ChOwot3C72sK2URm6pUleYjtleGyzPNg8A0wrZ5tbeWRMW/MzaDIulSRlaR+ex6AS/+nGPcVkGY+erjdIaOA893bKtpVlTkWrSmhpqtyszmx5yFankC8fQ0LhakFhrf1u95qIaufRbc5RURQgTW145g5EoY3a4msUBCGCgtPd6tyZBjuGIT1KsH0JUWOZv1nIDu1DP2gi6cwbAchQFF8UAxIvi+ro59FuPouktm4MyMzSzXSojDzibBaloSPoaCnw1rps3FwV1koAxjgo1LHdD5rZuzId3R6rOX9WQkF2V9BrzCHoLvNcNCrur+nEA3eAXGk3SvnbEebZVxqdZDLoL6O7cQFRa4n9Yp8oTU3KKc48AHgjPGeTRqDHUm0qknFM+2g8sr581iyYLK/cTjE63k5Rp1KrESTpEQ8JssO7UJh5yFhrZ+N59BdeQbh8GlnbQmn6ASTDWnmGgZSNa4UuSsNHkS+UWEUKj7I8zVb1y8Nw8jsQ0EsSGoHgM1vYj2LlED1I5wtYjYTp8xiSA/bNze0BdzLtMVOUJWy2zxATrwx/+AA83ekh5ZrG649gVXbvwClOU8kFhBs3aVhXENQv0FiWYRfGUJp9kIqZZDPT+mGHKBVPYnT0U2hgHt2lcwiWnkV//YxZF7cyeS9sj33ludNZwoxFuUnkvVEaE41vbQ7J+g2e6yqCxmUa8WW0GzfoWYrhatf2yraVRamqqwzcmpJFo9G9uyMHYLdX0L75A0Tri7Sua2zMGaws/DWCpIV89RZiPwO8EGrhDDpUkjtyIiUrqs9psgEV+NVj6HSvwG2tEtcFsTaoW2SGb4VT0Lrt6VpRCeOEbhfSQliBfqfgRRoMGWe8DDMiCmRrUqK3F5nSTkK1ftX5SBK4f0wv1/3AEeESrQV0KfDeyjl0115FsPICmnNPm/uD9cAyn+fUTFzHGSWC7EVN/Vt6AYP104i17NDaFdTmub/vojB+lPZAIsEe6YYLMb0kWkVPSy+sXkJ35Q2+n0WwdpqvM2ivX0TUb5n2b7dsX1ksZq0I42MUVL5IC64iXnkdERmNBGEzQLuEtkG0hHrzDXhODn5W90wxziRtNvglesQ47FKZ9Wgun41CZRYZwlGflmbmO1C4uk8qqwt/WZ/eeIJ2oniS0mCTHVGhb6W8xjjZAMU3eV2OHpV1+yiVJhiwRKclQu0vxeovYxfPIaKhYvpkIIp97DbQrS3C8w4iyOouECCfKbEpFfT0qPeAYMwY21ewZEzUelGDjVUU82M0FsqEjFCTcmShKRPs0UA6fGktDMZvKlR9F4RutWa7ZdvKUocURA2ksETqLF1ecSS9wZsNc/XkbVp+n1i9toH+0hnGXy2QD3acVkcL04Mz7eo+CjUL2/KRn7gTSetmumYsBa7bfJTKCnLtqE5YOgCXcdGO9dg/LbX6s0so6BR5oOJtf5qW+yotl9/zev4+BbslGGlzsy9SsIEhnktnlfeayyOEp0FEkWoVaf4Lua/mwTtMPfQUHyvJ0tD0dFZ6J48MNl5BnR6nGyJSoiNFyBjYXkJ9aio0NCEEj00XKVEY0Pn5cZtl+8pin5TkmW7xS6YXwAlrSEaOICvBMknUurJa9Sx0umRU82g0LyLWo414nPIq9hO99bPw8vvM3Rql0b0UwhDh4RwbLban0QIt9h8hcAh1tRtoMQAXxz8H1xMMS+ib5afhg9+VDznOEHOaAjpaKL+7AW9or3TAY99qxVQWNyrSGUVSuGaUwQg5nX2re6KJY5RQG/1MHXHInC6/3zxxQRNFtZSfFlYO6Xrt/io6tWtEA6UP6TlkbFqsxNyDRgsXI9W7WSuev8mzpOj3BQbVNdc8YFkCY8f1zI2NSxhUdyI/fS+xp2pcfMu60qawIaTculXHivNUDJPp+hI/J6iMHYI3ehei5msI21o2m0ZAJiLPNcZG4cVhC/3V5+mBhKHxu1mvliZIwcPsovq3CjeKEucru0j5SbO1qmZrHq7uySJsmVEL7mNkI4vWB7K29GxqqQSXUvzYptdYygepICawmS4T2vVryA3thzt1H6KivMJmTsnf6CkqIkG6oU9s2RgGFT4g9R8o2Ve/CYUD5aSUkR6ynejF02v/7ZZtK0t2rY6JnktMOllr5RJa8y/DHTuK0d1fxvDOB5ApF9lo5l7UluaUCz413OTI86wOgqBHyLuIbHkXBtkSOssvUUy0ZkrK3L3I04QUVPpsD3a7voxe8yl6yN3ImhU1JfBUSeY9bRatVn7iwx7eATtYY57HGEFlkWbCL4y8KRTFFLVqE/7SoSgl7lK9iIEWqSSzi2pUFQ2TyawdMlGm0XQ23sDQyEGM7fw6KjP3IS56bDMBLhIc0ky1KIvaw5aYYatsBfnRg8iOHEV29Ci8sVvgjx6h0mfZYD81HtOB7ZVtT0VTbqCFR8xwDs+ixa0sur3XvoL22huk2NyndJIN+pRZkbPXXmKHNeKgISAqAT0wFSOk8A+T5rh4Av2WWNJFeg5ZISG052j+HjN710GueABWSA+hwGu9KxgeoWe5Pin2ZTOPzxm5DUn7AuJ2g9aqqJAhQy3D2XMS8fwbJAorzIH6cKZOIEfBd5hvieLLWyQgf/xOGn8Dfa0WwzaCKYJLhjsyvocefxi9ubPmgZyWu0ZwzZM90kuYS20QXlGMaGx3ID9yF+HZRdy8QSBgXweMw1rKnGfIjrH+7B6UCxPMGW+FX9IaUkdQZK6W87Uwix7z1JR02P7U+N6ubFtZCpjp4GMGuVjLDjC1dbOEOCXDHYSNNfSYCDvBdWTZIG/kXkT8bJ47pWQWHq1bE70iyoUQUt4DRzdUM3GNzaiDhEgxUvBZ1plhDqcnicXNqzSOmHrvoFA9TAUw8dWSq0wbnPq8WZBLg7B6mPVghkkrmAwvP4oePUVjd9kc42z5VlJzejAhyY6Lpr7S9J3kK7MokpK7E0fgjp5Ebuw4lVNCe/V1UnqSIcamxAoYi0QUHMJ4Dzkm9r0GIXaVFH6wglz5GLzhOwxaxIMOJSVYdFDQg2LiVayd//foMCfrLj/Ddj2F9sqzaK2dQ8KEXwYmjzRv2yjbhkEFYDvWGBiZHZNencAlswv50Q3zFBi3s7E1dnLjyvfgxYsoDD8Ay1buI0XrSAV0E8l+YdGzEam9TcqexpNOgzlOf5lC3W0eN5FjW2JbA7yi37qBPEcjOUhiUzeLW9la1s6lsM2ISDVdd12PTSeFVi4XUXFB4wKaNx9HZ+4xdOceRevaI9i4+iMDzWGmYZTqRhq2Cmlgem4Jzc7IgQyQRKG+eh01Hmc7Pcbt+0xspqT4UpsJ4VS2HjKd6G4Vokwi4yMaaQ59Kvqt1/bKtvdU4NcYmtigYpAeGWi7VXZCsSaloF7SNUyKQQbNldeY1Q8RJvSIQB21ybjUGf5Xx39ekTAF6GaoSruRTdpJEy1CkOWPkcrvJqQW+TvVqMFh7mvlPAwKM8jkXFRmP43Sji8gu+fzTMKPU0EW3MIs69DoglgnwVAjJb0VdBuLhFZ6aP0m+nxFPcKlBG2MivWSYMRMMwZZ9kVbGAp0L7SepOBQaSHTjl7tOr13Nw1TlFyKUMu2XqmxpZ/Tfm/13eyZftxW2bayRKnVUdFWTTd2KuMYmX0ILuEhMnfAE/ljeoQGPqmcsF9jzsMGGlaVQmjavLcvElS6t/7p8odv4HbQYD5G4ToTjEt6XjG3aU/lRmVvkhBFL+DvdkR6bMgN2xXNU+9khT4VKU8VK2T9IKXWWKESV3mnvEdP0zMXFQXThHlBvm7zyZZnSSjuRY4erTFRXQjRk44Ux00LSGaUR2WcTRJjStp6gxD6xnOmR6b/DMrwZfKybZZtK8uMdmvFFCmMHdEaEwNvBzLeOPOtMr1LK8VoCjKRWCPlGhdjh9L1itLcLD3dm6ZkRizST5vvadHjZTVKnS6hnSpMyaTdjxDWTqEdMG7Qwm0zsKuHHPF8pXEMgqtYuvFdrM49jo1rP0Lr4nOoXzyNxvwztPohWHl5oy6tJFQGjUoGRlnpPFK8mKigzJEnRyajZL9IyTWpOjfN/o/wGIe/ZxEwoTdrBopd5od5PGl5uNUP9lismS+m0KxH5xQD47bNlx4DoqInjm+3SBrbKrIidUrLHmgFlkF7lZCxCHf6BGOqB0cLgjBuWIwTcbGK0tgdGHSW0O812FRRWipRmTsbqXYau/uJsv5mSZciUPJos9up9YsiKy722yuwa6+YeJChITgaDM4yh8vtQocwNhAbo5doLSaXn/XgTDQXtI4kDUijGekliiwhzECsoe/Kw6R07sQiEOi7/Mb+ai14reBphevAyBFYpOMDS6MvbL9D7y6TjhengPoZ9JlEmwFqGSTrNYPL5nlapPb0yow809bDtvMm7oqIaLR/u2X71H3zPY1PpO8x8xhaRa4yQpY2Czc7DK84Br8yi9LECYTBgHnYkykb3BQKxWAkYduk5qWdFEIdQWeZdafZjjxEcU23jhYLe+nEHfS6V3mMmKKsnFKkMJJgHQU9S6t9DT3GR69URbG4C8HKG2SLGxRyKgABUEgP9KgVNz9r6gg6zL3YlpHRQ/RQ0vI2FcxmmYFXwa9giS8N+GqRY5WBvIaKyI/sQYlpySDPPjN38yu7URw5hLC3Qe99miapK2saZ/FQHN1rls1zs755MGe+PMU+z8Iv7yCDnEGhNIKQ5ENrxadA+fblHdzyYySeWrswnh2PKKgM85mI+O/mmDz6Qyb5DOpXKbgXEeuZxIIDHUthKG1NE1kKhJbd69bJjNqUjTopqKAi5FWEDDvMUAgUpp6cbbzShHdTlRiVyxyl02uRtbXYJj3bqoNGa4UIs3U1md7CemTfRvhhD3HcMBdF02taHXTbbF9fUxBMtXzpX9reFLb1zjpolP2wgbDL46GkucScr2pGo3rM+1paso7n15QAE8PkUVRwyLQiiiK2V8/Y6pnPgRYWIzPUBUulHZlI1/Z4qm2Ud3DLj2rc2lUN4ncJkUJ2CS0ZhzBCjxArjUPNR9C+m1DzM4qWONBQTIbJsoEOM0GFVZpgTwHr2pVOwbhkvJpGoPrMMA6NQ0+o02/pfb6sy0CYVrEmbaewBowrMijFP4cxVKMLypkUb62wiIgwp6f82JFG5f92URv0NFgRJkGx1pRSjyw9REBPQ6CBmGej6Or3gAbCzzIos7iW+m4pBqpVIiIiFlpcTP3e7J+QRkNZOoaxbzvl76ystGgbbYmCTC8AkoGxDbIU8xwt/pZOfkmLvMo8X4pFD2BJxxDF2raEIhPQd1ZitSkM1mserKJj0nPrEoTYoWYaabBVV3Lls+noRGrZugyveKDtmj5gm8ce6ZtGzDUGyd8oTDNVgFt/ZtEFT7XIjPSrLyI0rF+KN9ajbzzWMEz1Q6Pp7LEZ/zMYwn0kDEmBL/Vl81xKSZQC6AqF/vli0dsof0dlvfUQNkGCZ6PSSSr8lY1IX9zPeMTfLqnn0bh4QBqx1CUphRCWFLlDzRyrJ+qkk1MoWEGwsQZ2Tpa+6YHpFDG+6TdT5GUU5WY7tN2cjZBsVlrT/qzLGIk5598uRuksaSyT5+slSNTydIqhqpH7mHPrc9p/w2DZLj1VIe2h9hS70Ywq7UOlygv5i3nygtpovr19eQfKSpv009Xqu67gSrBmnqAEan5R3ODXn9OOVLBbP0qwEk56BjOSbeqUQFmnGW3n76Z+HaPOp2NwmnFkFKli6tRLQtT5VZ/sX7CpmUisT4omdBr1qT6zz98ugicVMcu0bdrzzTab6XM8VFHODArzVyk1nQyj31IVqJ96mdEW1WCO0XYpUZ/YEtPWty/bVpbZiXWrgenptj7rXZCSMqnUy/i7GrkluJ9RTP9YeBj3k4Vpz5TupnMI1Ul5SCr4jCxW0GY6pm08uX7XS9ZplGkkZX4znrGpPO2qOqUoraKmOX0SmhWnj3f/WSVtn+i7lKF6WKM5j84vSHuzfiP0zViUKk5FytCJN79ttU1btwSnH9/c5W3LO/Ksn1fShmw1Qq83G5x+/8Vls1ubn2SrEshW51S26tyqb6vOt3Zzax+Vn/49teH0L18SuBFq2u6fXd6s4ycKYP/Slm5+f0vR9rT29Lc3a31LPfyb7vXT5ee14W+Wt0rk71y2PCotb23M9hrxEyGavzrmp5u1Vedbz/HW86i89ftP/74FOSqsY9NTfnH73qxDfTMv8+2t9b5ZUlWkrf+btb6lnp/8/enX9sp7oqxPyi+nfKKsj1D5RFkfmQL8f3rcNVBoFD0RAAAAAElFTkSuQmCC)\n",
        "\n",
        "Last week, we dealt with the visualization and analytical aspect of ML. This week, lets directly get our hands dirty with various ML models.\n",
        "\n",
        "Possibly the first question one must ask is, what is Machine Learning essentially made up of? In a broad sense, ML problems can be split into Supervised and Unsupervised learning. In supervised learning are the categories of Classification and Regression, which is what we'll explore today.\n",
        "\n",
        "Like last time, resources and comments are provided above each cell, so peruse the resources and then get coding. Enough chitchat, lets get to work :P"
      ],
      "metadata": {
        "id": "b3RvafELwaml"
      }
    },
    {
      "cell_type": "markdown",
      "source": [
        "Supervised vs Unsupervised vs Reinforcement Learning:\n",
        "\n",
        "https://www.simplilearn.com/tutorials/machine-learning-tutorial/types-of-machine-learning\n",
        "\n",
        "Regression vs Classification :\n",
        "\n",
        "https://www.analyticsvidhya.com/blog/2023/05/regression-vs-classification/ (Might be a little wordy)\n",
        "\n",
        "https://www.youtube.com/watch?v=1NBwM5tavTk&ab_channel=IntuitiveML\n",
        "(A very quick video)\n",
        "\n",
        "Machine Learning for Everyone (Read till 1.1):\n",
        "\n",
        "https://vas3k.com/blog/machine_learning/"
      ],
      "metadata": {
        "id": "Yrvq9KjAySAk"
      }
    },
    {
      "cell_type": "markdown",
      "source": [
        "OPTIONAL BUT USEFUL <br>\n",
        "Overfitting and Underfitting [VERY IMPORTANT]\n",
        "https://www.youtube.com/watch?v=T9NtOa-IITo"
      ],
      "metadata": {
        "id": "J9QC3OkXoXCk"
      }
    },
    {
      "cell_type": "markdown",
      "source": [
        "Lets import all the basic libraries."
      ],
      "metadata": {
        "id": "nC13EueBBcne"
      }
    },
    {
      "cell_type": "code",
      "source": [
        "!pip install shap -q  #Will be used later on"
      ],
      "metadata": {
        "id": "q9GqsCngsgkc"
      },
      "execution_count": 20,
      "outputs": []
    },
    {
      "cell_type": "code",
      "source": [
        "import pandas as pd\n",
        "import numpy as np\n",
        "import matplotlib.pyplot as plt\n",
        "import seaborn as sns"
      ],
      "metadata": {
        "id": "1TIf84uBBhLQ"
      },
      "execution_count": 21,
      "outputs": []
    },
    {
      "cell_type": "markdown",
      "source": [
        "Mount your Google Drive using the cell below."
      ],
      "metadata": {
        "id": "cvTCeJzEDsA1"
      }
    },
    {
      "cell_type": "code",
      "source": [
        "from google.colab import drive\n",
        "drive.mount('/content/drive')"
      ],
      "metadata": {
        "colab": {
          "base_uri": "https://localhost:8080/"
        },
        "id": "YvMGm6n_Drgn",
        "outputId": "6786b1ce-47e1-4e35-b2b4-7231b98de089"
      },
      "execution_count": 22,
      "outputs": [
        {
          "output_type": "stream",
          "name": "stdout",
          "text": [
            "Drive already mounted at /content/drive; to attempt to forcibly remount, call drive.mount(\"/content/drive\", force_remount=True).\n"
          ]
        }
      ]
    },
    {
      "cell_type": "markdown",
      "source": [
        "##Regression"
      ],
      "metadata": {
        "id": "ekg-HMInCWG-"
      }
    },
    {
      "cell_type": "markdown",
      "source": [
        "For regression, lets reuse the crab dataset that you worked on last week. Import the dataset from wherever you had saved it in the cell below.\n",
        "Also print the first 5 rows to ensure you have loaded the dataset correctly."
      ],
      "metadata": {
        "id": "m2c_AOWMCc31"
      }
    },
    {
      "cell_type": "code",
      "source": [
        "df_crab = pd.read_csv('/content/drive/MyDrive/Copy of train.csv')"
      ],
      "metadata": {
        "id": "-A4SpDP8CZnF"
      },
      "execution_count": 23,
      "outputs": []
    },
    {
      "cell_type": "code",
      "source": [
        "df_crab.shape"
      ],
      "metadata": {
        "colab": {
          "base_uri": "https://localhost:8080/"
        },
        "id": "NnvFF41YHkkL",
        "outputId": "4765f95c-afb5-4c2e-a4f8-0b9fb3eefb2b"
      },
      "execution_count": 24,
      "outputs": [
        {
          "output_type": "execute_result",
          "data": {
            "text/plain": [
              "(74051, 10)"
            ]
          },
          "metadata": {},
          "execution_count": 24
        }
      ]
    },
    {
      "cell_type": "markdown",
      "source": [
        "Now, let's some employ some Feature Engineering tactics which you would have performed in the previous tasks.\n",
        "\n",
        "Create a function called crab_processing which takes a dataframe as an input, performs the following tasks, and returns a cleaned and edited df:\n",
        "\n",
        "1) Drop the 'id' column.\n",
        "\n",
        "2) Drop all rows where 'Height' of the crab is 0.\n",
        "\n",
        "3) Create a new column called 'LostWeight' which is calculated using the following formula - ```\n",
        "Weight - (Shucked + Viscera + Shell)``` .\n",
        "If this formula gives a number less than 0, then assign 0 to the LostWeight column, else assign 1.\n",
        "\n",
        "4) Finally, use one hot encoding to encode the column 'Sex'\n",
        "\n",
        "Take help from your previous task where you have implemented these steps in different cells.\n"
      ],
      "metadata": {
        "id": "3x7bCUAuEgkI"
      }
    },
    {
      "cell_type": "code",
      "source": [
        "# Your code starts here\n",
        "def crab_processing(df):\n",
        "  lw=[]\n",
        "  df.drop('id',axis=1,inplace=True)\n",
        "  df=df[df['Height']>0]\n",
        "  for index,row in df.iterrows():\n",
        "    if((row['Weight']-(row['Shucked Weight']+row['Viscera Weight']+row['Shell Weight']))>0):\n",
        "      lw.append(1)\n",
        "    else:\n",
        "      lw.append(0)\n",
        "  df.insert(8,'Lost Weight',lw)\n",
        "  df=pd.get_dummies(df,columns=['Sex'])\n",
        "  return df\n",
        "\n",
        "df_crab = crab_processing(df_crab)\n",
        "df_crab.head()\n",
        "# Your code ends here"
      ],
      "metadata": {
        "id": "1r2CKOVYGqyT",
        "colab": {
          "base_uri": "https://localhost:8080/",
          "height": 206
        },
        "outputId": "2c1e0c89-1d01-48a6-b02f-d7d62403060e"
      },
      "execution_count": 25,
      "outputs": [
        {
          "output_type": "execute_result",
          "data": {
            "text/plain": [
              "   Length  Diameter  Height     Weight  Shucked Weight  Viscera Weight  \\\n",
              "0  1.5250    1.1750  0.3750  28.973189       12.728926        6.647958   \n",
              "1  1.1000    0.8250  0.2750  10.418441        4.521745        2.324659   \n",
              "2  1.3875    1.1125  0.3750  24.777463       11.339800        5.556502   \n",
              "3  1.7000    1.4125  0.5000  50.660556       20.354941       10.991839   \n",
              "4  1.2500    1.0125  0.3375  23.289114       11.977664        4.507570   \n",
              "\n",
              "   Shell Weight  Lost Weight  Age  Sex_F  Sex_I  Sex_M  \n",
              "0      8.348928            1    9      0      1      0  \n",
              "1      3.401940            1    8      0      1      0  \n",
              "2      6.662133            1    9      0      0      1  \n",
              "3     14.996885            1   11      1      0      0  \n",
              "4      5.953395            1    8      0      1      0  "
            ],
            "text/html": [
              "\n",
              "  <div id=\"df-360ff4ff-2633-443f-bf94-db5a8a308d3d\" class=\"colab-df-container\">\n",
              "    <div>\n",
              "<style scoped>\n",
              "    .dataframe tbody tr th:only-of-type {\n",
              "        vertical-align: middle;\n",
              "    }\n",
              "\n",
              "    .dataframe tbody tr th {\n",
              "        vertical-align: top;\n",
              "    }\n",
              "\n",
              "    .dataframe thead th {\n",
              "        text-align: right;\n",
              "    }\n",
              "</style>\n",
              "<table border=\"1\" class=\"dataframe\">\n",
              "  <thead>\n",
              "    <tr style=\"text-align: right;\">\n",
              "      <th></th>\n",
              "      <th>Length</th>\n",
              "      <th>Diameter</th>\n",
              "      <th>Height</th>\n",
              "      <th>Weight</th>\n",
              "      <th>Shucked Weight</th>\n",
              "      <th>Viscera Weight</th>\n",
              "      <th>Shell Weight</th>\n",
              "      <th>Lost Weight</th>\n",
              "      <th>Age</th>\n",
              "      <th>Sex_F</th>\n",
              "      <th>Sex_I</th>\n",
              "      <th>Sex_M</th>\n",
              "    </tr>\n",
              "  </thead>\n",
              "  <tbody>\n",
              "    <tr>\n",
              "      <th>0</th>\n",
              "      <td>1.5250</td>\n",
              "      <td>1.1750</td>\n",
              "      <td>0.3750</td>\n",
              "      <td>28.973189</td>\n",
              "      <td>12.728926</td>\n",
              "      <td>6.647958</td>\n",
              "      <td>8.348928</td>\n",
              "      <td>1</td>\n",
              "      <td>9</td>\n",
              "      <td>0</td>\n",
              "      <td>1</td>\n",
              "      <td>0</td>\n",
              "    </tr>\n",
              "    <tr>\n",
              "      <th>1</th>\n",
              "      <td>1.1000</td>\n",
              "      <td>0.8250</td>\n",
              "      <td>0.2750</td>\n",
              "      <td>10.418441</td>\n",
              "      <td>4.521745</td>\n",
              "      <td>2.324659</td>\n",
              "      <td>3.401940</td>\n",
              "      <td>1</td>\n",
              "      <td>8</td>\n",
              "      <td>0</td>\n",
              "      <td>1</td>\n",
              "      <td>0</td>\n",
              "    </tr>\n",
              "    <tr>\n",
              "      <th>2</th>\n",
              "      <td>1.3875</td>\n",
              "      <td>1.1125</td>\n",
              "      <td>0.3750</td>\n",
              "      <td>24.777463</td>\n",
              "      <td>11.339800</td>\n",
              "      <td>5.556502</td>\n",
              "      <td>6.662133</td>\n",
              "      <td>1</td>\n",
              "      <td>9</td>\n",
              "      <td>0</td>\n",
              "      <td>0</td>\n",
              "      <td>1</td>\n",
              "    </tr>\n",
              "    <tr>\n",
              "      <th>3</th>\n",
              "      <td>1.7000</td>\n",
              "      <td>1.4125</td>\n",
              "      <td>0.5000</td>\n",
              "      <td>50.660556</td>\n",
              "      <td>20.354941</td>\n",
              "      <td>10.991839</td>\n",
              "      <td>14.996885</td>\n",
              "      <td>1</td>\n",
              "      <td>11</td>\n",
              "      <td>1</td>\n",
              "      <td>0</td>\n",
              "      <td>0</td>\n",
              "    </tr>\n",
              "    <tr>\n",
              "      <th>4</th>\n",
              "      <td>1.2500</td>\n",
              "      <td>1.0125</td>\n",
              "      <td>0.3375</td>\n",
              "      <td>23.289114</td>\n",
              "      <td>11.977664</td>\n",
              "      <td>4.507570</td>\n",
              "      <td>5.953395</td>\n",
              "      <td>1</td>\n",
              "      <td>8</td>\n",
              "      <td>0</td>\n",
              "      <td>1</td>\n",
              "      <td>0</td>\n",
              "    </tr>\n",
              "  </tbody>\n",
              "</table>\n",
              "</div>\n",
              "    <div class=\"colab-df-buttons\">\n",
              "\n",
              "  <div class=\"colab-df-container\">\n",
              "    <button class=\"colab-df-convert\" onclick=\"convertToInteractive('df-360ff4ff-2633-443f-bf94-db5a8a308d3d')\"\n",
              "            title=\"Convert this dataframe to an interactive table.\"\n",
              "            style=\"display:none;\">\n",
              "\n",
              "  <svg xmlns=\"http://www.w3.org/2000/svg\" height=\"24px\" viewBox=\"0 -960 960 960\">\n",
              "    <path d=\"M120-120v-720h720v720H120Zm60-500h600v-160H180v160Zm220 220h160v-160H400v160Zm0 220h160v-160H400v160ZM180-400h160v-160H180v160Zm440 0h160v-160H620v160ZM180-180h160v-160H180v160Zm440 0h160v-160H620v160Z\"/>\n",
              "  </svg>\n",
              "    </button>\n",
              "\n",
              "  <style>\n",
              "    .colab-df-container {\n",
              "      display:flex;\n",
              "      gap: 12px;\n",
              "    }\n",
              "\n",
              "    .colab-df-convert {\n",
              "      background-color: #E8F0FE;\n",
              "      border: none;\n",
              "      border-radius: 50%;\n",
              "      cursor: pointer;\n",
              "      display: none;\n",
              "      fill: #1967D2;\n",
              "      height: 32px;\n",
              "      padding: 0 0 0 0;\n",
              "      width: 32px;\n",
              "    }\n",
              "\n",
              "    .colab-df-convert:hover {\n",
              "      background-color: #E2EBFA;\n",
              "      box-shadow: 0px 1px 2px rgba(60, 64, 67, 0.3), 0px 1px 3px 1px rgba(60, 64, 67, 0.15);\n",
              "      fill: #174EA6;\n",
              "    }\n",
              "\n",
              "    .colab-df-buttons div {\n",
              "      margin-bottom: 4px;\n",
              "    }\n",
              "\n",
              "    [theme=dark] .colab-df-convert {\n",
              "      background-color: #3B4455;\n",
              "      fill: #D2E3FC;\n",
              "    }\n",
              "\n",
              "    [theme=dark] .colab-df-convert:hover {\n",
              "      background-color: #434B5C;\n",
              "      box-shadow: 0px 1px 3px 1px rgba(0, 0, 0, 0.15);\n",
              "      filter: drop-shadow(0px 1px 2px rgba(0, 0, 0, 0.3));\n",
              "      fill: #FFFFFF;\n",
              "    }\n",
              "  </style>\n",
              "\n",
              "    <script>\n",
              "      const buttonEl =\n",
              "        document.querySelector('#df-360ff4ff-2633-443f-bf94-db5a8a308d3d button.colab-df-convert');\n",
              "      buttonEl.style.display =\n",
              "        google.colab.kernel.accessAllowed ? 'block' : 'none';\n",
              "\n",
              "      async function convertToInteractive(key) {\n",
              "        const element = document.querySelector('#df-360ff4ff-2633-443f-bf94-db5a8a308d3d');\n",
              "        const dataTable =\n",
              "          await google.colab.kernel.invokeFunction('convertToInteractive',\n",
              "                                                    [key], {});\n",
              "        if (!dataTable) return;\n",
              "\n",
              "        const docLinkHtml = 'Like what you see? Visit the ' +\n",
              "          '<a target=\"_blank\" href=https://colab.research.google.com/notebooks/data_table.ipynb>data table notebook</a>'\n",
              "          + ' to learn more about interactive tables.';\n",
              "        element.innerHTML = '';\n",
              "        dataTable['output_type'] = 'display_data';\n",
              "        await google.colab.output.renderOutput(dataTable, element);\n",
              "        const docLink = document.createElement('div');\n",
              "        docLink.innerHTML = docLinkHtml;\n",
              "        element.appendChild(docLink);\n",
              "      }\n",
              "    </script>\n",
              "  </div>\n",
              "\n",
              "\n",
              "<div id=\"df-783fe3c9-fc58-4246-b6ff-ad779e544ce6\">\n",
              "  <button class=\"colab-df-quickchart\" onclick=\"quickchart('df-783fe3c9-fc58-4246-b6ff-ad779e544ce6')\"\n",
              "            title=\"Suggest charts.\"\n",
              "            style=\"display:none;\">\n",
              "\n",
              "<svg xmlns=\"http://www.w3.org/2000/svg\" height=\"24px\"viewBox=\"0 0 24 24\"\n",
              "     width=\"24px\">\n",
              "    <g>\n",
              "        <path d=\"M19 3H5c-1.1 0-2 .9-2 2v14c0 1.1.9 2 2 2h14c1.1 0 2-.9 2-2V5c0-1.1-.9-2-2-2zM9 17H7v-7h2v7zm4 0h-2V7h2v10zm4 0h-2v-4h2v4z\"/>\n",
              "    </g>\n",
              "</svg>\n",
              "  </button>\n",
              "\n",
              "<style>\n",
              "  .colab-df-quickchart {\n",
              "      --bg-color: #E8F0FE;\n",
              "      --fill-color: #1967D2;\n",
              "      --hover-bg-color: #E2EBFA;\n",
              "      --hover-fill-color: #174EA6;\n",
              "      --disabled-fill-color: #AAA;\n",
              "      --disabled-bg-color: #DDD;\n",
              "  }\n",
              "\n",
              "  [theme=dark] .colab-df-quickchart {\n",
              "      --bg-color: #3B4455;\n",
              "      --fill-color: #D2E3FC;\n",
              "      --hover-bg-color: #434B5C;\n",
              "      --hover-fill-color: #FFFFFF;\n",
              "      --disabled-bg-color: #3B4455;\n",
              "      --disabled-fill-color: #666;\n",
              "  }\n",
              "\n",
              "  .colab-df-quickchart {\n",
              "    background-color: var(--bg-color);\n",
              "    border: none;\n",
              "    border-radius: 50%;\n",
              "    cursor: pointer;\n",
              "    display: none;\n",
              "    fill: var(--fill-color);\n",
              "    height: 32px;\n",
              "    padding: 0;\n",
              "    width: 32px;\n",
              "  }\n",
              "\n",
              "  .colab-df-quickchart:hover {\n",
              "    background-color: var(--hover-bg-color);\n",
              "    box-shadow: 0 1px 2px rgba(60, 64, 67, 0.3), 0 1px 3px 1px rgba(60, 64, 67, 0.15);\n",
              "    fill: var(--button-hover-fill-color);\n",
              "  }\n",
              "\n",
              "  .colab-df-quickchart-complete:disabled,\n",
              "  .colab-df-quickchart-complete:disabled:hover {\n",
              "    background-color: var(--disabled-bg-color);\n",
              "    fill: var(--disabled-fill-color);\n",
              "    box-shadow: none;\n",
              "  }\n",
              "\n",
              "  .colab-df-spinner {\n",
              "    border: 2px solid var(--fill-color);\n",
              "    border-color: transparent;\n",
              "    border-bottom-color: var(--fill-color);\n",
              "    animation:\n",
              "      spin 1s steps(1) infinite;\n",
              "  }\n",
              "\n",
              "  @keyframes spin {\n",
              "    0% {\n",
              "      border-color: transparent;\n",
              "      border-bottom-color: var(--fill-color);\n",
              "      border-left-color: var(--fill-color);\n",
              "    }\n",
              "    20% {\n",
              "      border-color: transparent;\n",
              "      border-left-color: var(--fill-color);\n",
              "      border-top-color: var(--fill-color);\n",
              "    }\n",
              "    30% {\n",
              "      border-color: transparent;\n",
              "      border-left-color: var(--fill-color);\n",
              "      border-top-color: var(--fill-color);\n",
              "      border-right-color: var(--fill-color);\n",
              "    }\n",
              "    40% {\n",
              "      border-color: transparent;\n",
              "      border-right-color: var(--fill-color);\n",
              "      border-top-color: var(--fill-color);\n",
              "    }\n",
              "    60% {\n",
              "      border-color: transparent;\n",
              "      border-right-color: var(--fill-color);\n",
              "    }\n",
              "    80% {\n",
              "      border-color: transparent;\n",
              "      border-right-color: var(--fill-color);\n",
              "      border-bottom-color: var(--fill-color);\n",
              "    }\n",
              "    90% {\n",
              "      border-color: transparent;\n",
              "      border-bottom-color: var(--fill-color);\n",
              "    }\n",
              "  }\n",
              "</style>\n",
              "\n",
              "  <script>\n",
              "    async function quickchart(key) {\n",
              "      const quickchartButtonEl =\n",
              "        document.querySelector('#' + key + ' button');\n",
              "      quickchartButtonEl.disabled = true;  // To prevent multiple clicks.\n",
              "      quickchartButtonEl.classList.add('colab-df-spinner');\n",
              "      try {\n",
              "        const charts = await google.colab.kernel.invokeFunction(\n",
              "            'suggestCharts', [key], {});\n",
              "      } catch (error) {\n",
              "        console.error('Error during call to suggestCharts:', error);\n",
              "      }\n",
              "      quickchartButtonEl.classList.remove('colab-df-spinner');\n",
              "      quickchartButtonEl.classList.add('colab-df-quickchart-complete');\n",
              "    }\n",
              "    (() => {\n",
              "      let quickchartButtonEl =\n",
              "        document.querySelector('#df-783fe3c9-fc58-4246-b6ff-ad779e544ce6 button');\n",
              "      quickchartButtonEl.style.display =\n",
              "        google.colab.kernel.accessAllowed ? 'block' : 'none';\n",
              "    })();\n",
              "  </script>\n",
              "</div>\n",
              "    </div>\n",
              "  </div>\n"
            ]
          },
          "metadata": {},
          "execution_count": 25
        }
      ]
    },
    {
      "cell_type": "markdown",
      "source": [
        "If all is correct, this should be the shape of your df now."
      ],
      "metadata": {
        "id": "S7PFPnCEILGm"
      }
    },
    {
      "cell_type": "code",
      "source": [
        "df_crab.shape"
      ],
      "metadata": {
        "colab": {
          "base_uri": "https://localhost:8080/"
        },
        "id": "PK-t3m18IG_0",
        "outputId": "ffee4897-cd8f-4a79-9e5b-2c5c20c8ac6d"
      },
      "execution_count": 26,
      "outputs": [
        {
          "output_type": "execute_result",
          "data": {
            "text/plain": [
              "(74027, 12)"
            ]
          },
          "metadata": {},
          "execution_count": 26
        }
      ]
    },
    {
      "cell_type": "markdown",
      "source": [
        "###Basic Visualization\n",
        "\n",
        "In this problem, our aim is to predict the age of the crab, hence 'Age' here is called our target variable. To check its distribution, plot a histogram of the 'Age' column.\n",
        "\n",
        "Choose the number of bins by experimenting. The output is expected to mimic a bell curve.\n",
        "\n",
        "What is a histogram? - https://www.w3schools.com/python/matplotlib_histograms.asp\n",
        "\n",
        "Difference between histogram and a bar graph - https://keydifferences.com/difference-between-histogram-and-bar-graph.html"
      ],
      "metadata": {
        "id": "FsKwo6pHIh_L"
      }
    },
    {
      "cell_type": "code",
      "source": [
        "# Your code starts here\n",
        "sns.histplot(x='Age',data=df_crab,binwidth=1,bins=40,color='purple')\n",
        "# Your code ends here"
      ],
      "metadata": {
        "id": "ziGnQvT0Ig_i",
        "colab": {
          "base_uri": "https://localhost:8080/",
          "height": 466
        },
        "outputId": "34142284-c9ce-40ff-9221-4f9e5903938d"
      },
      "execution_count": 27,
      "outputs": [
        {
          "output_type": "execute_result",
          "data": {
            "text/plain": [
              "<Axes: xlabel='Age', ylabel='Count'>"
            ]
          },
          "metadata": {},
          "execution_count": 27
        },
        {
          "output_type": "display_data",
          "data": {
            "text/plain": [
              "<Figure size 640x480 with 1 Axes>"
            ],
            "image/png": "[encoded data removed]"
          },
          "metadata": {}
        }
      ]
    },
    {
      "cell_type": "markdown",
      "source": [
        "###Feature and Variable Sets\n",
        "\n",
        "As mentioned above, the 'Age' column is what we're gonna be predicting. So essentially we need to create two additional dataframes, one which contains all the training features (All columns except 'Age') and one which only contains the column 'Age'. Name them X and y respectively."
      ],
      "metadata": {
        "id": "J7Iq00srJ83u"
      }
    },
    {
      "cell_type": "code",
      "source": [
        "# Your code starts here\n",
        "X=df_crab.drop('Age',axis=1)\n",
        "y=df_crab[['Age']]\n",
        "# Your code ends here"
      ],
      "metadata": {
        "id": "aLzZb4T3JYtz"
      },
      "execution_count": 28,
      "outputs": []
    },
    {
      "cell_type": "code",
      "source": [
        "# This code should print (74027, 11) and (74027, 1) if everything is correct\n",
        "print(X.shape,y.shape)"
      ],
      "metadata": {
        "id": "NxzP7ADCLDfj",
        "colab": {
          "base_uri": "https://localhost:8080/"
        },
        "outputId": "02142984-9c33-4d71-d7bf-3b3a0ca94099"
      },
      "execution_count": 29,
      "outputs": [
        {
          "output_type": "stream",
          "name": "stdout",
          "text": [
            "(74027, 11) (74027, 1)\n"
          ]
        }
      ]
    },
    {
      "cell_type": "code",
      "source": [
        "#Print a few records of X\n",
        "X.head(10)"
      ],
      "metadata": {
        "id": "Zyx_dD5OLQAl",
        "colab": {
          "base_uri": "https://localhost:8080/",
          "height": 363
        },
        "outputId": "2378996e-39cd-4907-dfa3-ed328a8090cc"
      },
      "execution_count": 30,
      "outputs": [
        {
          "output_type": "execute_result",
          "data": {
            "text/plain": [
              "   Length  Diameter  Height     Weight  Shucked Weight  Viscera Weight  \\\n",
              "0  1.5250    1.1750  0.3750  28.973189       12.728926        6.647958   \n",
              "1  1.1000    0.8250  0.2750  10.418441        4.521745        2.324659   \n",
              "2  1.3875    1.1125  0.3750  24.777463       11.339800        5.556502   \n",
              "3  1.7000    1.4125  0.5000  50.660556       20.354941       10.991839   \n",
              "4  1.2500    1.0125  0.3375  23.289114       11.977664        4.507570   \n",
              "5  1.5000    1.1750  0.4125  28.845616       13.409313        6.789705   \n",
              "6  1.5750    1.1375  0.3500  30.022120       11.935140        7.342521   \n",
              "7  1.3125    1.0250  0.3500  18.299602        8.249704        3.898056   \n",
              "8  1.6000    1.2875  0.4375  38.824640       16.967176        7.413394   \n",
              "9  1.0250    0.7625  0.2625  10.305043        4.493396        2.126212   \n",
              "\n",
              "   Shell Weight  Lost Weight  Sex_F  Sex_I  Sex_M  \n",
              "0      8.348928            1      0      1      0  \n",
              "1      3.401940            1      0      1      0  \n",
              "2      6.662133            1      0      0      1  \n",
              "3     14.996885            1      1      0      0  \n",
              "4      5.953395            1      0      1      0  \n",
              "5      7.937860            1      0      0      1  \n",
              "6      8.646598            1      0      0      1  \n",
              "7      5.669900            1      0      1      0  \n",
              "8     10.772810            1      1      0      0  \n",
              "9      2.976698            1      0      0      1  "
            ],
            "text/html": [
              "\n",
              "  <div id=\"df-ce4f1b1c-156c-4ffa-b644-f16f5b60788e\" class=\"colab-df-container\">\n",
              "    <div>\n",
              "<style scoped>\n",
              "    .dataframe tbody tr th:only-of-type {\n",
              "        vertical-align: middle;\n",
              "    }\n",
              "\n",
              "    .dataframe tbody tr th {\n",
              "        vertical-align: top;\n",
              "    }\n",
              "\n",
              "    .dataframe thead th {\n",
              "        text-align: right;\n",
              "    }\n",
              "</style>\n",
              "<table border=\"1\" class=\"dataframe\">\n",
              "  <thead>\n",
              "    <tr style=\"text-align: right;\">\n",
              "      <th></th>\n",
              "      <th>Length</th>\n",
              "      <th>Diameter</th>\n",
              "      <th>Height</th>\n",
              "      <th>Weight</th>\n",
              "      <th>Shucked Weight</th>\n",
              "      <th>Viscera Weight</th>\n",
              "      <th>Shell Weight</th>\n",
              "      <th>Lost Weight</th>\n",
              "      <th>Sex_F</th>\n",
              "      <th>Sex_I</th>\n",
              "      <th>Sex_M</th>\n",
              "    </tr>\n",
              "  </thead>\n",
              "  <tbody>\n",
              "    <tr>\n",
              "      <th>0</th>\n",
              "      <td>1.5250</td>\n",
              "      <td>1.1750</td>\n",
              "      <td>0.3750</td>\n",
              "      <td>28.973189</td>\n",
              "      <td>12.728926</td>\n",
              "      <td>6.647958</td>\n",
              "      <td>8.348928</td>\n",
              "      <td>1</td>\n",
              "      <td>0</td>\n",
              "      <td>1</td>\n",
              "      <td>0</td>\n",
              "    </tr>\n",
              "    <tr>\n",
              "      <th>1</th>\n",
              "      <td>1.1000</td>\n",
              "      <td>0.8250</td>\n",
              "      <td>0.2750</td>\n",
              "      <td>10.418441</td>\n",
              "      <td>4.521745</td>\n",
              "      <td>2.324659</td>\n",
              "      <td>3.401940</td>\n",
              "      <td>1</td>\n",
              "      <td>0</td>\n",
              "      <td>1</td>\n",
              "      <td>0</td>\n",
              "    </tr>\n",
              "    <tr>\n",
              "      <th>2</th>\n",
              "      <td>1.3875</td>\n",
              "      <td>1.1125</td>\n",
              "      <td>0.3750</td>\n",
              "      <td>24.777463</td>\n",
              "      <td>11.339800</td>\n",
              "      <td>5.556502</td>\n",
              "      <td>6.662133</td>\n",
              "      <td>1</td>\n",
              "      <td>0</td>\n",
              "      <td>0</td>\n",
              "      <td>1</td>\n",
              "    </tr>\n",
              "    <tr>\n",
              "      <th>3</th>\n",
              "      <td>1.7000</td>\n",
              "      <td>1.4125</td>\n",
              "      <td>0.5000</td>\n",
              "      <td>50.660556</td>\n",
              "      <td>20.354941</td>\n",
              "      <td>10.991839</td>\n",
              "      <td>14.996885</td>\n",
              "      <td>1</td>\n",
              "      <td>1</td>\n",
              "      <td>0</td>\n",
              "      <td>0</td>\n",
              "    </tr>\n",
              "    <tr>\n",
              "      <th>4</th>\n",
              "      <td>1.2500</td>\n",
              "      <td>1.0125</td>\n",
              "      <td>0.3375</td>\n",
              "      <td>23.289114</td>\n",
              "      <td>11.977664</td>\n",
              "      <td>4.507570</td>\n",
              "      <td>5.953395</td>\n",
              "      <td>1</td>\n",
              "      <td>0</td>\n",
              "      <td>1</td>\n",
              "      <td>0</td>\n",
              "    </tr>\n",
              "    <tr>\n",
              "      <th>5</th>\n",
              "      <td>1.5000</td>\n",
              "      <td>1.1750</td>\n",
              "      <td>0.4125</td>\n",
              "      <td>28.845616</td>\n",
              "      <td>13.409313</td>\n",
              "      <td>6.789705</td>\n",
              "      <td>7.937860</td>\n",
              "      <td>1</td>\n",
              "      <td>0</td>\n",
              "      <td>0</td>\n",
              "      <td>1</td>\n",
              "    </tr>\n",
              "    <tr>\n",
              "      <th>6</th>\n",
              "      <td>1.5750</td>\n",
              "      <td>1.1375</td>\n",
              "      <td>0.3500</td>\n",
              "      <td>30.022120</td>\n",
              "      <td>11.935140</td>\n",
              "      <td>7.342521</td>\n",
              "      <td>8.646598</td>\n",
              "      <td>1</td>\n",
              "      <td>0</td>\n",
              "      <td>0</td>\n",
              "      <td>1</td>\n",
              "    </tr>\n",
              "    <tr>\n",
              "      <th>7</th>\n",
              "      <td>1.3125</td>\n",
              "      <td>1.0250</td>\n",
              "      <td>0.3500</td>\n",
              "      <td>18.299602</td>\n",
              "      <td>8.249704</td>\n",
              "      <td>3.898056</td>\n",
              "      <td>5.669900</td>\n",
              "      <td>1</td>\n",
              "      <td>0</td>\n",
              "      <td>1</td>\n",
              "      <td>0</td>\n",
              "    </tr>\n",
              "    <tr>\n",
              "      <th>8</th>\n",
              "      <td>1.6000</td>\n",
              "      <td>1.2875</td>\n",
              "      <td>0.4375</td>\n",
              "      <td>38.824640</td>\n",
              "      <td>16.967176</td>\n",
              "      <td>7.413394</td>\n",
              "      <td>10.772810</td>\n",
              "      <td>1</td>\n",
              "      <td>1</td>\n",
              "      <td>0</td>\n",
              "      <td>0</td>\n",
              "    </tr>\n",
              "    <tr>\n",
              "      <th>9</th>\n",
              "      <td>1.0250</td>\n",
              "      <td>0.7625</td>\n",
              "      <td>0.2625</td>\n",
              "      <td>10.305043</td>\n",
              "      <td>4.493396</td>\n",
              "      <td>2.126212</td>\n",
              "      <td>2.976698</td>\n",
              "      <td>1</td>\n",
              "      <td>0</td>\n",
              "      <td>0</td>\n",
              "      <td>1</td>\n",
              "    </tr>\n",
              "  </tbody>\n",
              "</table>\n",
              "</div>\n",
              "    <div class=\"colab-df-buttons\">\n",
              "\n",
              "  <div class=\"colab-df-container\">\n",
              "    <button class=\"colab-df-convert\" onclick=\"convertToInteractive('df-ce4f1b1c-156c-4ffa-b644-f16f5b60788e')\"\n",
              "            title=\"Convert this dataframe to an interactive table.\"\n",
              "            style=\"display:none;\">\n",
              "\n",
              "  <svg xmlns=\"http://www.w3.org/2000/svg\" height=\"24px\" viewBox=\"0 -960 960 960\">\n",
              "    <path d=\"M120-120v-720h720v720H120Zm60-500h600v-160H180v160Zm220 220h160v-160H400v160Zm0 220h160v-160H400v160ZM180-400h160v-160H180v160Zm440 0h160v-160H620v160ZM180-180h160v-160H180v160Zm440 0h160v-160H620v160Z\"/>\n",
              "  </svg>\n",
              "    </button>\n",
              "\n",
              "  <style>\n",
              "    .colab-df-container {\n",
              "      display:flex;\n",
              "      gap: 12px;\n",
              "    }\n",
              "\n",
              "    .colab-df-convert {\n",
              "      background-color: #E8F0FE;\n",
              "      border: none;\n",
              "      border-radius: 50%;\n",
              "      cursor: pointer;\n",
              "      display: none;\n",
              "      fill: #1967D2;\n",
              "      height: 32px;\n",
              "      padding: 0 0 0 0;\n",
              "      width: 32px;\n",
              "    }\n",
              "\n",
              "    .colab-df-convert:hover {\n",
              "      background-color: #E2EBFA;\n",
              "      box-shadow: 0px 1px 2px rgba(60, 64, 67, 0.3), 0px 1px 3px 1px rgba(60, 64, 67, 0.15);\n",
              "      fill: #174EA6;\n",
              "    }\n",
              "\n",
              "    .colab-df-buttons div {\n",
              "      margin-bottom: 4px;\n",
              "    }\n",
              "\n",
              "    [theme=dark] .colab-df-convert {\n",
              "      background-color: #3B4455;\n",
              "      fill: #D2E3FC;\n",
              "    }\n",
              "\n",
              "    [theme=dark] .colab-df-convert:hover {\n",
              "      background-color: #434B5C;\n",
              "      box-shadow: 0px 1px 3px 1px rgba(0, 0, 0, 0.15);\n",
              "      filter: drop-shadow(0px 1px 2px rgba(0, 0, 0, 0.3));\n",
              "      fill: #FFFFFF;\n",
              "    }\n",
              "  </style>\n",
              "\n",
              "    <script>\n",
              "      const buttonEl =\n",
              "        document.querySelector('#df-ce4f1b1c-156c-4ffa-b644-f16f5b60788e button.colab-df-convert');\n",
              "      buttonEl.style.display =\n",
              "        google.colab.kernel.accessAllowed ? 'block' : 'none';\n",
              "\n",
              "      async function convertToInteractive(key) {\n",
              "        const element = document.querySelector('#df-ce4f1b1c-156c-4ffa-b644-f16f5b60788e');\n",
              "        const dataTable =\n",
              "          await google.colab.kernel.invokeFunction('convertToInteractive',\n",
              "                                                    [key], {});\n",
              "        if (!dataTable) return;\n",
              "\n",
              "        const docLinkHtml = 'Like what you see? Visit the ' +\n",
              "          '<a target=\"_blank\" href=https://colab.research.google.com/notebooks/data_table.ipynb>data table notebook</a>'\n",
              "          + ' to learn more about interactive tables.';\n",
              "        element.innerHTML = '';\n",
              "        dataTable['output_type'] = 'display_data';\n",
              "        await google.colab.output.renderOutput(dataTable, element);\n",
              "        const docLink = document.createElement('div');\n",
              "        docLink.innerHTML = docLinkHtml;\n",
              "        element.appendChild(docLink);\n",
              "      }\n",
              "    </script>\n",
              "  </div>\n",
              "\n",
              "\n",
              "<div id=\"df-2664e3cf-7157-4992-b884-fc69b212ed34\">\n",
              "  <button class=\"colab-df-quickchart\" onclick=\"quickchart('df-2664e3cf-7157-4992-b884-fc69b212ed34')\"\n",
              "            title=\"Suggest charts.\"\n",
              "            style=\"display:none;\">\n",
              "\n",
              "<svg xmlns=\"http://www.w3.org/2000/svg\" height=\"24px\"viewBox=\"0 0 24 24\"\n",
              "     width=\"24px\">\n",
              "    <g>\n",
              "        <path d=\"M19 3H5c-1.1 0-2 .9-2 2v14c0 1.1.9 2 2 2h14c1.1 0 2-.9 2-2V5c0-1.1-.9-2-2-2zM9 17H7v-7h2v7zm4 0h-2V7h2v10zm4 0h-2v-4h2v4z\"/>\n",
              "    </g>\n",
              "</svg>\n",
              "  </button>\n",
              "\n",
              "<style>\n",
              "  .colab-df-quickchart {\n",
              "      --bg-color: #E8F0FE;\n",
              "      --fill-color: #1967D2;\n",
              "      --hover-bg-color: #E2EBFA;\n",
              "      --hover-fill-color: #174EA6;\n",
              "      --disabled-fill-color: #AAA;\n",
              "      --disabled-bg-color: #DDD;\n",
              "  }\n",
              "\n",
              "  [theme=dark] .colab-df-quickchart {\n",
              "      --bg-color: #3B4455;\n",
              "      --fill-color: #D2E3FC;\n",
              "      --hover-bg-color: #434B5C;\n",
              "      --hover-fill-color: #FFFFFF;\n",
              "      --disabled-bg-color: #3B4455;\n",
              "      --disabled-fill-color: #666;\n",
              "  }\n",
              "\n",
              "  .colab-df-quickchart {\n",
              "    background-color: var(--bg-color);\n",
              "    border: none;\n",
              "    border-radius: 50%;\n",
              "    cursor: pointer;\n",
              "    display: none;\n",
              "    fill: var(--fill-color);\n",
              "    height: 32px;\n",
              "    padding: 0;\n",
              "    width: 32px;\n",
              "  }\n",
              "\n",
              "  .colab-df-quickchart:hover {\n",
              "    background-color: var(--hover-bg-color);\n",
              "    box-shadow: 0 1px 2px rgba(60, 64, 67, 0.3), 0 1px 3px 1px rgba(60, 64, 67, 0.15);\n",
              "    fill: var(--button-hover-fill-color);\n",
              "  }\n",
              "\n",
              "  .colab-df-quickchart-complete:disabled,\n",
              "  .colab-df-quickchart-complete:disabled:hover {\n",
              "    background-color: var(--disabled-bg-color);\n",
              "    fill: var(--disabled-fill-color);\n",
              "    box-shadow: none;\n",
              "  }\n",
              "\n",
              "  .colab-df-spinner {\n",
              "    border: 2px solid var(--fill-color);\n",
              "    border-color: transparent;\n",
              "    border-bottom-color: var(--fill-color);\n",
              "    animation:\n",
              "      spin 1s steps(1) infinite;\n",
              "  }\n",
              "\n",
              "  @keyframes spin {\n",
              "    0% {\n",
              "      border-color: transparent;\n",
              "      border-bottom-color: var(--fill-color);\n",
              "      border-left-color: var(--fill-color);\n",
              "    }\n",
              "    20% {\n",
              "      border-color: transparent;\n",
              "      border-left-color: var(--fill-color);\n",
              "      border-top-color: var(--fill-color);\n",
              "    }\n",
              "    30% {\n",
              "      border-color: transparent;\n",
              "      border-left-color: var(--fill-color);\n",
              "      border-top-color: var(--fill-color);\n",
              "      border-right-color: var(--fill-color);\n",
              "    }\n",
              "    40% {\n",
              "      border-color: transparent;\n",
              "      border-right-color: var(--fill-color);\n",
              "      border-top-color: var(--fill-color);\n",
              "    }\n",
              "    60% {\n",
              "      border-color: transparent;\n",
              "      border-right-color: var(--fill-color);\n",
              "    }\n",
              "    80% {\n",
              "      border-color: transparent;\n",
              "      border-right-color: var(--fill-color);\n",
              "      border-bottom-color: var(--fill-color);\n",
              "    }\n",
              "    90% {\n",
              "      border-color: transparent;\n",
              "      border-bottom-color: var(--fill-color);\n",
              "    }\n",
              "  }\n",
              "</style>\n",
              "\n",
              "  <script>\n",
              "    async function quickchart(key) {\n",
              "      const quickchartButtonEl =\n",
              "        document.querySelector('#' + key + ' button');\n",
              "      quickchartButtonEl.disabled = true;  // To prevent multiple clicks.\n",
              "      quickchartButtonEl.classList.add('colab-df-spinner');\n",
              "      try {\n",
              "        const charts = await google.colab.kernel.invokeFunction(\n",
              "            'suggestCharts', [key], {});\n",
              "      } catch (error) {\n",
              "        console.error('Error during call to suggestCharts:', error);\n",
              "      }\n",
              "      quickchartButtonEl.classList.remove('colab-df-spinner');\n",
              "      quickchartButtonEl.classList.add('colab-df-quickchart-complete');\n",
              "    }\n",
              "    (() => {\n",
              "      let quickchartButtonEl =\n",
              "        document.querySelector('#df-2664e3cf-7157-4992-b884-fc69b212ed34 button');\n",
              "      quickchartButtonEl.style.display =\n",
              "        google.colab.kernel.accessAllowed ? 'block' : 'none';\n",
              "    })();\n",
              "  </script>\n",
              "</div>\n",
              "    </div>\n",
              "  </div>\n"
            ]
          },
          "metadata": {},
          "execution_count": 30
        }
      ]
    },
    {
      "cell_type": "code",
      "source": [
        "#Print a few records of y\n",
        "y.head(10)"
      ],
      "metadata": {
        "id": "XsmETnt5LS4-",
        "colab": {
          "base_uri": "https://localhost:8080/",
          "height": 363
        },
        "outputId": "cb264372-b43b-4618-e116-e5f83fece401"
      },
      "execution_count": 31,
      "outputs": [
        {
          "output_type": "execute_result",
          "data": {
            "text/plain": [
              "   Age\n",
              "0    9\n",
              "1    8\n",
              "2    9\n",
              "3   11\n",
              "4    8\n",
              "5   10\n",
              "6   11\n",
              "7   11\n",
              "8   12\n",
              "9   11"
            ],
            "text/html": [
              "\n",
              "  <div id=\"df-d0c71b6e-26b9-43d5-8cbb-963af68d20cb\" class=\"colab-df-container\">\n",
              "    <div>\n",
              "<style scoped>\n",
              "    .dataframe tbody tr th:only-of-type {\n",
              "        vertical-align: middle;\n",
              "    }\n",
              "\n",
              "    .dataframe tbody tr th {\n",
              "        vertical-align: top;\n",
              "    }\n",
              "\n",
              "    .dataframe thead th {\n",
              "        text-align: right;\n",
              "    }\n",
              "</style>\n",
              "<table border=\"1\" class=\"dataframe\">\n",
              "  <thead>\n",
              "    <tr style=\"text-align: right;\">\n",
              "      <th></th>\n",
              "      <th>Age</th>\n",
              "    </tr>\n",
              "  </thead>\n",
              "  <tbody>\n",
              "    <tr>\n",
              "      <th>0</th>\n",
              "      <td>9</td>\n",
              "    </tr>\n",
              "    <tr>\n",
              "      <th>1</th>\n",
              "      <td>8</td>\n",
              "    </tr>\n",
              "    <tr>\n",
              "      <th>2</th>\n",
              "      <td>9</td>\n",
              "    </tr>\n",
              "    <tr>\n",
              "      <th>3</th>\n",
              "      <td>11</td>\n",
              "    </tr>\n",
              "    <tr>\n",
              "      <th>4</th>\n",
              "      <td>8</td>\n",
              "    </tr>\n",
              "    <tr>\n",
              "      <th>5</th>\n",
              "      <td>10</td>\n",
              "    </tr>\n",
              "    <tr>\n",
              "      <th>6</th>\n",
              "      <td>11</td>\n",
              "    </tr>\n",
              "    <tr>\n",
              "      <th>7</th>\n",
              "      <td>11</td>\n",
              "    </tr>\n",
              "    <tr>\n",
              "      <th>8</th>\n",
              "      <td>12</td>\n",
              "    </tr>\n",
              "    <tr>\n",
              "      <th>9</th>\n",
              "      <td>11</td>\n",
              "    </tr>\n",
              "  </tbody>\n",
              "</table>\n",
              "</div>\n",
              "    <div class=\"colab-df-buttons\">\n",
              "\n",
              "  <div class=\"colab-df-container\">\n",
              "    <button class=\"colab-df-convert\" onclick=\"convertToInteractive('df-d0c71b6e-26b9-43d5-8cbb-963af68d20cb')\"\n",
              "            title=\"Convert this dataframe to an interactive table.\"\n",
              "            style=\"display:none;\">\n",
              "\n",
              "  <svg xmlns=\"http://www.w3.org/2000/svg\" height=\"24px\" viewBox=\"0 -960 960 960\">\n",
              "    <path d=\"M120-120v-720h720v720H120Zm60-500h600v-160H180v160Zm220 220h160v-160H400v160Zm0 220h160v-160H400v160ZM180-400h160v-160H180v160Zm440 0h160v-160H620v160ZM180-180h160v-160H180v160Zm440 0h160v-160H620v160Z\"/>\n",
              "  </svg>\n",
              "    </button>\n",
              "\n",
              "  <style>\n",
              "    .colab-df-container {\n",
              "      display:flex;\n",
              "      gap: 12px;\n",
              "    }\n",
              "\n",
              "    .colab-df-convert {\n",
              "      background-color: #E8F0FE;\n",
              "      border: none;\n",
              "      border-radius: 50%;\n",
              "      cursor: pointer;\n",
              "      display: none;\n",
              "      fill: #1967D2;\n",
              "      height: 32px;\n",
              "      padding: 0 0 0 0;\n",
              "      width: 32px;\n",
              "    }\n",
              "\n",
              "    .colab-df-convert:hover {\n",
              "      background-color: #E2EBFA;\n",
              "      box-shadow: 0px 1px 2px rgba(60, 64, 67, 0.3), 0px 1px 3px 1px rgba(60, 64, 67, 0.15);\n",
              "      fill: #174EA6;\n",
              "    }\n",
              "\n",
              "    .colab-df-buttons div {\n",
              "      margin-bottom: 4px;\n",
              "    }\n",
              "\n",
              "    [theme=dark] .colab-df-convert {\n",
              "      background-color: #3B4455;\n",
              "      fill: #D2E3FC;\n",
              "    }\n",
              "\n",
              "    [theme=dark] .colab-df-convert:hover {\n",
              "      background-color: #434B5C;\n",
              "      box-shadow: 0px 1px 3px 1px rgba(0, 0, 0, 0.15);\n",
              "      filter: drop-shadow(0px 1px 2px rgba(0, 0, 0, 0.3));\n",
              "      fill: #FFFFFF;\n",
              "    }\n",
              "  </style>\n",
              "\n",
              "    <script>\n",
              "      const buttonEl =\n",
              "        document.querySelector('#df-d0c71b6e-26b9-43d5-8cbb-963af68d20cb button.colab-df-convert');\n",
              "      buttonEl.style.display =\n",
              "        google.colab.kernel.accessAllowed ? 'block' : 'none';\n",
              "\n",
              "      async function convertToInteractive(key) {\n",
              "        const element = document.querySelector('#df-d0c71b6e-26b9-43d5-8cbb-963af68d20cb');\n",
              "        const dataTable =\n",
              "          await google.colab.kernel.invokeFunction('convertToInteractive',\n",
              "                                                    [key], {});\n",
              "        if (!dataTable) return;\n",
              "\n",
              "        const docLinkHtml = 'Like what you see? Visit the ' +\n",
              "          '<a target=\"_blank\" href=https://colab.research.google.com/notebooks/data_table.ipynb>data table notebook</a>'\n",
              "          + ' to learn more about interactive tables.';\n",
              "        element.innerHTML = '';\n",
              "        dataTable['output_type'] = 'display_data';\n",
              "        await google.colab.output.renderOutput(dataTable, element);\n",
              "        const docLink = document.createElement('div');\n",
              "        docLink.innerHTML = docLinkHtml;\n",
              "        element.appendChild(docLink);\n",
              "      }\n",
              "    </script>\n",
              "  </div>\n",
              "\n",
              "\n",
              "<div id=\"df-10bc3710-3a8c-47f6-b808-b414ea708339\">\n",
              "  <button class=\"colab-df-quickchart\" onclick=\"quickchart('df-10bc3710-3a8c-47f6-b808-b414ea708339')\"\n",
              "            title=\"Suggest charts.\"\n",
              "            style=\"display:none;\">\n",
              "\n",
              "<svg xmlns=\"http://www.w3.org/2000/svg\" height=\"24px\"viewBox=\"0 0 24 24\"\n",
              "     width=\"24px\">\n",
              "    <g>\n",
              "        <path d=\"M19 3H5c-1.1 0-2 .9-2 2v14c0 1.1.9 2 2 2h14c1.1 0 2-.9 2-2V5c0-1.1-.9-2-2-2zM9 17H7v-7h2v7zm4 0h-2V7h2v10zm4 0h-2v-4h2v4z\"/>\n",
              "    </g>\n",
              "</svg>\n",
              "  </button>\n",
              "\n",
              "<style>\n",
              "  .colab-df-quickchart {\n",
              "      --bg-color: #E8F0FE;\n",
              "      --fill-color: #1967D2;\n",
              "      --hover-bg-color: #E2EBFA;\n",
              "      --hover-fill-color: #174EA6;\n",
              "      --disabled-fill-color: #AAA;\n",
              "      --disabled-bg-color: #DDD;\n",
              "  }\n",
              "\n",
              "  [theme=dark] .colab-df-quickchart {\n",
              "      --bg-color: #3B4455;\n",
              "      --fill-color: #D2E3FC;\n",
              "      --hover-bg-color: #434B5C;\n",
              "      --hover-fill-color: #FFFFFF;\n",
              "      --disabled-bg-color: #3B4455;\n",
              "      --disabled-fill-color: #666;\n",
              "  }\n",
              "\n",
              "  .colab-df-quickchart {\n",
              "    background-color: var(--bg-color);\n",
              "    border: none;\n",
              "    border-radius: 50%;\n",
              "    cursor: pointer;\n",
              "    display: none;\n",
              "    fill: var(--fill-color);\n",
              "    height: 32px;\n",
              "    padding: 0;\n",
              "    width: 32px;\n",
              "  }\n",
              "\n",
              "  .colab-df-quickchart:hover {\n",
              "    background-color: var(--hover-bg-color);\n",
              "    box-shadow: 0 1px 2px rgba(60, 64, 67, 0.3), 0 1px 3px 1px rgba(60, 64, 67, 0.15);\n",
              "    fill: var(--button-hover-fill-color);\n",
              "  }\n",
              "\n",
              "  .colab-df-quickchart-complete:disabled,\n",
              "  .colab-df-quickchart-complete:disabled:hover {\n",
              "    background-color: var(--disabled-bg-color);\n",
              "    fill: var(--disabled-fill-color);\n",
              "    box-shadow: none;\n",
              "  }\n",
              "\n",
              "  .colab-df-spinner {\n",
              "    border: 2px solid var(--fill-color);\n",
              "    border-color: transparent;\n",
              "    border-bottom-color: var(--fill-color);\n",
              "    animation:\n",
              "      spin 1s steps(1) infinite;\n",
              "  }\n",
              "\n",
              "  @keyframes spin {\n",
              "    0% {\n",
              "      border-color: transparent;\n",
              "      border-bottom-color: var(--fill-color);\n",
              "      border-left-color: var(--fill-color);\n",
              "    }\n",
              "    20% {\n",
              "      border-color: transparent;\n",
              "      border-left-color: var(--fill-color);\n",
              "      border-top-color: var(--fill-color);\n",
              "    }\n",
              "    30% {\n",
              "      border-color: transparent;\n",
              "      border-left-color: var(--fill-color);\n",
              "      border-top-color: var(--fill-color);\n",
              "      border-right-color: var(--fill-color);\n",
              "    }\n",
              "    40% {\n",
              "      border-color: transparent;\n",
              "      border-right-color: var(--fill-color);\n",
              "      border-top-color: var(--fill-color);\n",
              "    }\n",
              "    60% {\n",
              "      border-color: transparent;\n",
              "      border-right-color: var(--fill-color);\n",
              "    }\n",
              "    80% {\n",
              "      border-color: transparent;\n",
              "      border-right-color: var(--fill-color);\n",
              "      border-bottom-color: var(--fill-color);\n",
              "    }\n",
              "    90% {\n",
              "      border-color: transparent;\n",
              "      border-bottom-color: var(--fill-color);\n",
              "    }\n",
              "  }\n",
              "</style>\n",
              "\n",
              "  <script>\n",
              "    async function quickchart(key) {\n",
              "      const quickchartButtonEl =\n",
              "        document.querySelector('#' + key + ' button');\n",
              "      quickchartButtonEl.disabled = true;  // To prevent multiple clicks.\n",
              "      quickchartButtonEl.classList.add('colab-df-spinner');\n",
              "      try {\n",
              "        const charts = await google.colab.kernel.invokeFunction(\n",
              "            'suggestCharts', [key], {});\n",
              "      } catch (error) {\n",
              "        console.error('Error during call to suggestCharts:', error);\n",
              "      }\n",
              "      quickchartButtonEl.classList.remove('colab-df-spinner');\n",
              "      quickchartButtonEl.classList.add('colab-df-quickchart-complete');\n",
              "    }\n",
              "    (() => {\n",
              "      let quickchartButtonEl =\n",
              "        document.querySelector('#df-10bc3710-3a8c-47f6-b808-b414ea708339 button');\n",
              "      quickchartButtonEl.style.display =\n",
              "        google.colab.kernel.accessAllowed ? 'block' : 'none';\n",
              "    })();\n",
              "  </script>\n",
              "</div>\n",
              "    </div>\n",
              "  </div>\n"
            ]
          },
          "metadata": {},
          "execution_count": 31
        }
      ]
    },
    {
      "cell_type": "markdown",
      "source": [
        "###Train-Test Split"
      ],
      "metadata": {
        "id": "8jHney83LyN6"
      }
    },
    {
      "cell_type": "markdown",
      "source": [
        "Implementation - https://www.youtube.com/watch?v=BUkqYGPnLZ8&ab_channel=ManifoldAILearning\n",
        "\n",
        "Now, while we need data to train our regression model, it is equally important to keep some data aside for testing the effectiveness of the aforementioned model. Thus the dataset as a whole is generally further divided into the training dataset and the testing dataset.\n",
        "\n",
        "In order to implement this, import train_test_split function from scikit-learn."
      ],
      "metadata": {
        "id": "PM64x9YqORBp"
      }
    },
    {
      "cell_type": "code",
      "source": [
        "# Import train_test_split Hint: Use sklearn.model_selection\n",
        "from sklearn.model_selection import train_test_split"
      ],
      "metadata": {
        "id": "lfv3ydYEL1Kp"
      },
      "execution_count": 32,
      "outputs": []
    },
    {
      "cell_type": "markdown",
      "source": [
        "**Create X and y train and test splits in one command using a test size of 0.3 and a random seed**\n",
        "\n",
        "They should be called X_train, X_test, y_train, y_test"
      ],
      "metadata": {
        "id": "GugQgWWOOZeC"
      }
    },
    {
      "cell_type": "code",
      "source": [
        "# Your code starts here\n",
        "X_train, X_test, y_train, y_test=train_test_split(X,y,test_size=0.3,random_state=45)\n",
        "# Your code ends here"
      ],
      "metadata": {
        "id": "n8YNd8ZPOhKK"
      },
      "execution_count": 33,
      "outputs": []
    },
    {
      "cell_type": "markdown",
      "source": [
        "Print the size and shape of each of the train/test splits (it should be in the ratio as per test_size parameter above, i.e in ratio of 0.3)"
      ],
      "metadata": {
        "id": "7DAqa-ElOxny"
      }
    },
    {
      "cell_type": "code",
      "source": [
        "# Your code starts here\n",
        "print(X_train.shape , y_train.shape , X_test.shape , y_test.shape)\n",
        "print(X_train.size , y_train.size , X_test.size , y_test.size)\n",
        "test_ratio_X=(X_test.size/X.size)*100\n",
        "test_ratio_y=(y_test.size/y.size)*100\n",
        "print(test_ratio_X,\"%\" ,test_ratio_y,\"%\")\n",
        "# Your code ends here"
      ],
      "metadata": {
        "id": "ro25Q7qRO2Z8",
        "colab": {
          "base_uri": "https://localhost:8080/"
        },
        "outputId": "8c6aeb34-bcd9-4afa-85ff-7a15f4adf74b"
      },
      "execution_count": 34,
      "outputs": [
        {
          "output_type": "stream",
          "name": "stdout",
          "text": [
            "(51818, 11) (51818, 1) (22209, 11) (22209, 1)\n",
            "569998 51818 244299 22209\n",
            "30.001215772623503 % 30.001215772623503 %\n"
          ]
        }
      ]
    },
    {
      "cell_type": "markdown",
      "source": [
        "Can you see that the data has been divided into 2 datasets of size 70% and 30% of the original dataset each? Use your calculator to confirm this :)"
      ],
      "metadata": {
        "id": "W31IGX9YiwUY"
      }
    },
    {
      "cell_type": "markdown",
      "source": [
        "###Model fit and training"
      ],
      "metadata": {
        "id": "EUdHMjnIO--R"
      }
    },
    {
      "cell_type": "markdown",
      "source": [
        "Here is the complete lowdown on SVM (Support Vector Machine):<br>\n",
        "Theory : https://youtu.be/H9yACitf-KM <br>\n",
        "Theory: https://www.analyticsvidhya.com/blog/2021/06/support-vector-machine-better-understanding/ <br>\n",
        "Implementation : https://youtu.be/FB5EdxAGxQg"
      ],
      "metadata": {
        "id": "cuqAQZCrnHnc"
      }
    },
    {
      "cell_type": "markdown",
      "source": [
        "Import SVR (Support Vector Regressor) and its metrics from scikit-learn."
      ],
      "metadata": {
        "id": "Z141gk-oPIrp"
      }
    },
    {
      "cell_type": "code",
      "source": [
        "# Add your import statement here\n",
        "from sklearn.svm import SVR\n",
        "from sklearn.metrics import  r2_score\n",
        "# Create an SVR object 'svr' by calling SVR()\n",
        "svr=SVR()"
      ],
      "metadata": {
        "id": "vvquREH0PfIy"
      },
      "execution_count": 35,
      "outputs": []
    },
    {
      "cell_type": "markdown",
      "source": [
        "Fit the model on to the instantiated object itself using the X_train and y_train created earlier. No need to create another variable.\n",
        "\n",
        "Hint: svr.fit()\n",
        "\n",
        "This might take about a minute or so, just to inform you."
      ],
      "metadata": {
        "id": "3W_Hr-5KQNQp"
      }
    },
    {
      "cell_type": "code",
      "source": [
        "# Your code starts here\n",
        "svr.fit(X_train, y_train)\n",
        "# Your code ends here"
      ],
      "metadata": {
        "id": "YrJcIHJiQKuY",
        "colab": {
          "base_uri": "https://localhost:8080/",
          "height": 129
        },
        "outputId": "f8c7919f-955f-4164-d45c-7bcd8d435f04"
      },
      "execution_count": 36,
      "outputs": [
        {
          "output_type": "stream",
          "name": "stderr",
          "text": [
            "/usr/local/lib/python3.10/dist-packages/sklearn/utils/validation.py:1143: DataConversionWarning: A column-vector y was passed when a 1d array was expected. Please change the shape of y to (n_samples, ), for example using ravel().\n",
            "  y = column_or_1d(y, warn=True)\n"
          ]
        },
        {
          "output_type": "execute_result",
          "data": {
            "text/plain": [
              "SVR()"
            ],
            "text/html": [
              "<style>#sk-container-id-1 {color: black;background-color: white;}#sk-container-id-1 pre{padding: 0;}#sk-container-id-1 div.sk-toggleable {background-color: white;}#sk-container-id-1 label.sk-toggleable__label {cursor: pointer;display: block;width: 100%;margin-bottom: 0;padding: 0.3em;box-sizing: border-box;text-align: center;}#sk-container-id-1 label.sk-toggleable__label-arrow:before {content: \"▸\";float: left;margin-right: 0.25em;color: #696969;}#sk-container-id-1 label.sk-toggleable__label-arrow:hover:before {color: black;}#sk-container-id-1 div.sk-estimator:hover label.sk-toggleable__label-arrow:before {color: black;}#sk-container-id-1 div.sk-toggleable__content {max-height: 0;max-width: 0;overflow: hidden;text-align: left;background-color: #f0f8ff;}#sk-container-id-1 div.sk-toggleable__content pre {margin: 0.2em;color: black;border-radius: 0.25em;background-color: #f0f8ff;}#sk-container-id-1 input.sk-toggleable__control:checked~div.sk-toggleable__content {max-height: 200px;max-width: 100%;overflow: auto;}#sk-container-id-1 input.sk-toggleable__control:checked~label.sk-toggleable__label-arrow:before {content: \"▾\";}#sk-container-id-1 div.sk-estimator input.sk-toggleable__control:checked~label.sk-toggleable__label {background-color: #d4ebff;}#sk-container-id-1 div.sk-label input.sk-toggleable__control:checked~label.sk-toggleable__label {background-color: #d4ebff;}#sk-container-id-1 input.sk-hidden--visually {border: 0;clip: rect(1px 1px 1px 1px);clip: rect(1px, 1px, 1px, 1px);height: 1px;margin: -1px;overflow: hidden;padding: 0;position: absolute;width: 1px;}#sk-container-id-1 div.sk-estimator {font-family: monospace;background-color: #f0f8ff;border: 1px dotted black;border-radius: 0.25em;box-sizing: border-box;margin-bottom: 0.5em;}#sk-container-id-1 div.sk-estimator:hover {background-color: #d4ebff;}#sk-container-id-1 div.sk-parallel-item::after {content: \"\";width: 100%;border-bottom: 1px solid gray;flex-grow: 1;}#sk-container-id-1 div.sk-label:hover label.sk-toggleable__label {background-color: #d4ebff;}#sk-container-id-1 div.sk-serial::before {content: \"\";position: absolute;border-left: 1px solid gray;box-sizing: border-box;top: 0;bottom: 0;left: 50%;z-index: 0;}#sk-container-id-1 div.sk-serial {display: flex;flex-direction: column;align-items: center;background-color: white;padding-right: 0.2em;padding-left: 0.2em;position: relative;}#sk-container-id-1 div.sk-item {position: relative;z-index: 1;}#sk-container-id-1 div.sk-parallel {display: flex;align-items: stretch;justify-content: center;background-color: white;position: relative;}#sk-container-id-1 div.sk-item::before, #sk-container-id-1 div.sk-parallel-item::before {content: \"\";position: absolute;border-left: 1px solid gray;box-sizing: border-box;top: 0;bottom: 0;left: 50%;z-index: -1;}#sk-container-id-1 div.sk-parallel-item {display: flex;flex-direction: column;z-index: 1;position: relative;background-color: white;}#sk-container-id-1 div.sk-parallel-item:first-child::after {align-self: flex-end;width: 50%;}#sk-container-id-1 div.sk-parallel-item:last-child::after {align-self: flex-start;width: 50%;}#sk-container-id-1 div.sk-parallel-item:only-child::after {width: 0;}#sk-container-id-1 div.sk-dashed-wrapped {border: 1px dashed gray;margin: 0 0.4em 0.5em 0.4em;box-sizing: border-box;padding-bottom: 0.4em;background-color: white;}#sk-container-id-1 div.sk-label label {font-family: monospace;font-weight: bold;display: inline-block;line-height: 1.2em;}#sk-container-id-1 div.sk-label-container {text-align: center;}#sk-container-id-1 div.sk-container {/* jupyter's `normalize.less` sets `[hidden] { display: none; }` but bootstrap.min.css set `[hidden] { display: none !important; }` so we also need the `!important` here to be able to override the default hidden behavior on the sphinx rendered scikit-learn.org. See: https://github.com/scikit-learn/scikit-learn/issues/21755 */display: inline-block !important;position: relative;}#sk-container-id-1 div.sk-text-repr-fallback {display: none;}</style><div id=\"sk-container-id-1\" class=\"sk-top-container\"><div class=\"sk-text-repr-fallback\"><pre>SVR()</pre><b>In a Jupyter environment, please rerun this cell to show the HTML representation or trust the notebook. <br />On GitHub, the HTML representation is unable to render, please try loading this page with nbviewer.org.</b></div><div class=\"sk-container\" hidden><div class=\"sk-item\"><div class=\"sk-estimator sk-toggleable\"><input class=\"sk-toggleable__control sk-hidden--visually\" id=\"sk-estimator-id-1\" type=\"checkbox\" checked><label for=\"sk-estimator-id-1\" class=\"sk-toggleable__label sk-toggleable__label-arrow\">SVR</label><div class=\"sk-toggleable__content\"><pre>SVR()</pre></div></div></div></div></div>"
            ]
          },
          "metadata": {},
          "execution_count": 36
        }
      ]
    },
    {
      "cell_type": "markdown",
      "source": [
        "###Prediction, error estimate, and regression evaluation matrices\n",
        "\n",
        "**Prediction using the svr model**\n",
        "\n",
        "The X_train and y_train dataframes have been used to train the model. Now we will use X_test and y_test to evaluate the efficiency of the model we have trained.\n",
        "\n",
        "Use svr.predict() on X_test and store it in a variable called \"predictions\". Print type and size of the predictions.\n",
        "\n",
        "Size should be (22009,) if everything is correct."
      ],
      "metadata": {
        "id": "SD4SNK_OdJ_H"
      }
    },
    {
      "cell_type": "code",
      "source": [
        "# Your code starts here\n",
        "predictions = svr.predict(X_test)\n",
        "print(type(predictions))\n",
        "print(predictions.shape)\n",
        "# Your code ends here"
      ],
      "metadata": {
        "id": "HmexTijIRqnw",
        "colab": {
          "base_uri": "https://localhost:8080/"
        },
        "outputId": "9488e90c-255c-4033-b900-bd86142feb3a"
      },
      "execution_count": 37,
      "outputs": [
        {
          "output_type": "stream",
          "name": "stdout",
          "text": [
            "<class 'numpy.ndarray'>\n",
            "(22209,)\n"
          ]
        }
      ]
    },
    {
      "cell_type": "markdown",
      "source": [
        "Now that we have our predictions, let's compare it with y_test and see how accurate our predictions are.\n",
        "\n",
        "Plot a Scatter plot of predicted price and y_test set to see if the data falls on a 45 degree straight line"
      ],
      "metadata": {
        "id": "sga4Hg3UepKU"
      }
    },
    {
      "cell_type": "code",
      "source": [
        "# Your code starts here\n",
        "sns.scatterplot(x=predictions, y=y_test['Age'])\n",
        "# Your code ends here"
      ],
      "metadata": {
        "id": "jHp_U9M2eqNU",
        "colab": {
          "base_uri": "https://localhost:8080/",
          "height": 448
        },
        "outputId": "963cae2c-a5ea-4055-930b-aa67b8222dbc"
      },
      "execution_count": 38,
      "outputs": [
        {
          "output_type": "execute_result",
          "data": {
            "text/plain": [
              "<Axes: ylabel='Age'>"
            ]
          },
          "metadata": {},
          "execution_count": 38
        },
        {
          "output_type": "display_data",
          "data": {
            "text/plain": [
              "<Figure size 640x480 with 1 Axes>"
            ],
            "image/png": "[encoded data removed]"
          },
          "metadata": {}
        }
      ]
    },
    {
      "cell_type": "markdown",
      "source": [
        "As you can see, it's not perfect, but you can definitely visualize the data lining up at a 45 degree angle."
      ],
      "metadata": {
        "id": "2vT36Pe_e9FN"
      }
    },
    {
      "cell_type": "markdown",
      "source": [
        "**Model Evaluation**\n",
        "\n",
        "We will be exploring the most common regression metric here namely R2 score. You can check out more metrics here: https://scikit-learn.org/stable/modules/classes.html#regression-metrics"
      ],
      "metadata": {
        "id": "IQsb_pyrfXtn"
      }
    },
    {
      "cell_type": "markdown",
      "source": [
        "Here's a video detailing all the popular regression metrics - https://www.youtube.com/watch?v=Ti7c-Hz7GSM"
      ],
      "metadata": {
        "id": "v4-Epmw9noKL"
      }
    },
    {
      "cell_type": "markdown",
      "source": [
        "**Print the R-square value and round it to 3 decimal places**\n",
        "\n",
        "Hint: sklearn metrics.r2_score"
      ],
      "metadata": {
        "id": "fhHRK7UDgPY0"
      }
    },
    {
      "cell_type": "code",
      "source": [
        "# Your code starts here\n",
        "score=r2_score(y_test,predictions)\n",
        "score=round(score,3)\n",
        "score\n",
        "# Your code ends here"
      ],
      "metadata": {
        "id": "gFfWbotASprC",
        "colab": {
          "base_uri": "https://localhost:8080/"
        },
        "outputId": "288ceb33-db71-414a-e933-7990d2280e0b"
      },
      "execution_count": 39,
      "outputs": [
        {
          "output_type": "execute_result",
          "data": {
            "text/plain": [
              "0.551"
            ]
          },
          "metadata": {},
          "execution_count": 39
        }
      ]
    },
    {
      "cell_type": "markdown",
      "source": [
        "In the cell below, explain what the above score means and also elaborate how 'good' is the score in terms of evaluation of the model"
      ],
      "metadata": {
        "id": "WdKFSPwgg4uO"
      }
    },
    {
      "cell_type": "markdown",
      "source": [
        "![rsquare formula.png](data:image/png;base64,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)\n",
        "R2=1-(SSR/SST)\n",
        "This is basicaly how R2 is calculated.\n",
        "\n",
        "SSR(Sum of Squared Residulas):SSR measures how much the predicted values differ from the actual values, squared, and summed up.It represents the sum of the squared differences between actual value(y) and predicted alue(y^)\n",
        "\n",
        "SST(Total sum of squares): It represents the sum of the squared deviations of each actual value (y) from the mean value (y).To put it in simple statistical terms of first year , it is the square of mean deviation of actual values of y.\n",
        "\n",
        "An Ideal R square score would be of 1  as it indicates a perfect fit , i.e. there is no variation between actual and predicted data , i.e. SSR=0\n",
        "\n",
        "Our model is not that great as its r2 score is 0.542 only and there are models which can give us much greater score.Although lower R2 scores are acceptable in many conditions depending on the context and data since we can still get valuable insigts from the data , for example when I searched the use case of r2 score in human pyscological analysis models , it was somewhere around 50 percent in good models but still the predicted data had valuable information . But in our context it does not apply.\n",
        "\n"
      ],
      "metadata": {
        "id": "WA5e3sDGhoM1"
      }
    },
    {
      "cell_type": "code",
      "source": [
        "from sklearn.metrics import mean_squared_error\n",
        "mse = mean_squared_error(y_true=y_test, y_pred=predictions)\n",
        "mse=round(mse,3)\n",
        "print(mse)\n",
        "\"\"\"mse is the mean squared error , it gives the mean squared error between original and the predicted values and the best possible value\n",
        "is obviously 0 which indicates the perfect fit , it has no range of best values it depends on the data provided too but\n",
        "the lower the better is the general practice\"\"\"\n",
        "from sklearn.metrics import mean_squared_error\n",
        "mse = mean_squared_error(y_true=y_test, y_pred=predictions)\n",
        "variance= y_test.var()\n",
        "normalized_mse = mse / variance\n",
        "\"\"\"we basically normalize the mse calculated with the variance of the original dataset\n",
        "which gives us a score between 1 and 0 where 1 is the best case\"\"\"\n",
        "normalized_mse=round(normalized_mse,3)\n",
        "print(float(normalized_mse))"
      ],
      "metadata": {
        "id": "rJIy1XKTgYF9",
        "colab": {
          "base_uri": "https://localhost:8080/"
        },
        "outputId": "e4b9517d-8485-4713-dd9d-adaf6fec1f2d"
      },
      "execution_count": 40,
      "outputs": [
        {
          "output_type": "stream",
          "name": "stdout",
          "text": [
            "4.495\n",
            "0.449\n"
          ]
        }
      ]
    },
    {
      "cell_type": "markdown",
      "source": [
        "You have succesfully implemented Support Vector Regressor to predict Age of a crab. But is this the only regression model out there? In the cell below, list down 3 more regression models with a basic explanation of how they work. Also include a line explaining in which scenario each model works best."
      ],
      "metadata": {
        "id": "IFGS6UDWj8vE"
      }
    },
    {
      "cell_type": "markdown",
      "source": [
        "Random Forest : Random forest uses multiple decesion trees and then aggregates their value using the various aggregators out of which most commonly used are :Mean , weighted mean , median or you can use any other measure of central tendency as u like.Each branch gives a value , using that the value of the tree is decided the decesion process is made through the aggregator , and then the final value is decided again using choosed aggregator on all of the trees created.\n",
        "\n",
        "Random forest would work best when the data would be complex/non linear or even in case of multidimensional\n",
        "\n",
        "Linear Regression:It tries to create one straight line through the data using the least squares method , and expects that the mean squared error for all the data points from this line will be minimum for the same value of the independent variable selected. In this y = mx + c is used and the parameters are calculated using the data given , first the slope is calculated using the data of each point and the mean then using that c is calculated as we put m in y=mx+c and take the values of y and x as their means and slope we calculated earlier.We here try to minimise the sum of squared residuals , i.e. the variance of the actual data wrt the predicted one.\n",
        "\n",
        "Linear Regression works best when the relationship between independent variables and the target variable is linear and not very complicated , alongside it being low demensional as it is a very baseline model.\n",
        "\n",
        "Ridge Regression : Ridge regression , like linear regression , creates a line and hopes to give highest accuracy . But here it introduces a bias while creating the line , which helps in reducing the variance .It is very helpful in cases of less training data. In simple words  by starting with a slightly worse fit (due to maybe a not good fit on the smaller training data due to the bias) we get way better long term predictions (due to a greater drop in variance on the testing data which will be relatively bigger than training data which we got).\n",
        "While linear regression minimizes sum of squared residuals ,the ridge regression minimizes[ SSR + lambda * (the sum of the slopes squared) ].\n",
        "The sum of slopes part introduces a penalty into the line and whatever lambda we put decides how severe the penalty will be.The ridge regression penalty reduces the dependence of the line on the independent variable.The ridge regression  line has a smaller slope than the least squares line , as lambda increases , the slope decreases , tending to 0 , which indicates no dependence on the independent variable. So to find optimum value of lambda we use cross validation on a bunch of different values of lambda and then use the ones with the lowest variance. With the use of ridge regression we can also efficiently tackle multicollinearity.\n",
        "It is best used in case of sample sizes being small or training set being small , as the bias created helps to prvide a better solution for the larger test data even from the small obtained train data.So using this property it helps in case of overfitting too.\n",
        "\n",
        "Ridge regression is best  used when there is multicollinearity or overfitting ."
      ],
      "metadata": {
        "id": "rvDXAqYzkY3Y"
      }
    },
    {
      "cell_type": "markdown",
      "source": [
        "###OPTIONAL: Explainability"
      ],
      "metadata": {
        "id": "xAuWmTVncVOT"
      }
    },
    {
      "cell_type": "markdown",
      "source": [
        "So you passed some data into a model, and trained it using that data. You then used some other data to test the accuracy of that model, and it now predicts values when you pass in some data. Ok. But how does it REALLY predict that value? How much is it relying on each individual feature column of data that you passed to the model? This is where the concept of explainability comes into picture, where you can understand for each data point, exactly what parameters led the model to predict the value that it has."
      ],
      "metadata": {
        "id": "WyYUAK4XfMeh"
      }
    },
    {
      "cell_type": "markdown",
      "source": [
        "Info about explainable AI <br>\n",
        "https://www.ibm.com/topics/explainable-ai <br>\n",
        "About shap <br>\n",
        "https://shap.readthedocs.io/en/latest/example_notebooks/overviews/An%20introduction%20to%20explainable%20AI%20with%20Shapley%20values.html"
      ],
      "metadata": {
        "id": "zRKN_2SdmpTs"
      }
    },
    {
      "cell_type": "code",
      "source": [
        "#Run this code as it is\n",
        "from shap import KernelExplainer, force_plot, sample"
      ],
      "metadata": {
        "id": "LTkBOPVWcdgB",
        "colab": {
          "base_uri": "https://localhost:8080/"
        },
        "outputId": "db76614e-6a35-442f-a26c-11b9b511fde0"
      },
      "execution_count": 41,
      "outputs": [
        {
          "output_type": "stream",
          "name": "stderr",
          "text": [
            "Using `tqdm.autonotebook.tqdm` in notebook mode. Use `tqdm.tqdm` instead to force console mode (e.g. in jupyter console)\n"
          ]
        }
      ]
    },
    {
      "cell_type": "code",
      "source": [
        "#Run this code as it is\n",
        "ex = KernelExplainer(svr.predict, sample(X_train, 10))  #only taking sample of 10 values for now\n",
        "shap_values = ex.shap_values(X_test.iloc[0,:]) #explaining 1st tuple of the X_test dataframe\n",
        "force_plot(ex.expected_value, shap_values, X_test.iloc[0,:], matplotlib=True)"
      ],
      "metadata": {
        "colab": {
          "base_uri": "https://localhost:8080/",
          "height": 274
        },
        "id": "EEVCxAMTc77S",
        "outputId": "c642022c-921d-48b4-b55a-721f834c6dfe"
      },
      "execution_count": 42,
      "outputs": [
        {
          "output_type": "display_data",
          "data": {
            "text/plain": [
              "<Figure size 2000x300 with 1 Axes>"
            ],
            "image/png": "[encoded data removed]"
          },
          "metadata": {}
        }
      ]
    },
    {
      "cell_type": "markdown",
      "source": [
        "Can you see how the above plot visualizes which parameters contributed significantly to the prediction, and what were the actual values which led to the prediction?"
      ],
      "metadata": {
        "id": "1iovNmhCmF-U"
      }
    },
    {
      "cell_type": "markdown",
      "source": [
        "##Classification"
      ],
      "metadata": {
        "id": "iZkLv8fNkdF9"
      }
    },
    {
      "cell_type": "markdown",
      "source": [
        "In the below cells, we are going to implement K Nearest Neighbour Classification."
      ],
      "metadata": {
        "id": "YP49CPwAaPLR"
      }
    },
    {
      "cell_type": "markdown",
      "source": [
        "Link to the dataset is here - https://drive.google.com/file/d/1bVOfBJYUr0JtZ7pp1lcyNamnHHXn_fDm/view?usp=sharing <br>\n",
        "\n",
        "Import the 'classified_data.txt' dataset using pandas and print the first five columns.\n",
        "\n",
        "Use \"index_col\" parameter to index the dataframe according to the first column. Otherwise, a new column would get created. Call this new dataframe 'df'."
      ],
      "metadata": {
        "id": "mmTPNKuJabqw"
      }
    },
    {
      "cell_type": "code",
      "source": [
        "df = pd.read_csv('/content/drive/MyDrive/Coding resources/classified_data.txt',index_col=0)\n",
        "df.head()"
      ],
      "metadata": {
        "id": "RIRZkDh4kfn6",
        "colab": {
          "base_uri": "https://localhost:8080/",
          "height": 206
        },
        "outputId": "b528ec18-b007-4b2c-bdc7-7e597fc52bcc"
      },
      "execution_count": 72,
      "outputs": [
        {
          "output_type": "execute_result",
          "data": {
            "text/plain": [
              "        WTT       PTI       EQW       SBI       LQE       QWG       FDJ  \\\n",
              "0  0.913917  1.162073  0.567946  0.755464  0.780862  0.352608  0.759697   \n",
              "1  0.635632  1.003722  0.535342  0.825645  0.924109  0.648450  0.675334   \n",
              "2  0.721360  1.201493  0.921990  0.855595  1.526629  0.720781  1.626351   \n",
              "3  1.234204  1.386726  0.653046  0.825624  1.142504  0.875128  1.409708   \n",
              "4  1.279491  0.949750  0.627280  0.668976  1.232537  0.703727  1.115596   \n",
              "\n",
              "        PJF       HQE       NXJ  TARGET CLASS  \n",
              "0  0.643798  0.879422  1.231409             1  \n",
              "1  1.013546  0.621552  1.492702             0  \n",
              "2  1.154483  0.957877  1.285597             0  \n",
              "3  1.380003  1.522692  1.153093             1  \n",
              "4  0.646691  1.463812  1.419167             1  "
            ],
            "text/html": [
              "\n",
              "  <div id=\"df-19e7610c-d636-4096-a2f5-726480d8f117\" class=\"colab-df-container\">\n",
              "    <div>\n",
              "<style scoped>\n",
              "    .dataframe tbody tr th:only-of-type {\n",
              "        vertical-align: middle;\n",
              "    }\n",
              "\n",
              "    .dataframe tbody tr th {\n",
              "        vertical-align: top;\n",
              "    }\n",
              "\n",
              "    .dataframe thead th {\n",
              "        text-align: right;\n",
              "    }\n",
              "</style>\n",
              "<table border=\"1\" class=\"dataframe\">\n",
              "  <thead>\n",
              "    <tr style=\"text-align: right;\">\n",
              "      <th></th>\n",
              "      <th>WTT</th>\n",
              "      <th>PTI</th>\n",
              "      <th>EQW</th>\n",
              "      <th>SBI</th>\n",
              "      <th>LQE</th>\n",
              "      <th>QWG</th>\n",
              "      <th>FDJ</th>\n",
              "      <th>PJF</th>\n",
              "      <th>HQE</th>\n",
              "      <th>NXJ</th>\n",
              "      <th>TARGET CLASS</th>\n",
              "    </tr>\n",
              "  </thead>\n",
              "  <tbody>\n",
              "    <tr>\n",
              "      <th>0</th>\n",
              "      <td>0.913917</td>\n",
              "      <td>1.162073</td>\n",
              "      <td>0.567946</td>\n",
              "      <td>0.755464</td>\n",
              "      <td>0.780862</td>\n",
              "      <td>0.352608</td>\n",
              "      <td>0.759697</td>\n",
              "      <td>0.643798</td>\n",
              "      <td>0.879422</td>\n",
              "      <td>1.231409</td>\n",
              "      <td>1</td>\n",
              "    </tr>\n",
              "    <tr>\n",
              "      <th>1</th>\n",
              "      <td>0.635632</td>\n",
              "      <td>1.003722</td>\n",
              "      <td>0.535342</td>\n",
              "      <td>0.825645</td>\n",
              "      <td>0.924109</td>\n",
              "      <td>0.648450</td>\n",
              "      <td>0.675334</td>\n",
              "      <td>1.013546</td>\n",
              "      <td>0.621552</td>\n",
              "      <td>1.492702</td>\n",
              "      <td>0</td>\n",
              "    </tr>\n",
              "    <tr>\n",
              "      <th>2</th>\n",
              "      <td>0.721360</td>\n",
              "      <td>1.201493</td>\n",
              "      <td>0.921990</td>\n",
              "      <td>0.855595</td>\n",
              "      <td>1.526629</td>\n",
              "      <td>0.720781</td>\n",
              "      <td>1.626351</td>\n",
              "      <td>1.154483</td>\n",
              "      <td>0.957877</td>\n",
              "      <td>1.285597</td>\n",
              "      <td>0</td>\n",
              "    </tr>\n",
              "    <tr>\n",
              "      <th>3</th>\n",
              "      <td>1.234204</td>\n",
              "      <td>1.386726</td>\n",
              "      <td>0.653046</td>\n",
              "      <td>0.825624</td>\n",
              "      <td>1.142504</td>\n",
              "      <td>0.875128</td>\n",
              "      <td>1.409708</td>\n",
              "      <td>1.380003</td>\n",
              "      <td>1.522692</td>\n",
              "      <td>1.153093</td>\n",
              "      <td>1</td>\n",
              "    </tr>\n",
              "    <tr>\n",
              "      <th>4</th>\n",
              "      <td>1.279491</td>\n",
              "      <td>0.949750</td>\n",
              "      <td>0.627280</td>\n",
              "      <td>0.668976</td>\n",
              "      <td>1.232537</td>\n",
              "      <td>0.703727</td>\n",
              "      <td>1.115596</td>\n",
              "      <td>0.646691</td>\n",
              "      <td>1.463812</td>\n",
              "      <td>1.419167</td>\n",
              "      <td>1</td>\n",
              "    </tr>\n",
              "  </tbody>\n",
              "</table>\n",
              "</div>\n",
              "    <div class=\"colab-df-buttons\">\n",
              "\n",
              "  <div class=\"colab-df-container\">\n",
              "    <button class=\"colab-df-convert\" onclick=\"convertToInteractive('df-19e7610c-d636-4096-a2f5-726480d8f117')\"\n",
              "            title=\"Convert this dataframe to an interactive table.\"\n",
              "            style=\"display:none;\">\n",
              "\n",
              "  <svg xmlns=\"http://www.w3.org/2000/svg\" height=\"24px\" viewBox=\"0 -960 960 960\">\n",
              "    <path d=\"M120-120v-720h720v720H120Zm60-500h600v-160H180v160Zm220 220h160v-160H400v160Zm0 220h160v-160H400v160ZM180-400h160v-160H180v160Zm440 0h160v-160H620v160ZM180-180h160v-160H180v160Zm440 0h160v-160H620v160Z\"/>\n",
              "  </svg>\n",
              "    </button>\n",
              "\n",
              "  <style>\n",
              "    .colab-df-container {\n",
              "      display:flex;\n",
              "      gap: 12px;\n",
              "    }\n",
              "\n",
              "    .colab-df-convert {\n",
              "      background-color: #E8F0FE;\n",
              "      border: none;\n",
              "      border-radius: 50%;\n",
              "      cursor: pointer;\n",
              "      display: none;\n",
              "      fill: #1967D2;\n",
              "      height: 32px;\n",
              "      padding: 0 0 0 0;\n",
              "      width: 32px;\n",
              "    }\n",
              "\n",
              "    .colab-df-convert:hover {\n",
              "      background-color: #E2EBFA;\n",
              "      box-shadow: 0px 1px 2px rgba(60, 64, 67, 0.3), 0px 1px 3px 1px rgba(60, 64, 67, 0.15);\n",
              "      fill: #174EA6;\n",
              "    }\n",
              "\n",
              "    .colab-df-buttons div {\n",
              "      margin-bottom: 4px;\n",
              "    }\n",
              "\n",
              "    [theme=dark] .colab-df-convert {\n",
              "      background-color: #3B4455;\n",
              "      fill: #D2E3FC;\n",
              "    }\n",
              "\n",
              "    [theme=dark] .colab-df-convert:hover {\n",
              "      background-color: #434B5C;\n",
              "      box-shadow: 0px 1px 3px 1px rgba(0, 0, 0, 0.15);\n",
              "      filter: drop-shadow(0px 1px 2px rgba(0, 0, 0, 0.3));\n",
              "      fill: #FFFFFF;\n",
              "    }\n",
              "  </style>\n",
              "\n",
              "    <script>\n",
              "      const buttonEl =\n",
              "        document.querySelector('#df-19e7610c-d636-4096-a2f5-726480d8f117 button.colab-df-convert');\n",
              "      buttonEl.style.display =\n",
              "        google.colab.kernel.accessAllowed ? 'block' : 'none';\n",
              "\n",
              "      async function convertToInteractive(key) {\n",
              "        const element = document.querySelector('#df-19e7610c-d636-4096-a2f5-726480d8f117');\n",
              "        const dataTable =\n",
              "          await google.colab.kernel.invokeFunction('convertToInteractive',\n",
              "                                                    [key], {});\n",
              "        if (!dataTable) return;\n",
              "\n",
              "        const docLinkHtml = 'Like what you see? Visit the ' +\n",
              "          '<a target=\"_blank\" href=https://colab.research.google.com/notebooks/data_table.ipynb>data table notebook</a>'\n",
              "          + ' to learn more about interactive tables.';\n",
              "        element.innerHTML = '';\n",
              "        dataTable['output_type'] = 'display_data';\n",
              "        await google.colab.output.renderOutput(dataTable, element);\n",
              "        const docLink = document.createElement('div');\n",
              "        docLink.innerHTML = docLinkHtml;\n",
              "        element.appendChild(docLink);\n",
              "      }\n",
              "    </script>\n",
              "  </div>\n",
              "\n",
              "\n",
              "<div id=\"df-88ca54af-68b6-42c1-91d1-825cb8863df9\">\n",
              "  <button class=\"colab-df-quickchart\" onclick=\"quickchart('df-88ca54af-68b6-42c1-91d1-825cb8863df9')\"\n",
              "            title=\"Suggest charts.\"\n",
              "            style=\"display:none;\">\n",
              "\n",
              "<svg xmlns=\"http://www.w3.org/2000/svg\" height=\"24px\"viewBox=\"0 0 24 24\"\n",
              "     width=\"24px\">\n",
              "    <g>\n",
              "        <path d=\"M19 3H5c-1.1 0-2 .9-2 2v14c0 1.1.9 2 2 2h14c1.1 0 2-.9 2-2V5c0-1.1-.9-2-2-2zM9 17H7v-7h2v7zm4 0h-2V7h2v10zm4 0h-2v-4h2v4z\"/>\n",
              "    </g>\n",
              "</svg>\n",
              "  </button>\n",
              "\n",
              "<style>\n",
              "  .colab-df-quickchart {\n",
              "      --bg-color: #E8F0FE;\n",
              "      --fill-color: #1967D2;\n",
              "      --hover-bg-color: #E2EBFA;\n",
              "      --hover-fill-color: #174EA6;\n",
              "      --disabled-fill-color: #AAA;\n",
              "      --disabled-bg-color: #DDD;\n",
              "  }\n",
              "\n",
              "  [theme=dark] .colab-df-quickchart {\n",
              "      --bg-color: #3B4455;\n",
              "      --fill-color: #D2E3FC;\n",
              "      --hover-bg-color: #434B5C;\n",
              "      --hover-fill-color: #FFFFFF;\n",
              "      --disabled-bg-color: #3B4455;\n",
              "      --disabled-fill-color: #666;\n",
              "  }\n",
              "\n",
              "  .colab-df-quickchart {\n",
              "    background-color: var(--bg-color);\n",
              "    border: none;\n",
              "    border-radius: 50%;\n",
              "    cursor: pointer;\n",
              "    display: none;\n",
              "    fill: var(--fill-color);\n",
              "    height: 32px;\n",
              "    padding: 0;\n",
              "    width: 32px;\n",
              "  }\n",
              "\n",
              "  .colab-df-quickchart:hover {\n",
              "    background-color: var(--hover-bg-color);\n",
              "    box-shadow: 0 1px 2px rgba(60, 64, 67, 0.3), 0 1px 3px 1px rgba(60, 64, 67, 0.15);\n",
              "    fill: var(--button-hover-fill-color);\n",
              "  }\n",
              "\n",
              "  .colab-df-quickchart-complete:disabled,\n",
              "  .colab-df-quickchart-complete:disabled:hover {\n",
              "    background-color: var(--disabled-bg-color);\n",
              "    fill: var(--disabled-fill-color);\n",
              "    box-shadow: none;\n",
              "  }\n",
              "\n",
              "  .colab-df-spinner {\n",
              "    border: 2px solid var(--fill-color);\n",
              "    border-color: transparent;\n",
              "    border-bottom-color: var(--fill-color);\n",
              "    animation:\n",
              "      spin 1s steps(1) infinite;\n",
              "  }\n",
              "\n",
              "  @keyframes spin {\n",
              "    0% {\n",
              "      border-color: transparent;\n",
              "      border-bottom-color: var(--fill-color);\n",
              "      border-left-color: var(--fill-color);\n",
              "    }\n",
              "    20% {\n",
              "      border-color: transparent;\n",
              "      border-left-color: var(--fill-color);\n",
              "      border-top-color: var(--fill-color);\n",
              "    }\n",
              "    30% {\n",
              "      border-color: transparent;\n",
              "      border-left-color: var(--fill-color);\n",
              "      border-top-color: var(--fill-color);\n",
              "      border-right-color: var(--fill-color);\n",
              "    }\n",
              "    40% {\n",
              "      border-color: transparent;\n",
              "      border-right-color: var(--fill-color);\n",
              "      border-top-color: var(--fill-color);\n",
              "    }\n",
              "    60% {\n",
              "      border-color: transparent;\n",
              "      border-right-color: var(--fill-color);\n",
              "    }\n",
              "    80% {\n",
              "      border-color: transparent;\n",
              "      border-right-color: var(--fill-color);\n",
              "      border-bottom-color: var(--fill-color);\n",
              "    }\n",
              "    90% {\n",
              "      border-color: transparent;\n",
              "      border-bottom-color: var(--fill-color);\n",
              "    }\n",
              "  }\n",
              "</style>\n",
              "\n",
              "  <script>\n",
              "    async function quickchart(key) {\n",
              "      const quickchartButtonEl =\n",
              "        document.querySelector('#' + key + ' button');\n",
              "      quickchartButtonEl.disabled = true;  // To prevent multiple clicks.\n",
              "      quickchartButtonEl.classList.add('colab-df-spinner');\n",
              "      try {\n",
              "        const charts = await google.colab.kernel.invokeFunction(\n",
              "            'suggestCharts', [key], {});\n",
              "      } catch (error) {\n",
              "        console.error('Error during call to suggestCharts:', error);\n",
              "      }\n",
              "      quickchartButtonEl.classList.remove('colab-df-spinner');\n",
              "      quickchartButtonEl.classList.add('colab-df-quickchart-complete');\n",
              "    }\n",
              "    (() => {\n",
              "      let quickchartButtonEl =\n",
              "        document.querySelector('#df-88ca54af-68b6-42c1-91d1-825cb8863df9 button');\n",
              "      quickchartButtonEl.style.display =\n",
              "        google.colab.kernel.accessAllowed ? 'block' : 'none';\n",
              "    })();\n",
              "  </script>\n",
              "</div>\n",
              "    </div>\n",
              "  </div>\n"
            ]
          },
          "metadata": {},
          "execution_count": 72
        }
      ]
    },
    {
      "cell_type": "markdown",
      "source": [
        "If you're wondering what these column names signify, well they are classified as the dataset name suggests. Our job here is to simply take the data at face value and build a model for classifying the target classes."
      ],
      "metadata": {
        "id": "7e2i4VAAbMV1"
      }
    },
    {
      "cell_type": "markdown",
      "source": [
        "###Basic EDA"
      ],
      "metadata": {
        "id": "iTDotn2fehbC"
      }
    },
    {
      "cell_type": "markdown",
      "source": [
        "In the following two cells, use info() and describe() to get the data type and statistical summary of the dataset"
      ],
      "metadata": {
        "id": "b_pCB4WwdEXw"
      }
    },
    {
      "cell_type": "code",
      "source": [
        "#info()\n",
        "df.info()"
      ],
      "metadata": {
        "id": "qiDSkVI7dS3J",
        "colab": {
          "base_uri": "https://localhost:8080/"
        },
        "outputId": "03a1374f-0ca6-472c-d01c-ddf5b072e1af"
      },
      "execution_count": 73,
      "outputs": [
        {
          "output_type": "stream",
          "name": "stdout",
          "text": [
            "<class 'pandas.core.frame.DataFrame'>\n",
            "Int64Index: 1000 entries, 0 to 999\n",
            "Data columns (total 11 columns):\n",
            " #   Column        Non-Null Count  Dtype  \n",
            "---  ------        --------------  -----  \n",
            " 0   WTT           1000 non-null   float64\n",
            " 1   PTI           1000 non-null   float64\n",
            " 2   EQW           1000 non-null   float64\n",
            " 3   SBI           1000 non-null   float64\n",
            " 4   LQE           1000 non-null   float64\n",
            " 5   QWG           1000 non-null   float64\n",
            " 6   FDJ           1000 non-null   float64\n",
            " 7   PJF           1000 non-null   float64\n",
            " 8   HQE           1000 non-null   float64\n",
            " 9   NXJ           1000 non-null   float64\n",
            " 10  TARGET CLASS  1000 non-null   int64  \n",
            "dtypes: float64(10), int64(1)\n",
            "memory usage: 93.8 KB\n"
          ]
        }
      ]
    },
    {
      "cell_type": "code",
      "source": [
        "#describe()\n",
        "df.describe()"
      ],
      "metadata": {
        "id": "QOFgBIJqdWve",
        "colab": {
          "base_uri": "https://localhost:8080/",
          "height": 337
        },
        "outputId": "18fbea1a-cf01-4c89-ec48-b859a9f26eee"
      },
      "execution_count": 74,
      "outputs": [
        {
          "output_type": "execute_result",
          "data": {
            "text/plain": [
              "               WTT          PTI          EQW          SBI          LQE  \\\n",
              "count  1000.000000  1000.000000  1000.000000  1000.000000  1000.000000   \n",
              "mean      0.949682     1.114303     0.834127     0.682099     1.032336   \n",
              "std       0.289635     0.257085     0.291554     0.229645     0.243413   \n",
              "min       0.174412     0.441398     0.170924     0.045027     0.315307   \n",
              "25%       0.742358     0.942071     0.615451     0.515010     0.870855   \n",
              "50%       0.940475     1.118486     0.813264     0.676835     1.035824   \n",
              "75%       1.163295     1.307904     1.028340     0.834317     1.198270   \n",
              "max       1.721779     1.833757     1.722725     1.634884     1.650050   \n",
              "\n",
              "               QWG          FDJ          PJF          HQE          NXJ  \\\n",
              "count  1000.000000  1000.000000  1000.000000  1000.000000  1000.000000   \n",
              "mean      0.943534     0.963422     1.071960     1.158251     1.362725   \n",
              "std       0.256121     0.255118     0.288982     0.293738     0.204225   \n",
              "min       0.262389     0.295228     0.299476     0.365157     0.639693   \n",
              "25%       0.761064     0.784407     0.866306     0.934340     1.222623   \n",
              "50%       0.941502     0.945333     1.065500     1.165556     1.375368   \n",
              "75%       1.123060     1.134852     1.283156     1.383173     1.504832   \n",
              "max       1.666902     1.713342     1.785420     1.885690     1.893950   \n",
              "\n",
              "       TARGET CLASS  \n",
              "count    1000.00000  \n",
              "mean        0.50000  \n",
              "std         0.50025  \n",
              "min         0.00000  \n",
              "25%         0.00000  \n",
              "50%         0.50000  \n",
              "75%         1.00000  \n",
              "max         1.00000  "
            ],
            "text/html": [
              "\n",
              "  <div id=\"df-3e6c6018-0c8e-4a73-bd7a-0312aea30c63\" class=\"colab-df-container\">\n",
              "    <div>\n",
              "<style scoped>\n",
              "    .dataframe tbody tr th:only-of-type {\n",
              "        vertical-align: middle;\n",
              "    }\n",
              "\n",
              "    .dataframe tbody tr th {\n",
              "        vertical-align: top;\n",
              "    }\n",
              "\n",
              "    .dataframe thead th {\n",
              "        text-align: right;\n",
              "    }\n",
              "</style>\n",
              "<table border=\"1\" class=\"dataframe\">\n",
              "  <thead>\n",
              "    <tr style=\"text-align: right;\">\n",
              "      <th></th>\n",
              "      <th>WTT</th>\n",
              "      <th>PTI</th>\n",
              "      <th>EQW</th>\n",
              "      <th>SBI</th>\n",
              "      <th>LQE</th>\n",
              "      <th>QWG</th>\n",
              "      <th>FDJ</th>\n",
              "      <th>PJF</th>\n",
              "      <th>HQE</th>\n",
              "      <th>NXJ</th>\n",
              "      <th>TARGET CLASS</th>\n",
              "    </tr>\n",
              "  </thead>\n",
              "  <tbody>\n",
              "    <tr>\n",
              "      <th>count</th>\n",
              "      <td>1000.000000</td>\n",
              "      <td>1000.000000</td>\n",
              "      <td>1000.000000</td>\n",
              "      <td>1000.000000</td>\n",
              "      <td>1000.000000</td>\n",
              "      <td>1000.000000</td>\n",
              "      <td>1000.000000</td>\n",
              "      <td>1000.000000</td>\n",
              "      <td>1000.000000</td>\n",
              "      <td>1000.000000</td>\n",
              "      <td>1000.00000</td>\n",
              "    </tr>\n",
              "    <tr>\n",
              "      <th>mean</th>\n",
              "      <td>0.949682</td>\n",
              "      <td>1.114303</td>\n",
              "      <td>0.834127</td>\n",
              "      <td>0.682099</td>\n",
              "      <td>1.032336</td>\n",
              "      <td>0.943534</td>\n",
              "      <td>0.963422</td>\n",
              "      <td>1.071960</td>\n",
              "      <td>1.158251</td>\n",
              "      <td>1.362725</td>\n",
              "      <td>0.50000</td>\n",
              "    </tr>\n",
              "    <tr>\n",
              "      <th>std</th>\n",
              "      <td>0.289635</td>\n",
              "      <td>0.257085</td>\n",
              "      <td>0.291554</td>\n",
              "      <td>0.229645</td>\n",
              "      <td>0.243413</td>\n",
              "      <td>0.256121</td>\n",
              "      <td>0.255118</td>\n",
              "      <td>0.288982</td>\n",
              "      <td>0.293738</td>\n",
              "      <td>0.204225</td>\n",
              "      <td>0.50025</td>\n",
              "    </tr>\n",
              "    <tr>\n",
              "      <th>min</th>\n",
              "      <td>0.174412</td>\n",
              "      <td>0.441398</td>\n",
              "      <td>0.170924</td>\n",
              "      <td>0.045027</td>\n",
              "      <td>0.315307</td>\n",
              "      <td>0.262389</td>\n",
              "      <td>0.295228</td>\n",
              "      <td>0.299476</td>\n",
              "      <td>0.365157</td>\n",
              "      <td>0.639693</td>\n",
              "      <td>0.00000</td>\n",
              "    </tr>\n",
              "    <tr>\n",
              "      <th>25%</th>\n",
              "      <td>0.742358</td>\n",
              "      <td>0.942071</td>\n",
              "      <td>0.615451</td>\n",
              "      <td>0.515010</td>\n",
              "      <td>0.870855</td>\n",
              "      <td>0.761064</td>\n",
              "      <td>0.784407</td>\n",
              "      <td>0.866306</td>\n",
              "      <td>0.934340</td>\n",
              "      <td>1.222623</td>\n",
              "      <td>0.00000</td>\n",
              "    </tr>\n",
              "    <tr>\n",
              "      <th>50%</th>\n",
              "      <td>0.940475</td>\n",
              "      <td>1.118486</td>\n",
              "      <td>0.813264</td>\n",
              "      <td>0.676835</td>\n",
              "      <td>1.035824</td>\n",
              "      <td>0.941502</td>\n",
              "      <td>0.945333</td>\n",
              "      <td>1.065500</td>\n",
              "      <td>1.165556</td>\n",
              "      <td>1.375368</td>\n",
              "      <td>0.50000</td>\n",
              "    </tr>\n",
              "    <tr>\n",
              "      <th>75%</th>\n",
              "      <td>1.163295</td>\n",
              "      <td>1.307904</td>\n",
              "      <td>1.028340</td>\n",
              "      <td>0.834317</td>\n",
              "      <td>1.198270</td>\n",
              "      <td>1.123060</td>\n",
              "      <td>1.134852</td>\n",
              "      <td>1.283156</td>\n",
              "      <td>1.383173</td>\n",
              "      <td>1.504832</td>\n",
              "      <td>1.00000</td>\n",
              "    </tr>\n",
              "    <tr>\n",
              "      <th>max</th>\n",
              "      <td>1.721779</td>\n",
              "      <td>1.833757</td>\n",
              "      <td>1.722725</td>\n",
              "      <td>1.634884</td>\n",
              "      <td>1.650050</td>\n",
              "      <td>1.666902</td>\n",
              "      <td>1.713342</td>\n",
              "      <td>1.785420</td>\n",
              "      <td>1.885690</td>\n",
              "      <td>1.893950</td>\n",
              "      <td>1.00000</td>\n",
              "    </tr>\n",
              "  </tbody>\n",
              "</table>\n",
              "</div>\n",
              "    <div class=\"colab-df-buttons\">\n",
              "\n",
              "  <div class=\"colab-df-container\">\n",
              "    <button class=\"colab-df-convert\" onclick=\"convertToInteractive('df-3e6c6018-0c8e-4a73-bd7a-0312aea30c63')\"\n",
              "            title=\"Convert this dataframe to an interactive table.\"\n",
              "            style=\"display:none;\">\n",
              "\n",
              "  <svg xmlns=\"http://www.w3.org/2000/svg\" height=\"24px\" viewBox=\"0 -960 960 960\">\n",
              "    <path d=\"M120-120v-720h720v720H120Zm60-500h600v-160H180v160Zm220 220h160v-160H400v160Zm0 220h160v-160H400v160ZM180-400h160v-160H180v160Zm440 0h160v-160H620v160ZM180-180h160v-160H180v160Zm440 0h160v-160H620v160Z\"/>\n",
              "  </svg>\n",
              "    </button>\n",
              "\n",
              "  <style>\n",
              "    .colab-df-container {\n",
              "      display:flex;\n",
              "      gap: 12px;\n",
              "    }\n",
              "\n",
              "    .colab-df-convert {\n",
              "      background-color: #E8F0FE;\n",
              "      border: none;\n",
              "      border-radius: 50%;\n",
              "      cursor: pointer;\n",
              "      display: none;\n",
              "      fill: #1967D2;\n",
              "      height: 32px;\n",
              "      padding: 0 0 0 0;\n",
              "      width: 32px;\n",
              "    }\n",
              "\n",
              "    .colab-df-convert:hover {\n",
              "      background-color: #E2EBFA;\n",
              "      box-shadow: 0px 1px 2px rgba(60, 64, 67, 0.3), 0px 1px 3px 1px rgba(60, 64, 67, 0.15);\n",
              "      fill: #174EA6;\n",
              "    }\n",
              "\n",
              "    .colab-df-buttons div {\n",
              "      margin-bottom: 4px;\n",
              "    }\n",
              "\n",
              "    [theme=dark] .colab-df-convert {\n",
              "      background-color: #3B4455;\n",
              "      fill: #D2E3FC;\n",
              "    }\n",
              "\n",
              "    [theme=dark] .colab-df-convert:hover {\n",
              "      background-color: #434B5C;\n",
              "      box-shadow: 0px 1px 3px 1px rgba(0, 0, 0, 0.15);\n",
              "      filter: drop-shadow(0px 1px 2px rgba(0, 0, 0, 0.3));\n",
              "      fill: #FFFFFF;\n",
              "    }\n",
              "  </style>\n",
              "\n",
              "    <script>\n",
              "      const buttonEl =\n",
              "        document.querySelector('#df-3e6c6018-0c8e-4a73-bd7a-0312aea30c63 button.colab-df-convert');\n",
              "      buttonEl.style.display =\n",
              "        google.colab.kernel.accessAllowed ? 'block' : 'none';\n",
              "\n",
              "      async function convertToInteractive(key) {\n",
              "        const element = document.querySelector('#df-3e6c6018-0c8e-4a73-bd7a-0312aea30c63');\n",
              "        const dataTable =\n",
              "          await google.colab.kernel.invokeFunction('convertToInteractive',\n",
              "                                                    [key], {});\n",
              "        if (!dataTable) return;\n",
              "\n",
              "        const docLinkHtml = 'Like what you see? Visit the ' +\n",
              "          '<a target=\"_blank\" href=https://colab.research.google.com/notebooks/data_table.ipynb>data table notebook</a>'\n",
              "          + ' to learn more about interactive tables.';\n",
              "        element.innerHTML = '';\n",
              "        dataTable['output_type'] = 'display_data';\n",
              "        await google.colab.output.renderOutput(dataTable, element);\n",
              "        const docLink = document.createElement('div');\n",
              "        docLink.innerHTML = docLinkHtml;\n",
              "        element.appendChild(docLink);\n",
              "      }\n",
              "    </script>\n",
              "  </div>\n",
              "\n",
              "\n",
              "<div id=\"df-da1dc33d-9f6b-487c-b0bd-dcb5da9ee2f3\">\n",
              "  <button class=\"colab-df-quickchart\" onclick=\"quickchart('df-da1dc33d-9f6b-487c-b0bd-dcb5da9ee2f3')\"\n",
              "            title=\"Suggest charts.\"\n",
              "            style=\"display:none;\">\n",
              "\n",
              "<svg xmlns=\"http://www.w3.org/2000/svg\" height=\"24px\"viewBox=\"0 0 24 24\"\n",
              "     width=\"24px\">\n",
              "    <g>\n",
              "        <path d=\"M19 3H5c-1.1 0-2 .9-2 2v14c0 1.1.9 2 2 2h14c1.1 0 2-.9 2-2V5c0-1.1-.9-2-2-2zM9 17H7v-7h2v7zm4 0h-2V7h2v10zm4 0h-2v-4h2v4z\"/>\n",
              "    </g>\n",
              "</svg>\n",
              "  </button>\n",
              "\n",
              "<style>\n",
              "  .colab-df-quickchart {\n",
              "      --bg-color: #E8F0FE;\n",
              "      --fill-color: #1967D2;\n",
              "      --hover-bg-color: #E2EBFA;\n",
              "      --hover-fill-color: #174EA6;\n",
              "      --disabled-fill-color: #AAA;\n",
              "      --disabled-bg-color: #DDD;\n",
              "  }\n",
              "\n",
              "  [theme=dark] .colab-df-quickchart {\n",
              "      --bg-color: #3B4455;\n",
              "      --fill-color: #D2E3FC;\n",
              "      --hover-bg-color: #434B5C;\n",
              "      --hover-fill-color: #FFFFFF;\n",
              "      --disabled-bg-color: #3B4455;\n",
              "      --disabled-fill-color: #666;\n",
              "  }\n",
              "\n",
              "  .colab-df-quickchart {\n",
              "    background-color: var(--bg-color);\n",
              "    border: none;\n",
              "    border-radius: 50%;\n",
              "    cursor: pointer;\n",
              "    display: none;\n",
              "    fill: var(--fill-color);\n",
              "    height: 32px;\n",
              "    padding: 0;\n",
              "    width: 32px;\n",
              "  }\n",
              "\n",
              "  .colab-df-quickchart:hover {\n",
              "    background-color: var(--hover-bg-color);\n",
              "    box-shadow: 0 1px 2px rgba(60, 64, 67, 0.3), 0 1px 3px 1px rgba(60, 64, 67, 0.15);\n",
              "    fill: var(--button-hover-fill-color);\n",
              "  }\n",
              "\n",
              "  .colab-df-quickchart-complete:disabled,\n",
              "  .colab-df-quickchart-complete:disabled:hover {\n",
              "    background-color: var(--disabled-bg-color);\n",
              "    fill: var(--disabled-fill-color);\n",
              "    box-shadow: none;\n",
              "  }\n",
              "\n",
              "  .colab-df-spinner {\n",
              "    border: 2px solid var(--fill-color);\n",
              "    border-color: transparent;\n",
              "    border-bottom-color: var(--fill-color);\n",
              "    animation:\n",
              "      spin 1s steps(1) infinite;\n",
              "  }\n",
              "\n",
              "  @keyframes spin {\n",
              "    0% {\n",
              "      border-color: transparent;\n",
              "      border-bottom-color: var(--fill-color);\n",
              "      border-left-color: var(--fill-color);\n",
              "    }\n",
              "    20% {\n",
              "      border-color: transparent;\n",
              "      border-left-color: var(--fill-color);\n",
              "      border-top-color: var(--fill-color);\n",
              "    }\n",
              "    30% {\n",
              "      border-color: transparent;\n",
              "      border-left-color: var(--fill-color);\n",
              "      border-top-color: var(--fill-color);\n",
              "      border-right-color: var(--fill-color);\n",
              "    }\n",
              "    40% {\n",
              "      border-color: transparent;\n",
              "      border-right-color: var(--fill-color);\n",
              "      border-top-color: var(--fill-color);\n",
              "    }\n",
              "    60% {\n",
              "      border-color: transparent;\n",
              "      border-right-color: var(--fill-color);\n",
              "    }\n",
              "    80% {\n",
              "      border-color: transparent;\n",
              "      border-right-color: var(--fill-color);\n",
              "      border-bottom-color: var(--fill-color);\n",
              "    }\n",
              "    90% {\n",
              "      border-color: transparent;\n",
              "      border-bottom-color: var(--fill-color);\n",
              "    }\n",
              "  }\n",
              "</style>\n",
              "\n",
              "  <script>\n",
              "    async function quickchart(key) {\n",
              "      const quickchartButtonEl =\n",
              "        document.querySelector('#' + key + ' button');\n",
              "      quickchartButtonEl.disabled = true;  // To prevent multiple clicks.\n",
              "      quickchartButtonEl.classList.add('colab-df-spinner');\n",
              "      try {\n",
              "        const charts = await google.colab.kernel.invokeFunction(\n",
              "            'suggestCharts', [key], {});\n",
              "      } catch (error) {\n",
              "        console.error('Error during call to suggestCharts:', error);\n",
              "      }\n",
              "      quickchartButtonEl.classList.remove('colab-df-spinner');\n",
              "      quickchartButtonEl.classList.add('colab-df-quickchart-complete');\n",
              "    }\n",
              "    (() => {\n",
              "      let quickchartButtonEl =\n",
              "        document.querySelector('#df-da1dc33d-9f6b-487c-b0bd-dcb5da9ee2f3 button');\n",
              "      quickchartButtonEl.style.display =\n",
              "        google.colab.kernel.accessAllowed ? 'block' : 'none';\n",
              "    })();\n",
              "  </script>\n",
              "</div>\n",
              "    </div>\n",
              "  </div>\n"
            ]
          },
          "metadata": {},
          "execution_count": 74
        }
      ]
    },
    {
      "cell_type": "markdown",
      "metadata": {
        "id": "N3g0ISUGYNDZ"
      },
      "source": [
        "**Run a 'for' loop to draw boxplots of all the features for '0' and '1' TARGET CLASS**<br>\n",
        "Hint: Loop through each of the 10 features and draw a separate boxplot. You should have 10 boxplots in total. <br>\n",
        "Refer seaborn boxplot() documentation"
      ]
    },
    {
      "cell_type": "markdown",
      "source": [
        "Here is some information about boxplots:\n",
        "\n",
        "Understanding Boxplots:\n",
        "https://medium.com/analytics-vidhya/introduction-to-box-plots-and-how-to-interpret-them-22464acbcba7 <br>\n",
        "Comparing two boxplots: https://www.nagwa.com/en/explainers/812192146073/"
      ],
      "metadata": {
        "id": "FNvNOqmDo1R8"
      }
    },
    {
      "cell_type": "code",
      "metadata": {
        "scrolled": false,
        "id": "kORQOo9gYNDZ",
        "colab": {
          "base_uri": "https://localhost:8080/",
          "height": 1000
        },
        "outputId": "928e82b6-61be-42b4-e385-c192b37aeb89"
      },
      "source": [
        "#your code starts here\n",
        "plt.figure(figsize=(25, 35))\n",
        "\n",
        "for i , column in enumerate(df.columns[:-1],1):\n",
        "    plt.subplot(5, 2, i)\n",
        "    sns.boxplot(data=df, x='TARGET CLASS', y=column)\n",
        "\n",
        "plt.show()\n",
        "\n",
        "# your code ends here"
      ],
      "execution_count": 75,
      "outputs": [
        {
          "output_type": "display_data",
          "data": {
            "text/plain": [
              "<Figure size 2500x3500 with 10 Axes>"
            ],
            "image/png": "[encoded data removed]"
          },
          "metadata": {}
        }
      ]
    },
    {
      "cell_type": "markdown",
      "source": [
        "What conclusion, if any can you draw from these boxplots?\n",
        "List them down below."
      ],
      "metadata": {
        "id": "miAhtoazeBJu"
      }
    },
    {
      "cell_type": "markdown",
      "source": [
        "For WTT and HQE the targets 1  more when values are higher\n",
        "For PTI , EQW te targets are 0 when values are higher\n",
        "\n",
        "these are the noticable differences rest have roughly the same probability of being 0 or 1 when in their value range"
      ],
      "metadata": {
        "id": "ud0BEc1oeJvE"
      }
    },
    {
      "cell_type": "markdown",
      "metadata": {
        "id": "OIFaYgUWYNDa"
      },
      "source": [
        "### Standardize the features using sklearn.preprocessing\n",
        "Why should we standardize?<br>\n",
        "Variables that are measured at different scales do not contribute equally to the model fitting & model learned function and might end up creating a bias. Thus, to deal with this potential problem feature-wise standardization is usually used prior to model fitting.<br><br>\n",
        "\n",
        "To give you an example, values pertaining to Age usually lie within the range of 1-100, however values pertaining to Salary lie in a much wider range of say 10000-1000000. You can see how having both columns be a part of a classification model as is would lead to an imbalance in importance assigned to columns.\n",
        "<br><br>\n",
        "Go through this link for a better understanding:<br>\n",
        "https://towardsdatascience.com/how-and-why-to-standardize-your-data-996926c2c832"
      ]
    },
    {
      "cell_type": "markdown",
      "metadata": {
        "id": "EzMEGA9fYNDa"
      },
      "source": [
        "**import StandardScaler from Sklearn and instantiate it to a variable called \"scaler\"**"
      ]
    },
    {
      "cell_type": "code",
      "metadata": {
        "id": "HVWU81uvYNDb"
      },
      "source": [
        "# your code starts here\n",
        "from sklearn.preprocessing import StandardScaler\n",
        "scaler = StandardScaler()\n",
        "# your code ends here"
      ],
      "execution_count": 76,
      "outputs": []
    },
    {
      "cell_type": "markdown",
      "metadata": {
        "id": "HlKUjW9XYNDb"
      },
      "source": [
        "**Fit only the features data to this scaler (leaving the TARGET CLASS column out) and then transform**<br>\n",
        "Hint: scaler.fit() and scaler.transform()"
      ]
    },
    {
      "cell_type": "code",
      "metadata": {
        "id": "MCbkapp4YNDb"
      },
      "source": [
        "# your code starts here\n",
        "a= df.drop(columns=[\"TARGET CLASS\"])\n",
        "scaler.fit(a)\n",
        "a_new= scaler.transform(a)\n",
        "\n",
        "# your code ends here"
      ],
      "execution_count": 77,
      "outputs": []
    },
    {
      "cell_type": "markdown",
      "metadata": {
        "id": "uZTbl8UBYNDc"
      },
      "source": [
        "**scaler.transform() will return an array. We need to convert this into a dataframe. Do this and add the column names to the dataframe. Call this new dataframe as \"df_feat\". Call head() on this df**<br>\n",
        "Note: The final dataframe will have the initial columns except the \"TARGET CLASS\"."
      ]
    },
    {
      "cell_type": "code",
      "metadata": {
        "id": "m6DnntqtYNDc",
        "colab": {
          "base_uri": "https://localhost:8080/",
          "height": 206
        },
        "outputId": "e459f903-89dd-47be-f9b4-8e1b22ca4e4b"
      },
      "source": [
        "# your code starts here\n",
        "df_feat = pd.DataFrame(a_new, columns=a.columns)\n",
        "df_feat.head()\n",
        "# your code ends here"
      ],
      "execution_count": 78,
      "outputs": [
        {
          "output_type": "execute_result",
          "data": {
            "text/plain": [
              "        WTT       PTI       EQW       SBI       LQE       QWG       FDJ  \\\n",
              "0 -0.123542  0.185907 -0.913431  0.319629 -1.033637 -2.308375 -0.798951   \n",
              "1 -1.084836 -0.430348 -1.025313  0.625388 -0.444847 -1.152706 -1.129797   \n",
              "2 -0.788702  0.339318  0.301511  0.755873  2.031693 -0.870156  2.599818   \n",
              "3  0.982841  1.060193 -0.621399  0.625299  0.452820 -0.267220  1.750208   \n",
              "4  1.139275 -0.640392 -0.709819 -0.057175  0.822886 -0.936773  0.596782   \n",
              "\n",
              "        PJF       HQE       NXJ  \n",
              "0 -1.482368 -0.949719 -0.643314  \n",
              "1 -0.202240 -1.828051  0.636759  \n",
              "2  0.285707 -0.682494 -0.377850  \n",
              "3  1.066491  1.241325 -1.026987  \n",
              "4 -1.472352  1.040772  0.276510  "
            ],
            "text/html": [
              "\n",
              "  <div id=\"df-00a1829c-d80e-49d7-9f76-5a8c82538c6f\" class=\"colab-df-container\">\n",
              "    <div>\n",
              "<style scoped>\n",
              "    .dataframe tbody tr th:only-of-type {\n",
              "        vertical-align: middle;\n",
              "    }\n",
              "\n",
              "    .dataframe tbody tr th {\n",
              "        vertical-align: top;\n",
              "    }\n",
              "\n",
              "    .dataframe thead th {\n",
              "        text-align: right;\n",
              "    }\n",
              "</style>\n",
              "<table border=\"1\" class=\"dataframe\">\n",
              "  <thead>\n",
              "    <tr style=\"text-align: right;\">\n",
              "      <th></th>\n",
              "      <th>WTT</th>\n",
              "      <th>PTI</th>\n",
              "      <th>EQW</th>\n",
              "      <th>SBI</th>\n",
              "      <th>LQE</th>\n",
              "      <th>QWG</th>\n",
              "      <th>FDJ</th>\n",
              "      <th>PJF</th>\n",
              "      <th>HQE</th>\n",
              "      <th>NXJ</th>\n",
              "    </tr>\n",
              "  </thead>\n",
              "  <tbody>\n",
              "    <tr>\n",
              "      <th>0</th>\n",
              "      <td>-0.123542</td>\n",
              "      <td>0.185907</td>\n",
              "      <td>-0.913431</td>\n",
              "      <td>0.319629</td>\n",
              "      <td>-1.033637</td>\n",
              "      <td>-2.308375</td>\n",
              "      <td>-0.798951</td>\n",
              "      <td>-1.482368</td>\n",
              "      <td>-0.949719</td>\n",
              "      <td>-0.643314</td>\n",
              "    </tr>\n",
              "    <tr>\n",
              "      <th>1</th>\n",
              "      <td>-1.084836</td>\n",
              "      <td>-0.430348</td>\n",
              "      <td>-1.025313</td>\n",
              "      <td>0.625388</td>\n",
              "      <td>-0.444847</td>\n",
              "      <td>-1.152706</td>\n",
              "      <td>-1.129797</td>\n",
              "      <td>-0.202240</td>\n",
              "      <td>-1.828051</td>\n",
              "      <td>0.636759</td>\n",
              "    </tr>\n",
              "    <tr>\n",
              "      <th>2</th>\n",
              "      <td>-0.788702</td>\n",
              "      <td>0.339318</td>\n",
              "      <td>0.301511</td>\n",
              "      <td>0.755873</td>\n",
              "      <td>2.031693</td>\n",
              "      <td>-0.870156</td>\n",
              "      <td>2.599818</td>\n",
              "      <td>0.285707</td>\n",
              "      <td>-0.682494</td>\n",
              "      <td>-0.377850</td>\n",
              "    </tr>\n",
              "    <tr>\n",
              "      <th>3</th>\n",
              "      <td>0.982841</td>\n",
              "      <td>1.060193</td>\n",
              "      <td>-0.621399</td>\n",
              "      <td>0.625299</td>\n",
              "      <td>0.452820</td>\n",
              "      <td>-0.267220</td>\n",
              "      <td>1.750208</td>\n",
              "      <td>1.066491</td>\n",
              "      <td>1.241325</td>\n",
              "      <td>-1.026987</td>\n",
              "    </tr>\n",
              "    <tr>\n",
              "      <th>4</th>\n",
              "      <td>1.139275</td>\n",
              "      <td>-0.640392</td>\n",
              "      <td>-0.709819</td>\n",
              "      <td>-0.057175</td>\n",
              "      <td>0.822886</td>\n",
              "      <td>-0.936773</td>\n",
              "      <td>0.596782</td>\n",
              "      <td>-1.472352</td>\n",
              "      <td>1.040772</td>\n",
              "      <td>0.276510</td>\n",
              "    </tr>\n",
              "  </tbody>\n",
              "</table>\n",
              "</div>\n",
              "    <div class=\"colab-df-buttons\">\n",
              "\n",
              "  <div class=\"colab-df-container\">\n",
              "    <button class=\"colab-df-convert\" onclick=\"convertToInteractive('df-00a1829c-d80e-49d7-9f76-5a8c82538c6f')\"\n",
              "            title=\"Convert this dataframe to an interactive table.\"\n",
              "            style=\"display:none;\">\n",
              "\n",
              "  <svg xmlns=\"http://www.w3.org/2000/svg\" height=\"24px\" viewBox=\"0 -960 960 960\">\n",
              "    <path d=\"M120-120v-720h720v720H120Zm60-500h600v-160H180v160Zm220 220h160v-160H400v160Zm0 220h160v-160H400v160ZM180-400h160v-160H180v160Zm440 0h160v-160H620v160ZM180-180h160v-160H180v160Zm440 0h160v-160H620v160Z\"/>\n",
              "  </svg>\n",
              "    </button>\n",
              "\n",
              "  <style>\n",
              "    .colab-df-container {\n",
              "      display:flex;\n",
              "      gap: 12px;\n",
              "    }\n",
              "\n",
              "    .colab-df-convert {\n",
              "      background-color: #E8F0FE;\n",
              "      border: none;\n",
              "      border-radius: 50%;\n",
              "      cursor: pointer;\n",
              "      display: none;\n",
              "      fill: #1967D2;\n",
              "      height: 32px;\n",
              "      padding: 0 0 0 0;\n",
              "      width: 32px;\n",
              "    }\n",
              "\n",
              "    .colab-df-convert:hover {\n",
              "      background-color: #E2EBFA;\n",
              "      box-shadow: 0px 1px 2px rgba(60, 64, 67, 0.3), 0px 1px 3px 1px rgba(60, 64, 67, 0.15);\n",
              "      fill: #174EA6;\n",
              "    }\n",
              "\n",
              "    .colab-df-buttons div {\n",
              "      margin-bottom: 4px;\n",
              "    }\n",
              "\n",
              "    [theme=dark] .colab-df-convert {\n",
              "      background-color: #3B4455;\n",
              "      fill: #D2E3FC;\n",
              "    }\n",
              "\n",
              "    [theme=dark] .colab-df-convert:hover {\n",
              "      background-color: #434B5C;\n",
              "      box-shadow: 0px 1px 3px 1px rgba(0, 0, 0, 0.15);\n",
              "      filter: drop-shadow(0px 1px 2px rgba(0, 0, 0, 0.3));\n",
              "      fill: #FFFFFF;\n",
              "    }\n",
              "  </style>\n",
              "\n",
              "    <script>\n",
              "      const buttonEl =\n",
              "        document.querySelector('#df-00a1829c-d80e-49d7-9f76-5a8c82538c6f button.colab-df-convert');\n",
              "      buttonEl.style.display =\n",
              "        google.colab.kernel.accessAllowed ? 'block' : 'none';\n",
              "\n",
              "      async function convertToInteractive(key) {\n",
              "        const element = document.querySelector('#df-00a1829c-d80e-49d7-9f76-5a8c82538c6f');\n",
              "        const dataTable =\n",
              "          await google.colab.kernel.invokeFunction('convertToInteractive',\n",
              "                                                    [key], {});\n",
              "        if (!dataTable) return;\n",
              "\n",
              "        const docLinkHtml = 'Like what you see? Visit the ' +\n",
              "          '<a target=\"_blank\" href=https://colab.research.google.com/notebooks/data_table.ipynb>data table notebook</a>'\n",
              "          + ' to learn more about interactive tables.';\n",
              "        element.innerHTML = '';\n",
              "        dataTable['output_type'] = 'display_data';\n",
              "        await google.colab.output.renderOutput(dataTable, element);\n",
              "        const docLink = document.createElement('div');\n",
              "        docLink.innerHTML = docLinkHtml;\n",
              "        element.appendChild(docLink);\n",
              "      }\n",
              "    </script>\n",
              "  </div>\n",
              "\n",
              "\n",
              "<div id=\"df-ebe6bfff-600a-4b53-b200-88c358d79bdb\">\n",
              "  <button class=\"colab-df-quickchart\" onclick=\"quickchart('df-ebe6bfff-600a-4b53-b200-88c358d79bdb')\"\n",
              "            title=\"Suggest charts.\"\n",
              "            style=\"display:none;\">\n",
              "\n",
              "<svg xmlns=\"http://www.w3.org/2000/svg\" height=\"24px\"viewBox=\"0 0 24 24\"\n",
              "     width=\"24px\">\n",
              "    <g>\n",
              "        <path d=\"M19 3H5c-1.1 0-2 .9-2 2v14c0 1.1.9 2 2 2h14c1.1 0 2-.9 2-2V5c0-1.1-.9-2-2-2zM9 17H7v-7h2v7zm4 0h-2V7h2v10zm4 0h-2v-4h2v4z\"/>\n",
              "    </g>\n",
              "</svg>\n",
              "  </button>\n",
              "\n",
              "<style>\n",
              "  .colab-df-quickchart {\n",
              "      --bg-color: #E8F0FE;\n",
              "      --fill-color: #1967D2;\n",
              "      --hover-bg-color: #E2EBFA;\n",
              "      --hover-fill-color: #174EA6;\n",
              "      --disabled-fill-color: #AAA;\n",
              "      --disabled-bg-color: #DDD;\n",
              "  }\n",
              "\n",
              "  [theme=dark] .colab-df-quickchart {\n",
              "      --bg-color: #3B4455;\n",
              "      --fill-color: #D2E3FC;\n",
              "      --hover-bg-color: #434B5C;\n",
              "      --hover-fill-color: #FFFFFF;\n",
              "      --disabled-bg-color: #3B4455;\n",
              "      --disabled-fill-color: #666;\n",
              "  }\n",
              "\n",
              "  .colab-df-quickchart {\n",
              "    background-color: var(--bg-color);\n",
              "    border: none;\n",
              "    border-radius: 50%;\n",
              "    cursor: pointer;\n",
              "    display: none;\n",
              "    fill: var(--fill-color);\n",
              "    height: 32px;\n",
              "    padding: 0;\n",
              "    width: 32px;\n",
              "  }\n",
              "\n",
              "  .colab-df-quickchart:hover {\n",
              "    background-color: var(--hover-bg-color);\n",
              "    box-shadow: 0 1px 2px rgba(60, 64, 67, 0.3), 0 1px 3px 1px rgba(60, 64, 67, 0.15);\n",
              "    fill: var(--button-hover-fill-color);\n",
              "  }\n",
              "\n",
              "  .colab-df-quickchart-complete:disabled,\n",
              "  .colab-df-quickchart-complete:disabled:hover {\n",
              "    background-color: var(--disabled-bg-color);\n",
              "    fill: var(--disabled-fill-color);\n",
              "    box-shadow: none;\n",
              "  }\n",
              "\n",
              "  .colab-df-spinner {\n",
              "    border: 2px solid var(--fill-color);\n",
              "    border-color: transparent;\n",
              "    border-bottom-color: var(--fill-color);\n",
              "    animation:\n",
              "      spin 1s steps(1) infinite;\n",
              "  }\n",
              "\n",
              "  @keyframes spin {\n",
              "    0% {\n",
              "      border-color: transparent;\n",
              "      border-bottom-color: var(--fill-color);\n",
              "      border-left-color: var(--fill-color);\n",
              "    }\n",
              "    20% {\n",
              "      border-color: transparent;\n",
              "      border-left-color: var(--fill-color);\n",
              "      border-top-color: var(--fill-color);\n",
              "    }\n",
              "    30% {\n",
              "      border-color: transparent;\n",
              "      border-left-color: var(--fill-color);\n",
              "      border-top-color: var(--fill-color);\n",
              "      border-right-color: var(--fill-color);\n",
              "    }\n",
              "    40% {\n",
              "      border-color: transparent;\n",
              "      border-right-color: var(--fill-color);\n",
              "      border-top-color: var(--fill-color);\n",
              "    }\n",
              "    60% {\n",
              "      border-color: transparent;\n",
              "      border-right-color: var(--fill-color);\n",
              "    }\n",
              "    80% {\n",
              "      border-color: transparent;\n",
              "      border-right-color: var(--fill-color);\n",
              "      border-bottom-color: var(--fill-color);\n",
              "    }\n",
              "    90% {\n",
              "      border-color: transparent;\n",
              "      border-bottom-color: var(--fill-color);\n",
              "    }\n",
              "  }\n",
              "</style>\n",
              "\n",
              "  <script>\n",
              "    async function quickchart(key) {\n",
              "      const quickchartButtonEl =\n",
              "        document.querySelector('#' + key + ' button');\n",
              "      quickchartButtonEl.disabled = true;  // To prevent multiple clicks.\n",
              "      quickchartButtonEl.classList.add('colab-df-spinner');\n",
              "      try {\n",
              "        const charts = await google.colab.kernel.invokeFunction(\n",
              "            'suggestCharts', [key], {});\n",
              "      } catch (error) {\n",
              "        console.error('Error during call to suggestCharts:', error);\n",
              "      }\n",
              "      quickchartButtonEl.classList.remove('colab-df-spinner');\n",
              "      quickchartButtonEl.classList.add('colab-df-quickchart-complete');\n",
              "    }\n",
              "    (() => {\n",
              "      let quickchartButtonEl =\n",
              "        document.querySelector('#df-ebe6bfff-600a-4b53-b200-88c358d79bdb button');\n",
              "      quickchartButtonEl.style.display =\n",
              "        google.colab.kernel.accessAllowed ? 'block' : 'none';\n",
              "    })();\n",
              "  </script>\n",
              "</div>\n",
              "    </div>\n",
              "  </div>\n"
            ]
          },
          "metadata": {},
          "execution_count": 78
        }
      ]
    },
    {
      "cell_type": "markdown",
      "metadata": {
        "id": "vWiXgySxYNDd"
      },
      "source": [
        "### Train/Test split"
      ]
    },
    {
      "cell_type": "markdown",
      "metadata": {
        "id": "xgJQPOfXYNDd"
      },
      "source": [
        "**Set X to be equal to df_feat and set y accordingly. As you know, X contains our training features and y contains our target.**<br>\n",
        "Hint: y can be taken directly from the initial dataframe \"df\""
      ]
    },
    {
      "cell_type": "code",
      "metadata": {
        "id": "W94s-2-jYNDd"
      },
      "source": [
        "# Your code starts here.\n",
        "y = df[[\"TARGET CLASS\"]]\n",
        "X=df_feat\n",
        "# Your code ends here"
      ],
      "execution_count": 79,
      "outputs": []
    },
    {
      "cell_type": "markdown",
      "metadata": {
        "id": "5tyZdg0nYNDd"
      },
      "source": [
        "**Import train_test_split function from scikit-learn**<br>\n",
        "**Create X and y train and test splits in one command using a test size of 0.3 and a random seed**<br>\n",
        "They should be called X_train, X_test, y_train, y_test"
      ]
    },
    {
      "cell_type": "code",
      "metadata": {
        "id": "wiNlmT2IYNDe"
      },
      "source": [
        "# Your code starts here.\n",
        "from sklearn.model_selection import train_test_split\n",
        "X_train, X_test, y_train, y_test = train_test_split(X,y, test_size=0.3, random_state=0)\n",
        "# Your code ends here"
      ],
      "execution_count": 80,
      "outputs": []
    },
    {
      "cell_type": "markdown",
      "metadata": {
        "id": "N6tS1j4iYNDe"
      },
      "source": [
        "### Model fit and training"
      ]
    },
    {
      "cell_type": "markdown",
      "source": [
        "Before moving ahead with the cells below, learn how the K Nearest Neighbour Algorithm actually works.\n",
        "\n",
        "Theory and implementation : https://youtu.be/wTF6vzS9fy4 <br>\n",
        "Theory: https://www.analyticsvidhya.com/blog/2018/08/k-nearest-neighbor-introduction-regression-python/"
      ],
      "metadata": {
        "id": "FA3lK0EipOMF"
      }
    },
    {
      "cell_type": "markdown",
      "metadata": {
        "id": "7A_LeaNAYNDe"
      },
      "source": [
        "**import KNeighborsClassifier from sklearn and initialize it with neighbours = 1 (more on this later) . Fit this on X_train and y_train**"
      ]
    },
    {
      "cell_type": "code",
      "metadata": {
        "id": "kaSJJTYDYNDf",
        "colab": {
          "base_uri": "https://localhost:8080/",
          "height": 92
        },
        "outputId": "5bba694e-aa56-4f69-a9be-ff9fecb384b2"
      },
      "source": [
        "# Your code starts here.\n",
        "from sklearn.neighbors import KNeighborsClassifier\n",
        "knn = KNeighborsClassifier(n_neighbors=1)\n",
        "knn.fit(X_train,y_train)\n",
        "# Your code ends here"
      ],
      "execution_count": 81,
      "outputs": [
        {
          "output_type": "stream",
          "name": "stderr",
          "text": [
            "A column-vector y was passed when a 1d array was expected. Please change the shape of y to (n_samples,), for example using ravel().\n"
          ]
        },
        {
          "output_type": "execute_result",
          "data": {
            "text/plain": [
              "KNeighborsClassifier(n_neighbors=1)"
            ],
            "text/html": [
              "<style>#sk-container-id-2 {color: black;background-color: white;}#sk-container-id-2 pre{padding: 0;}#sk-container-id-2 div.sk-toggleable {background-color: white;}#sk-container-id-2 label.sk-toggleable__label {cursor: pointer;display: block;width: 100%;margin-bottom: 0;padding: 0.3em;box-sizing: border-box;text-align: center;}#sk-container-id-2 label.sk-toggleable__label-arrow:before {content: \"▸\";float: left;margin-right: 0.25em;color: #696969;}#sk-container-id-2 label.sk-toggleable__label-arrow:hover:before {color: black;}#sk-container-id-2 div.sk-estimator:hover label.sk-toggleable__label-arrow:before {color: black;}#sk-container-id-2 div.sk-toggleable__content {max-height: 0;max-width: 0;overflow: hidden;text-align: left;background-color: #f0f8ff;}#sk-container-id-2 div.sk-toggleable__content pre {margin: 0.2em;color: black;border-radius: 0.25em;background-color: #f0f8ff;}#sk-container-id-2 input.sk-toggleable__control:checked~div.sk-toggleable__content {max-height: 200px;max-width: 100%;overflow: auto;}#sk-container-id-2 input.sk-toggleable__control:checked~label.sk-toggleable__label-arrow:before {content: \"▾\";}#sk-container-id-2 div.sk-estimator input.sk-toggleable__control:checked~label.sk-toggleable__label {background-color: #d4ebff;}#sk-container-id-2 div.sk-label input.sk-toggleable__control:checked~label.sk-toggleable__label {background-color: #d4ebff;}#sk-container-id-2 input.sk-hidden--visually {border: 0;clip: rect(1px 1px 1px 1px);clip: rect(1px, 1px, 1px, 1px);height: 1px;margin: -1px;overflow: hidden;padding: 0;position: absolute;width: 1px;}#sk-container-id-2 div.sk-estimator {font-family: monospace;background-color: #f0f8ff;border: 1px dotted black;border-radius: 0.25em;box-sizing: border-box;margin-bottom: 0.5em;}#sk-container-id-2 div.sk-estimator:hover {background-color: #d4ebff;}#sk-container-id-2 div.sk-parallel-item::after {content: \"\";width: 100%;border-bottom: 1px solid gray;flex-grow: 1;}#sk-container-id-2 div.sk-label:hover label.sk-toggleable__label {background-color: #d4ebff;}#sk-container-id-2 div.sk-serial::before {content: \"\";position: absolute;border-left: 1px solid gray;box-sizing: border-box;top: 0;bottom: 0;left: 50%;z-index: 0;}#sk-container-id-2 div.sk-serial {display: flex;flex-direction: column;align-items: center;background-color: white;padding-right: 0.2em;padding-left: 0.2em;position: relative;}#sk-container-id-2 div.sk-item {position: relative;z-index: 1;}#sk-container-id-2 div.sk-parallel {display: flex;align-items: stretch;justify-content: center;background-color: white;position: relative;}#sk-container-id-2 div.sk-item::before, #sk-container-id-2 div.sk-parallel-item::before {content: \"\";position: absolute;border-left: 1px solid gray;box-sizing: border-box;top: 0;bottom: 0;left: 50%;z-index: -1;}#sk-container-id-2 div.sk-parallel-item {display: flex;flex-direction: column;z-index: 1;position: relative;background-color: white;}#sk-container-id-2 div.sk-parallel-item:first-child::after {align-self: flex-end;width: 50%;}#sk-container-id-2 div.sk-parallel-item:last-child::after {align-self: flex-start;width: 50%;}#sk-container-id-2 div.sk-parallel-item:only-child::after {width: 0;}#sk-container-id-2 div.sk-dashed-wrapped {border: 1px dashed gray;margin: 0 0.4em 0.5em 0.4em;box-sizing: border-box;padding-bottom: 0.4em;background-color: white;}#sk-container-id-2 div.sk-label label {font-family: monospace;font-weight: bold;display: inline-block;line-height: 1.2em;}#sk-container-id-2 div.sk-label-container {text-align: center;}#sk-container-id-2 div.sk-container {/* jupyter's `normalize.less` sets `[hidden] { display: none; }` but bootstrap.min.css set `[hidden] { display: none !important; }` so we also need the `!important` here to be able to override the default hidden behavior on the sphinx rendered scikit-learn.org. See: https://github.com/scikit-learn/scikit-learn/issues/21755 */display: inline-block !important;position: relative;}#sk-container-id-2 div.sk-text-repr-fallback {display: none;}</style><div id=\"sk-container-id-2\" class=\"sk-top-container\"><div class=\"sk-text-repr-fallback\"><pre>KNeighborsClassifier(n_neighbors=1)</pre><b>In a Jupyter environment, please rerun this cell to show the HTML representation or trust the notebook. <br />On GitHub, the HTML representation is unable to render, please try loading this page with nbviewer.org.</b></div><div class=\"sk-container\" hidden><div class=\"sk-item\"><div class=\"sk-estimator sk-toggleable\"><input class=\"sk-toggleable__control sk-hidden--visually\" id=\"sk-estimator-id-2\" type=\"checkbox\" checked><label for=\"sk-estimator-id-2\" class=\"sk-toggleable__label sk-toggleable__label-arrow\">KNeighborsClassifier</label><div class=\"sk-toggleable__content\"><pre>KNeighborsClassifier(n_neighbors=1)</pre></div></div></div></div></div>"
            ]
          },
          "metadata": {},
          "execution_count": 81
        }
      ]
    },
    {
      "cell_type": "markdown",
      "metadata": {
        "id": "eAEVkt6LYNDf"
      },
      "source": [
        "**Using this fitted model, predict on X_test. Store these predictions in variable called pred.**"
      ]
    },
    {
      "cell_type": "code",
      "metadata": {
        "id": "rsnjjXaMYNDf"
      },
      "source": [
        "# Your code starts here.\n",
        "pred = knn.predict(X_test)\n",
        "# Your code ends here"
      ],
      "execution_count": 82,
      "outputs": []
    },
    {
      "cell_type": "markdown",
      "metadata": {
        "id": "7IcCOyuOYNDf"
      },
      "source": [
        "**Let us check how correct these predictions are.<br>\n",
        "Print a classification report of y_test and pred**<br>\n",
        "Hint: sklearn classification_report"
      ]
    },
    {
      "cell_type": "code",
      "metadata": {
        "id": "HC-20WeuYNDg",
        "colab": {
          "base_uri": "https://localhost:8080/"
        },
        "outputId": "5035fd8f-7113-4299-91c4-6214cbca3f0d"
      },
      "source": [
        "# Your code starts here.\n",
        "from sklearn.metrics import classification_report\n",
        "print(classification_report(y_test, pred))\n",
        "# Your code ends here"
      ],
      "execution_count": 83,
      "outputs": [
        {
          "output_type": "stream",
          "name": "stdout",
          "text": [
            "              precision    recall  f1-score   support\n",
            "\n",
            "           0       0.89      0.89      0.89       140\n",
            "           1       0.91      0.90      0.90       160\n",
            "\n",
            "    accuracy                           0.90       300\n",
            "   macro avg       0.90      0.90      0.90       300\n",
            "weighted avg       0.90      0.90      0.90       300\n",
            "\n"
          ]
        }
      ]
    },
    {
      "cell_type": "markdown",
      "source": [
        "Learn all about classification metrics - https://medium.com/analytics-vidhya/evaluation-metrics-for-classification-models-e2f0d8009d69"
      ],
      "metadata": {
        "id": "cJgjc8eTqayj"
      }
    },
    {
      "cell_type": "markdown",
      "metadata": {
        "id": "exGvX0C5YNDg"
      },
      "source": [
        "**Print the accuracy using numpy and round it to 3 decimal places.**"
      ]
    },
    {
      "cell_type": "code",
      "metadata": {
        "id": "sSoOx6MiYNDg",
        "colab": {
          "base_uri": "https://localhost:8080/"
        },
        "outputId": "1ac7972b-5062-48f6-f355-9e4aa14c4dbc"
      },
      "source": [
        "# Your code starts here.\n",
        "from sklearn.metrics import accuracy_score\n",
        "a_s=round(accuracy_score(y_test, pred),3)\n",
        "print(a_s)\n",
        "# Your code ends here"
      ],
      "execution_count": 84,
      "outputs": [
        {
          "output_type": "stream",
          "name": "stdout",
          "text": [
            "0.897\n"
          ]
        }
      ]
    },
    {
      "cell_type": "markdown",
      "source": [
        "Hey, not bad! But can we further improve this? Remember our arbitrary choice for n_neighbours? Can we improve that?"
      ],
      "metadata": {
        "id": "Ezn80DmafA_L"
      }
    },
    {
      "cell_type": "markdown",
      "metadata": {
        "id": "UWjjrBrbYNDh"
      },
      "source": [
        "### Choosing optimal 'k'"
      ]
    },
    {
      "cell_type": "markdown",
      "metadata": {
        "id": "IT_5lBDVYNDh"
      },
      "source": [
        "**Above, we chose n_neighbours to be equal to 1. Choosing a small value of K leads to unstable decision boundaries. <br>\n",
        "We need to select n_neighbours by calculating the accuracy for every value of n from 1 to 60 and then choosing the one which gives the highest accuracy.**"
      ]
    },
    {
      "cell_type": "code",
      "metadata": {
        "id": "xPKm3inZYNDh",
        "colab": {
          "base_uri": "https://localhost:8080/"
        },
        "outputId": "5d17fa92-5b1e-4c0e-ee13-ff4738489cf5"
      },
      "source": [
        "# Do the same as we did above, but this time make a loop from n = 1 to n = 60 and append the accuracy\n",
        "# for each in a list\n",
        "# Your code starts here.\n",
        "accuracy_list = []\n",
        "for i in range(1,61):\n",
        "    knn = KNeighborsClassifier(n_neighbors=i)\n",
        "    knn.fit(X_train,y_train.values.ravel())\n",
        "    pred = knn.predict(X_test)\n",
        "    accuracy_list.append(accuracy_score(y_test, pred))\n",
        "print(accuracy_list)\n",
        "print(accuracy_list.index(max(accuracy_list))+1)\n",
        "# Your code ends here"
      ],
      "execution_count": 85,
      "outputs": [
        {
          "output_type": "stream",
          "name": "stdout",
          "text": [
            "[0.8966666666666666, 0.88, 0.9133333333333333, 0.9166666666666666, 0.93, 0.9366666666666666, 0.9366666666666666, 0.93, 0.9366666666666666, 0.9333333333333333, 0.9333333333333333, 0.9333333333333333, 0.93, 0.93, 0.9333333333333333, 0.93, 0.93, 0.93, 0.93, 0.9266666666666666, 0.93, 0.93, 0.93, 0.93, 0.93, 0.9266666666666666, 0.93, 0.9266666666666666, 0.9266666666666666, 0.9233333333333333, 0.9266666666666666, 0.9333333333333333, 0.93, 0.93, 0.93, 0.9333333333333333, 0.9266666666666666, 0.9333333333333333, 0.9333333333333333, 0.9333333333333333, 0.9333333333333333, 0.9333333333333333, 0.9333333333333333, 0.9333333333333333, 0.9333333333333333, 0.9366666666666666, 0.9333333333333333, 0.9333333333333333, 0.9333333333333333, 0.9333333333333333, 0.93, 0.9333333333333333, 0.93, 0.9333333333333333, 0.94, 0.9333333333333333, 0.9333333333333333, 0.9366666666666666, 0.9366666666666666, 0.9333333333333333]\n",
            "55\n"
          ]
        }
      ]
    },
    {
      "cell_type": "markdown",
      "metadata": {
        "id": "5LUl_JMUYNDi"
      },
      "source": [
        "**Plot a graph of K value vs Accuracy**"
      ]
    },
    {
      "cell_type": "code",
      "metadata": {
        "id": "DvsbINxsYNDi",
        "colab": {
          "base_uri": "https://localhost:8080/",
          "height": 466
        },
        "outputId": "a4a786ad-cc41-43f9-981f-8e7e5d83e2e4"
      },
      "source": [
        "# Your code starts here.\n",
        "no_of_nbrs = [no for no in range(1,61)]\n",
        "plt.plot(no_of_nbrs, accuracy_list, label = 'K value vs Accuracy')\n",
        "plt.xlabel('No. of Neighbours')\n",
        "plt.ylabel('Accuracy')\n",
        "# Your code ends here"
      ],
      "execution_count": 86,
      "outputs": [
        {
          "output_type": "execute_result",
          "data": {
            "text/plain": [
              "Text(0, 0.5, 'Accuracy')"
            ]
          },
          "metadata": {},
          "execution_count": 86
        },
        {
          "output_type": "display_data",
          "data": {
            "text/plain": [
              "<Figure size 640x480 with 1 Axes>"
            ],
            "image/png": "[encoded data removed]"
          },
          "metadata": {}
        }
      ]
    },
    {
      "cell_type": "markdown",
      "metadata": {
        "id": "KO4KK1WEYNDi"
      },
      "source": [
        "**Choose the best value of n_neighbours and give a reason why and also print the accuracy**"
      ]
    },
    {
      "cell_type": "code",
      "metadata": {
        "id": "SWf5hh-jYNDj",
        "colab": {
          "base_uri": "https://localhost:8080/"
        },
        "outputId": "a062abd0-8bdb-465f-e712-8ac1f00d13d5"
      },
      "source": [
        "# Your code starts here.\n",
        "n_acc_best = accuracy_list[54]\n",
        "n_neigh_best = 55\n",
        "print(\"Best value of n_neighbours:\",n_neigh_best)\n",
        "print(\"Corresponding highest accuracy:\",n_acc_best)\n",
        "# Your code ends here"
      ],
      "execution_count": 87,
      "outputs": [
        {
          "output_type": "stream",
          "name": "stdout",
          "text": [
            "Best value of n_neighbours: 55\n",
            "Corresponding highest accuracy: 0.94\n"
          ]
        }
      ]
    },
    {
      "cell_type": "code",
      "metadata": {
        "id": "8gIMbzLJd8bu",
        "colab": {
          "base_uri": "https://localhost:8080/",
          "height": 88
        },
        "outputId": "eaa3976b-1050-4444-9943-7052a72fec02"
      },
      "source": [
        "# Reasons:\n",
        "\"\"\" Low values of neighbours are used like 1 or 2 can be noisy and can be heavily affected by outliers too ,\n",
        "very high values of neighbours will be a problem when some of the categories have less samples as high number of neighbours can\n",
        "totally ignore that category after a certain number of neighbours ,\n",
        "so we have to find out an optimum number which is neither large nor small\n",
        "In our case when finding out between 1 to 60 neighbours we got the best accuracy in 55 neighbours\n",
        "so we chose to put 55 neighbours for the highest accuracy\n",
        "  \"\"\""
      ],
      "execution_count": 88,
      "outputs": [
        {
          "output_type": "execute_result",
          "data": {
            "text/plain": [
              "' Low values of neighbours are used like 1 or 2 can be noisy and can be heavily affected by outliers too ,\\nvery high values of neighbours will be a problem when some of the categories have less samples as high number of neighbours can\\ntotally ignore that category after a certain number of neighbours ,\\nso we have to find out an optimum number which is neither large nor small\\nIn our case when finding out between 1 to 60 neighbours we got the best accuracy in 55 neighbours\\nso we chose to put 55 neighbours for the highest accuracy\\n  '"
            ],
            "application/vnd.google.colaboratory.intrinsic+json": {
              "type": "string"
            }
          },
          "metadata": {},
          "execution_count": 88
        }
      ]
    },
    {
      "cell_type": "markdown",
      "source": [
        "# **Bonus: To be done only if you have completed the above tasks.**"
      ],
      "metadata": {
        "id": "k9XhFGEqHZQn"
      }
    },
    {
      "cell_type": "markdown",
      "source": [
        "You can research and create a short blog on the topic of **Reinforcement Learning**. The best research will be edited and featured on the Synapse Instagram page. Happy coding! :)"
      ],
      "metadata": {
        "id": "SygIgxENHr83"
      }
    },
    {
      "cell_type": "markdown",
      "source": [
        "# **End of Task**\n",
        "\n",
        "> ©DJS Synapse 2023 - 2024\n",
        "\n"
      ],
      "metadata": {
        "id": "xAXGpxm2Wcmm"
      }
    }
  ]
}